{
 "cells": [
  {
   "cell_type": "markdown",
   "id": "9dd787c3",
   "metadata": {
    "id": "view-in-github",
    "papermill": {
     "duration": 0.015084,
     "end_time": "2024-07-18T16:01:49.318195",
     "exception": false,
     "start_time": "2024-07-18T16:01:49.303111",
     "status": "completed"
    },
    "tags": []
   },
   "source": [
    "<a href=\"https://colab.research.google.com/github/HalyshAnton/IT-Step-Pyton-AI/blob/main/module2/pandas.ipynb\" target=\"_parent\"><img src=\"https://colab.research.google.com/assets/colab-badge.svg\" alt=\"Open In Colab\"/></a>"
   ]
  },
  {
   "cell_type": "markdown",
   "id": "3f9b9ca8",
   "metadata": {
    "id": "wl9neTs7u8Hw",
    "papermill": {
     "duration": 0.014029,
     "end_time": "2024-07-18T16:01:49.347169",
     "exception": false,
     "start_time": "2024-07-18T16:01:49.333140",
     "status": "completed"
    },
    "tags": []
   },
   "source": [
    "# Pandas\n",
    "\n",
    "Мабуть, найважливішою структурою даних pandas є `DataFrame`. Це таблична структура, тісно інтегрована з `Series`.\n"
   ]
  },
  {
   "cell_type": "code",
   "execution_count": 1,
   "id": "9e033998",
   "metadata": {
    "execution": {
     "iopub.execute_input": "2024-07-18T16:01:49.379524Z",
     "iopub.status.busy": "2024-07-18T16:01:49.378963Z",
     "iopub.status.idle": "2024-07-18T16:01:50.322560Z",
     "shell.execute_reply": "2024-07-18T16:01:50.321279Z"
    },
    "id": "cX_Pbr8Uu8H2",
    "papermill": {
     "duration": 0.963107,
     "end_time": "2024-07-18T16:01:50.325256",
     "exception": false,
     "start_time": "2024-07-18T16:01:49.362149",
     "status": "completed"
    },
    "tags": []
   },
   "outputs": [],
   "source": [
    "import numpy as np\n",
    "import pandas as pd"
   ]
  },
  {
   "cell_type": "markdown",
   "id": "7abc70d6",
   "metadata": {
    "id": "aRq5Fjl0u8H4",
    "papermill": {
     "duration": 0.014173,
     "end_time": "2024-07-18T16:01:50.355321",
     "exception": false,
     "start_time": "2024-07-18T16:01:50.341148",
     "status": "completed"
    },
    "tags": []
   },
   "source": [
    "Ми проведемо аналіз країн G7 і зараз розглянемо DataFrames.\n",
    "\n",
    "\n",
    "<img width=\"700\" src=\"https://user-images.githubusercontent.com/872296/38153492-72c032ca-3443-11e8-80f4-9de9060a5127.png\" />\n",
    "\n",
    "Створення `DataFrame` вручну може бути виснажливим. У 99% випадків ви отримуватимете дані з бази даних, файлу CSV або Інтернету. Але все ж ви можете створити DataFrame, вказавши стовпці та значення:"
   ]
  },
  {
   "cell_type": "code",
   "execution_count": 2,
   "id": "412ef9a3",
   "metadata": {
    "execution": {
     "iopub.execute_input": "2024-07-18T16:01:50.386193Z",
     "iopub.status.busy": "2024-07-18T16:01:50.385665Z",
     "iopub.status.idle": "2024-07-18T16:01:50.400079Z",
     "shell.execute_reply": "2024-07-18T16:01:50.396424Z"
    },
    "id": "jd4DTsoTu8H4",
    "papermill": {
     "duration": 0.033036,
     "end_time": "2024-07-18T16:01:50.402882",
     "exception": false,
     "start_time": "2024-07-18T16:01:50.369846",
     "status": "completed"
    },
    "tags": []
   },
   "outputs": [],
   "source": [
    "df = pd.DataFrame({\n",
    "    'Name': [\n",
    "        'Canada',\n",
    "        'France',\n",
    "        'Germany',\n",
    "        'Italy',\n",
    "        'Japan',\n",
    "        'United Kingdom',\n",
    "        'United States',\n",
    "    ],\n",
    "    'Population': [35.467, 63.951, 80.94 , 60.665, 127.061, 64.511, 318.523],\n",
    "    'GDP': [\n",
    "        1785387,\n",
    "        2833687,\n",
    "        3874437,\n",
    "        2167744,\n",
    "        4602367,\n",
    "        2950039,\n",
    "        17348075\n",
    "    ],\n",
    "    'Surface Area': [\n",
    "        9984670,\n",
    "        640679,\n",
    "        357114,\n",
    "        301336,\n",
    "        377930,\n",
    "        242495,\n",
    "        9525067\n",
    "    ],\n",
    "    'HDI': [\n",
    "        0.913,\n",
    "        0.888,\n",
    "        0.916,\n",
    "        0.873,\n",
    "        0.891,\n",
    "        0.907,\n",
    "        0.915\n",
    "    ],\n",
    "    'Continent': [\n",
    "        'America',\n",
    "        'Europe',\n",
    "        'Europe',\n",
    "        'Europe',\n",
    "        'Asia',\n",
    "        'Europe',\n",
    "        'America'\n",
    "        \n",
    "    ]\n",
    "})"
   ]
  },
  {
   "cell_type": "code",
   "execution_count": 3,
   "id": "a9032174",
   "metadata": {
    "execution": {
     "iopub.execute_input": "2024-07-18T16:01:50.433973Z",
     "iopub.status.busy": "2024-07-18T16:01:50.433548Z",
     "iopub.status.idle": "2024-07-18T16:01:50.461806Z",
     "shell.execute_reply": "2024-07-18T16:01:50.460684Z"
    },
    "id": "v9AamV9Bu8H5",
    "outputId": "3971b5e3-3738-4d4a-d709-23065051f50a",
    "papermill": {
     "duration": 0.046604,
     "end_time": "2024-07-18T16:01:50.464267",
     "exception": false,
     "start_time": "2024-07-18T16:01:50.417663",
     "status": "completed"
    },
    "scrolled": true,
    "tags": []
   },
   "outputs": [
    {
     "data": {
      "text/html": [
       "<div>\n",
       "<style scoped>\n",
       "    .dataframe tbody tr th:only-of-type {\n",
       "        vertical-align: middle;\n",
       "    }\n",
       "\n",
       "    .dataframe tbody tr th {\n",
       "        vertical-align: top;\n",
       "    }\n",
       "\n",
       "    .dataframe thead th {\n",
       "        text-align: right;\n",
       "    }\n",
       "</style>\n",
       "<table border=\"1\" class=\"dataframe\">\n",
       "  <thead>\n",
       "    <tr style=\"text-align: right;\">\n",
       "      <th></th>\n",
       "      <th>Name</th>\n",
       "      <th>Population</th>\n",
       "      <th>GDP</th>\n",
       "      <th>Surface Area</th>\n",
       "      <th>HDI</th>\n",
       "      <th>Continent</th>\n",
       "    </tr>\n",
       "  </thead>\n",
       "  <tbody>\n",
       "    <tr>\n",
       "      <th>0</th>\n",
       "      <td>Canada</td>\n",
       "      <td>35.467</td>\n",
       "      <td>1785387</td>\n",
       "      <td>9984670</td>\n",
       "      <td>0.913</td>\n",
       "      <td>America</td>\n",
       "    </tr>\n",
       "    <tr>\n",
       "      <th>1</th>\n",
       "      <td>France</td>\n",
       "      <td>63.951</td>\n",
       "      <td>2833687</td>\n",
       "      <td>640679</td>\n",
       "      <td>0.888</td>\n",
       "      <td>Europe</td>\n",
       "    </tr>\n",
       "    <tr>\n",
       "      <th>2</th>\n",
       "      <td>Germany</td>\n",
       "      <td>80.940</td>\n",
       "      <td>3874437</td>\n",
       "      <td>357114</td>\n",
       "      <td>0.916</td>\n",
       "      <td>Europe</td>\n",
       "    </tr>\n",
       "    <tr>\n",
       "      <th>3</th>\n",
       "      <td>Italy</td>\n",
       "      <td>60.665</td>\n",
       "      <td>2167744</td>\n",
       "      <td>301336</td>\n",
       "      <td>0.873</td>\n",
       "      <td>Europe</td>\n",
       "    </tr>\n",
       "    <tr>\n",
       "      <th>4</th>\n",
       "      <td>Japan</td>\n",
       "      <td>127.061</td>\n",
       "      <td>4602367</td>\n",
       "      <td>377930</td>\n",
       "      <td>0.891</td>\n",
       "      <td>Asia</td>\n",
       "    </tr>\n",
       "    <tr>\n",
       "      <th>5</th>\n",
       "      <td>United Kingdom</td>\n",
       "      <td>64.511</td>\n",
       "      <td>2950039</td>\n",
       "      <td>242495</td>\n",
       "      <td>0.907</td>\n",
       "      <td>Europe</td>\n",
       "    </tr>\n",
       "    <tr>\n",
       "      <th>6</th>\n",
       "      <td>United States</td>\n",
       "      <td>318.523</td>\n",
       "      <td>17348075</td>\n",
       "      <td>9525067</td>\n",
       "      <td>0.915</td>\n",
       "      <td>America</td>\n",
       "    </tr>\n",
       "  </tbody>\n",
       "</table>\n",
       "</div>"
      ],
      "text/plain": [
       "             Name  Population       GDP  Surface Area    HDI Continent\n",
       "0          Canada      35.467   1785387       9984670  0.913   America\n",
       "1          France      63.951   2833687        640679  0.888    Europe\n",
       "2         Germany      80.940   3874437        357114  0.916    Europe\n",
       "3           Italy      60.665   2167744        301336  0.873    Europe\n",
       "4           Japan     127.061   4602367        377930  0.891      Asia\n",
       "5  United Kingdom      64.511   2950039        242495  0.907    Europe\n",
       "6   United States     318.523  17348075       9525067  0.915   America"
      ]
     },
     "execution_count": 3,
     "metadata": {},
     "output_type": "execute_result"
    }
   ],
   "source": [
    "df"
   ]
  },
  {
   "cell_type": "markdown",
   "id": "bf1ecf84",
   "metadata": {
    "id": "PL0sUgg-u8H6",
    "papermill": {
     "duration": 0.014836,
     "end_time": "2024-07-18T16:01:50.494361",
     "exception": false,
     "start_time": "2024-07-18T16:01:50.479525",
     "status": "completed"
    },
    "tags": []
   },
   "source": [
    "`DataFrame` також мають індекси рядків. Як ви можете бачити в «таблиці» вище, pandas автоматично призначила числовий зромтаючий індекс кожному «рядку» в нашому DataFrame.\n",
    "\n",
    "Стовпці \"індексуються\" назвами типу `str`"
   ]
  },
  {
   "cell_type": "code",
   "execution_count": 4,
   "id": "29d1003d",
   "metadata": {
    "execution": {
     "iopub.execute_input": "2024-07-18T16:01:50.525863Z",
     "iopub.status.busy": "2024-07-18T16:01:50.525402Z",
     "iopub.status.idle": "2024-07-18T16:01:50.533409Z",
     "shell.execute_reply": "2024-07-18T16:01:50.532181Z"
    },
    "id": "yE8sr1Bzu8H6",
    "outputId": "ad1e39f9-d33b-474b-fe8d-6193cce85b58",
    "papermill": {
     "duration": 0.026411,
     "end_time": "2024-07-18T16:01:50.535698",
     "exception": false,
     "start_time": "2024-07-18T16:01:50.509287",
     "status": "completed"
    },
    "tags": []
   },
   "outputs": [
    {
     "data": {
      "text/plain": [
       "Index(['Name', 'Population', 'GDP', 'Surface Area', 'HDI', 'Continent'], dtype='object')"
      ]
     },
     "execution_count": 4,
     "metadata": {},
     "output_type": "execute_result"
    }
   ],
   "source": [
    "df.columns"
   ]
  },
  {
   "cell_type": "code",
   "execution_count": 5,
   "id": "fe316dc2",
   "metadata": {
    "execution": {
     "iopub.execute_input": "2024-07-18T16:01:50.567897Z",
     "iopub.status.busy": "2024-07-18T16:01:50.567493Z",
     "iopub.status.idle": "2024-07-18T16:01:50.575276Z",
     "shell.execute_reply": "2024-07-18T16:01:50.573897Z"
    },
    "id": "SDVwPmiBu8H7",
    "outputId": "c21f60d0-2b1f-4b9e-b837-b7cbf8fdc95e",
    "papermill": {
     "duration": 0.026619,
     "end_time": "2024-07-18T16:01:50.577706",
     "exception": false,
     "start_time": "2024-07-18T16:01:50.551087",
     "status": "completed"
    },
    "tags": []
   },
   "outputs": [
    {
     "data": {
      "text/plain": [
       "RangeIndex(start=0, stop=7, step=1)"
      ]
     },
     "execution_count": 5,
     "metadata": {},
     "output_type": "execute_result"
    }
   ],
   "source": [
    "df.index"
   ]
  },
  {
   "cell_type": "code",
   "execution_count": 6,
   "id": "6cb6ea3d",
   "metadata": {
    "execution": {
     "iopub.execute_input": "2024-07-18T16:01:50.611325Z",
     "iopub.status.busy": "2024-07-18T16:01:50.610227Z",
     "iopub.status.idle": "2024-07-18T16:01:50.637224Z",
     "shell.execute_reply": "2024-07-18T16:01:50.635680Z"
    },
    "id": "tOwxeSrOu8H7",
    "outputId": "eace4343-b1e2-4dd3-f38e-4ee17667ee37",
    "papermill": {
     "duration": 0.046378,
     "end_time": "2024-07-18T16:01:50.640176",
     "exception": false,
     "start_time": "2024-07-18T16:01:50.593798",
     "status": "completed"
    },
    "tags": []
   },
   "outputs": [
    {
     "name": "stdout",
     "output_type": "stream",
     "text": [
      "<class 'pandas.core.frame.DataFrame'>\n",
      "RangeIndex: 7 entries, 0 to 6\n",
      "Data columns (total 6 columns):\n",
      " #   Column        Non-Null Count  Dtype  \n",
      "---  ------        --------------  -----  \n",
      " 0   Name          7 non-null      object \n",
      " 1   Population    7 non-null      float64\n",
      " 2   GDP           7 non-null      int64  \n",
      " 3   Surface Area  7 non-null      int64  \n",
      " 4   HDI           7 non-null      float64\n",
      " 5   Continent     7 non-null      object \n",
      "dtypes: float64(2), int64(2), object(2)\n",
      "memory usage: 464.0+ bytes\n"
     ]
    }
   ],
   "source": [
    "df.info()"
   ]
  },
  {
   "cell_type": "code",
   "execution_count": 7,
   "id": "5cf0bd5a",
   "metadata": {
    "execution": {
     "iopub.execute_input": "2024-07-18T16:01:50.672427Z",
     "iopub.status.busy": "2024-07-18T16:01:50.671623Z",
     "iopub.status.idle": "2024-07-18T16:01:50.679278Z",
     "shell.execute_reply": "2024-07-18T16:01:50.677665Z"
    },
    "id": "cd0NIN6_u8H8",
    "outputId": "d8b1ad41-4e58-425f-f8a4-56752c1052e6",
    "papermill": {
     "duration": 0.026847,
     "end_time": "2024-07-18T16:01:50.682123",
     "exception": false,
     "start_time": "2024-07-18T16:01:50.655276",
     "status": "completed"
    },
    "tags": []
   },
   "outputs": [
    {
     "data": {
      "text/plain": [
       "42"
      ]
     },
     "execution_count": 7,
     "metadata": {},
     "output_type": "execute_result"
    }
   ],
   "source": [
    "df.size"
   ]
  },
  {
   "cell_type": "code",
   "execution_count": 8,
   "id": "47745455",
   "metadata": {
    "execution": {
     "iopub.execute_input": "2024-07-18T16:01:50.715582Z",
     "iopub.status.busy": "2024-07-18T16:01:50.715179Z",
     "iopub.status.idle": "2024-07-18T16:01:50.722560Z",
     "shell.execute_reply": "2024-07-18T16:01:50.721297Z"
    },
    "id": "Z3gbRTJdu8H8",
    "outputId": "1b6e6fc8-5727-4d9a-fc8c-3d97db9b9e61",
    "papermill": {
     "duration": 0.027272,
     "end_time": "2024-07-18T16:01:50.725019",
     "exception": false,
     "start_time": "2024-07-18T16:01:50.697747",
     "status": "completed"
    },
    "tags": []
   },
   "outputs": [
    {
     "data": {
      "text/plain": [
       "(7, 6)"
      ]
     },
     "execution_count": 8,
     "metadata": {},
     "output_type": "execute_result"
    }
   ],
   "source": [
    "df.shape"
   ]
  },
  {
   "cell_type": "code",
   "execution_count": 9,
   "id": "7b61b486",
   "metadata": {
    "execution": {
     "iopub.execute_input": "2024-07-18T16:01:50.759045Z",
     "iopub.status.busy": "2024-07-18T16:01:50.758279Z",
     "iopub.status.idle": "2024-07-18T16:01:50.766743Z",
     "shell.execute_reply": "2024-07-18T16:01:50.765608Z"
    },
    "id": "qEtdDCOTu8H8",
    "outputId": "2cb89fe4-9cb0-454c-af5d-a80a0e51bc12",
    "papermill": {
     "duration": 0.027829,
     "end_time": "2024-07-18T16:01:50.769031",
     "exception": false,
     "start_time": "2024-07-18T16:01:50.741202",
     "status": "completed"
    },
    "tags": []
   },
   "outputs": [
    {
     "data": {
      "text/plain": [
       "Name             object\n",
       "Population      float64\n",
       "GDP               int64\n",
       "Surface Area      int64\n",
       "HDI             float64\n",
       "Continent        object\n",
       "dtype: object"
      ]
     },
     "execution_count": 9,
     "metadata": {},
     "output_type": "execute_result"
    }
   ],
   "source": [
    "df.dtypes"
   ]
  },
  {
   "cell_type": "markdown",
   "id": "598a426f",
   "metadata": {
    "id": "5-vMKbTnu8H9",
    "papermill": {
     "duration": 0.015617,
     "end_time": "2024-07-18T16:01:50.800267",
     "exception": false,
     "start_time": "2024-07-18T16:01:50.784650",
     "status": "completed"
    },
    "tags": []
   },
   "source": [
    "## Індексування та відбір\n",
    "Окремі стовпці в DataFrame можна вибирати за допомогою звичайного індексування. Кожен стовпець представлено як `Series`:"
   ]
  },
  {
   "cell_type": "code",
   "execution_count": 10,
   "id": "3d6232a3",
   "metadata": {
    "execution": {
     "iopub.execute_input": "2024-07-18T16:01:50.834324Z",
     "iopub.status.busy": "2024-07-18T16:01:50.833156Z",
     "iopub.status.idle": "2024-07-18T16:01:50.847723Z",
     "shell.execute_reply": "2024-07-18T16:01:50.846431Z"
    },
    "id": "DUqjlFt9u8H9",
    "outputId": "5ff4ff84-49a1-43f0-e4a7-5d861cbed100",
    "papermill": {
     "duration": 0.033568,
     "end_time": "2024-07-18T16:01:50.849983",
     "exception": false,
     "start_time": "2024-07-18T16:01:50.816415",
     "status": "completed"
    },
    "tags": []
   },
   "outputs": [
    {
     "data": {
      "text/html": [
       "<div>\n",
       "<style scoped>\n",
       "    .dataframe tbody tr th:only-of-type {\n",
       "        vertical-align: middle;\n",
       "    }\n",
       "\n",
       "    .dataframe tbody tr th {\n",
       "        vertical-align: top;\n",
       "    }\n",
       "\n",
       "    .dataframe thead th {\n",
       "        text-align: right;\n",
       "    }\n",
       "</style>\n",
       "<table border=\"1\" class=\"dataframe\">\n",
       "  <thead>\n",
       "    <tr style=\"text-align: right;\">\n",
       "      <th></th>\n",
       "      <th>Name</th>\n",
       "      <th>Population</th>\n",
       "      <th>GDP</th>\n",
       "      <th>Surface Area</th>\n",
       "      <th>HDI</th>\n",
       "      <th>Continent</th>\n",
       "    </tr>\n",
       "  </thead>\n",
       "  <tbody>\n",
       "    <tr>\n",
       "      <th>0</th>\n",
       "      <td>Canada</td>\n",
       "      <td>35.467</td>\n",
       "      <td>1785387</td>\n",
       "      <td>9984670</td>\n",
       "      <td>0.913</td>\n",
       "      <td>America</td>\n",
       "    </tr>\n",
       "    <tr>\n",
       "      <th>1</th>\n",
       "      <td>France</td>\n",
       "      <td>63.951</td>\n",
       "      <td>2833687</td>\n",
       "      <td>640679</td>\n",
       "      <td>0.888</td>\n",
       "      <td>Europe</td>\n",
       "    </tr>\n",
       "    <tr>\n",
       "      <th>2</th>\n",
       "      <td>Germany</td>\n",
       "      <td>80.940</td>\n",
       "      <td>3874437</td>\n",
       "      <td>357114</td>\n",
       "      <td>0.916</td>\n",
       "      <td>Europe</td>\n",
       "    </tr>\n",
       "    <tr>\n",
       "      <th>3</th>\n",
       "      <td>Italy</td>\n",
       "      <td>60.665</td>\n",
       "      <td>2167744</td>\n",
       "      <td>301336</td>\n",
       "      <td>0.873</td>\n",
       "      <td>Europe</td>\n",
       "    </tr>\n",
       "    <tr>\n",
       "      <th>4</th>\n",
       "      <td>Japan</td>\n",
       "      <td>127.061</td>\n",
       "      <td>4602367</td>\n",
       "      <td>377930</td>\n",
       "      <td>0.891</td>\n",
       "      <td>Asia</td>\n",
       "    </tr>\n",
       "    <tr>\n",
       "      <th>5</th>\n",
       "      <td>United Kingdom</td>\n",
       "      <td>64.511</td>\n",
       "      <td>2950039</td>\n",
       "      <td>242495</td>\n",
       "      <td>0.907</td>\n",
       "      <td>Europe</td>\n",
       "    </tr>\n",
       "    <tr>\n",
       "      <th>6</th>\n",
       "      <td>United States</td>\n",
       "      <td>318.523</td>\n",
       "      <td>17348075</td>\n",
       "      <td>9525067</td>\n",
       "      <td>0.915</td>\n",
       "      <td>America</td>\n",
       "    </tr>\n",
       "  </tbody>\n",
       "</table>\n",
       "</div>"
      ],
      "text/plain": [
       "             Name  Population       GDP  Surface Area    HDI Continent\n",
       "0          Canada      35.467   1785387       9984670  0.913   America\n",
       "1          France      63.951   2833687        640679  0.888    Europe\n",
       "2         Germany      80.940   3874437        357114  0.916    Europe\n",
       "3           Italy      60.665   2167744        301336  0.873    Europe\n",
       "4           Japan     127.061   4602367        377930  0.891      Asia\n",
       "5  United Kingdom      64.511   2950039        242495  0.907    Europe\n",
       "6   United States     318.523  17348075       9525067  0.915   America"
      ]
     },
     "execution_count": 10,
     "metadata": {},
     "output_type": "execute_result"
    }
   ],
   "source": [
    "df"
   ]
  },
  {
   "cell_type": "code",
   "execution_count": 11,
   "id": "7b9a9f93",
   "metadata": {
    "execution": {
     "iopub.execute_input": "2024-07-18T16:01:50.883131Z",
     "iopub.status.busy": "2024-07-18T16:01:50.882711Z",
     "iopub.status.idle": "2024-07-18T16:01:50.891199Z",
     "shell.execute_reply": "2024-07-18T16:01:50.889928Z"
    },
    "id": "Y9uoHPmvu8H-",
    "outputId": "fe921261-74c9-4246-fba1-9215328eccac",
    "papermill": {
     "duration": 0.027947,
     "end_time": "2024-07-18T16:01:50.893470",
     "exception": false,
     "start_time": "2024-07-18T16:01:50.865523",
     "status": "completed"
    },
    "scrolled": true,
    "tags": []
   },
   "outputs": [
    {
     "data": {
      "text/plain": [
       "0     35.467\n",
       "1     63.951\n",
       "2     80.940\n",
       "3     60.665\n",
       "4    127.061\n",
       "5     64.511\n",
       "6    318.523\n",
       "Name: Population, dtype: float64"
      ]
     },
     "execution_count": 11,
     "metadata": {},
     "output_type": "execute_result"
    }
   ],
   "source": [
    "df['Population']"
   ]
  },
  {
   "cell_type": "markdown",
   "id": "71e38656",
   "metadata": {
    "id": "Sf0elxYgu8H-",
    "papermill": {
     "duration": 0.015273,
     "end_time": "2024-07-18T16:01:50.924229",
     "exception": false,
     "start_time": "2024-07-18T16:01:50.908956",
     "status": "completed"
    },
    "tags": []
   },
   "source": [
    "Кілька стовпців також можна вибрати подібно до `numpy` і `Series`:"
   ]
  },
  {
   "cell_type": "code",
   "execution_count": 12,
   "id": "dda33c9f",
   "metadata": {
    "execution": {
     "iopub.execute_input": "2024-07-18T16:01:50.956835Z",
     "iopub.status.busy": "2024-07-18T16:01:50.956402Z",
     "iopub.status.idle": "2024-07-18T16:01:50.971650Z",
     "shell.execute_reply": "2024-07-18T16:01:50.970300Z"
    },
    "id": "ekJK7KXAu8H-",
    "outputId": "7a33440e-c701-4f2a-fe0d-978ddee169b9",
    "papermill": {
     "duration": 0.034621,
     "end_time": "2024-07-18T16:01:50.974192",
     "exception": false,
     "start_time": "2024-07-18T16:01:50.939571",
     "status": "completed"
    },
    "scrolled": true,
    "tags": []
   },
   "outputs": [
    {
     "data": {
      "text/html": [
       "<div>\n",
       "<style scoped>\n",
       "    .dataframe tbody tr th:only-of-type {\n",
       "        vertical-align: middle;\n",
       "    }\n",
       "\n",
       "    .dataframe tbody tr th {\n",
       "        vertical-align: top;\n",
       "    }\n",
       "\n",
       "    .dataframe thead th {\n",
       "        text-align: right;\n",
       "    }\n",
       "</style>\n",
       "<table border=\"1\" class=\"dataframe\">\n",
       "  <thead>\n",
       "    <tr style=\"text-align: right;\">\n",
       "      <th></th>\n",
       "      <th>Name</th>\n",
       "      <th>Population</th>\n",
       "    </tr>\n",
       "  </thead>\n",
       "  <tbody>\n",
       "    <tr>\n",
       "      <th>0</th>\n",
       "      <td>Canada</td>\n",
       "      <td>35.467</td>\n",
       "    </tr>\n",
       "    <tr>\n",
       "      <th>1</th>\n",
       "      <td>France</td>\n",
       "      <td>63.951</td>\n",
       "    </tr>\n",
       "    <tr>\n",
       "      <th>2</th>\n",
       "      <td>Germany</td>\n",
       "      <td>80.940</td>\n",
       "    </tr>\n",
       "    <tr>\n",
       "      <th>3</th>\n",
       "      <td>Italy</td>\n",
       "      <td>60.665</td>\n",
       "    </tr>\n",
       "    <tr>\n",
       "      <th>4</th>\n",
       "      <td>Japan</td>\n",
       "      <td>127.061</td>\n",
       "    </tr>\n",
       "    <tr>\n",
       "      <th>5</th>\n",
       "      <td>United Kingdom</td>\n",
       "      <td>64.511</td>\n",
       "    </tr>\n",
       "    <tr>\n",
       "      <th>6</th>\n",
       "      <td>United States</td>\n",
       "      <td>318.523</td>\n",
       "    </tr>\n",
       "  </tbody>\n",
       "</table>\n",
       "</div>"
      ],
      "text/plain": [
       "             Name  Population\n",
       "0          Canada      35.467\n",
       "1          France      63.951\n",
       "2         Germany      80.940\n",
       "3           Italy      60.665\n",
       "4           Japan     127.061\n",
       "5  United Kingdom      64.511\n",
       "6   United States     318.523"
      ]
     },
     "execution_count": 12,
     "metadata": {},
     "output_type": "execute_result"
    }
   ],
   "source": [
    "df[['Name', 'Population']]"
   ]
  },
  {
   "cell_type": "markdown",
   "id": "8835a215",
   "metadata": {
    "id": "SecpvoMAwhXM",
    "papermill": {
     "duration": 0.015582,
     "end_time": "2024-07-18T16:01:51.005564",
     "exception": false,
     "start_time": "2024-07-18T16:01:50.989982",
     "status": "completed"
    },
    "tags": []
   },
   "source": [
    "Для індексування `DataFrame` як матрицю `numpy` можна використовувати метод iloc"
   ]
  },
  {
   "cell_type": "code",
   "execution_count": 13,
   "id": "df57de93",
   "metadata": {
    "execution": {
     "iopub.execute_input": "2024-07-18T16:01:51.039037Z",
     "iopub.status.busy": "2024-07-18T16:01:51.038623Z",
     "iopub.status.idle": "2024-07-18T16:01:51.046665Z",
     "shell.execute_reply": "2024-07-18T16:01:51.045430Z"
    },
    "id": "e10Sx0k0wbvP",
    "outputId": "0bb2841c-2c45-49eb-b0c9-0a1e93813b57",
    "papermill": {
     "duration": 0.027571,
     "end_time": "2024-07-18T16:01:51.048854",
     "exception": false,
     "start_time": "2024-07-18T16:01:51.021283",
     "status": "completed"
    },
    "tags": []
   },
   "outputs": [
    {
     "data": {
      "text/plain": [
       "0            Canada\n",
       "1            France\n",
       "2           Germany\n",
       "3             Italy\n",
       "4             Japan\n",
       "5    United Kingdom\n",
       "6     United States\n",
       "Name: Name, dtype: object"
      ]
     },
     "execution_count": 13,
     "metadata": {},
     "output_type": "execute_result"
    }
   ],
   "source": [
    "# df.iloc[:, 0]\n",
    "df.iloc[:, 0]"
   ]
  },
  {
   "cell_type": "markdown",
   "id": "8cac8e31",
   "metadata": {
    "id": "LSjSwSEFxsr7",
    "papermill": {
     "duration": 0.015568,
     "end_time": "2024-07-18T16:01:51.080133",
     "exception": false,
     "start_time": "2024-07-18T16:01:51.064565",
     "status": "completed"
    },
    "tags": []
   },
   "source": [
    "Якщо потрібно вказувати не індекси, а назви стовпців, то використовуємо метод loc"
   ]
  },
  {
   "cell_type": "code",
   "execution_count": 14,
   "id": "2c01e3fa",
   "metadata": {
    "execution": {
     "iopub.execute_input": "2024-07-18T16:01:51.172525Z",
     "iopub.status.busy": "2024-07-18T16:01:51.172115Z",
     "iopub.status.idle": "2024-07-18T16:01:51.183476Z",
     "shell.execute_reply": "2024-07-18T16:01:51.182307Z"
    },
    "id": "d7i9IIyAx9nM",
    "outputId": "adda9024-d1c1-430c-9a09-39bcb9ee15f8",
    "papermill": {
     "duration": 0.090146,
     "end_time": "2024-07-18T16:01:51.186013",
     "exception": false,
     "start_time": "2024-07-18T16:01:51.095867",
     "status": "completed"
    },
    "tags": []
   },
   "outputs": [
    {
     "name": "stdout",
     "output_type": "stream",
     "text": [
      "             Name  Population\n",
      "0          Canada      35.467\n",
      "1          France      63.951\n",
      "2         Germany      80.940\n",
      "3           Italy      60.665\n",
      "4           Japan     127.061\n",
      "5  United Kingdom      64.511\n",
      "6   United States     318.523\n",
      "             Name  Population\n",
      "6   United States     318.523\n",
      "5  United Kingdom      64.511\n",
      "4           Japan     127.061\n",
      "3           Italy      60.665\n",
      "2         Germany      80.940\n",
      "1          France      63.951\n",
      "0          Canada      35.467\n"
     ]
    }
   ],
   "source": [
    "print(df.loc[:, ['Name', 'Population']])\n",
    "\n",
    "print(df.loc[::-1, ['Name', 'Population']])"
   ]
  },
  {
   "cell_type": "markdown",
   "id": "89913e07",
   "metadata": {
    "id": "1hSydDiLu8IE",
    "papermill": {
     "duration": 0.015771,
     "end_time": "2024-07-18T16:01:51.218033",
     "exception": false,
     "start_time": "2024-07-18T16:01:51.202262",
     "status": "completed"
    },
    "tags": []
   },
   "source": [
    "## Умовний вибір (булеві масиви)\n",
    "\n",
    "Ми бачили умовний вибір, застосований в `numpy`, і він працюватиме таким же чином для `DataFrame`."
   ]
  },
  {
   "cell_type": "code",
   "execution_count": 15,
   "id": "f5c421f5",
   "metadata": {
    "execution": {
     "iopub.execute_input": "2024-07-18T16:01:51.252503Z",
     "iopub.status.busy": "2024-07-18T16:01:51.252068Z",
     "iopub.status.idle": "2024-07-18T16:01:51.265353Z",
     "shell.execute_reply": "2024-07-18T16:01:51.264298Z"
    },
    "id": "XZCsLg4qu8IE",
    "outputId": "ba5b713c-6690-4448-a115-21d3ab07791e",
    "papermill": {
     "duration": 0.033221,
     "end_time": "2024-07-18T16:01:51.267728",
     "exception": false,
     "start_time": "2024-07-18T16:01:51.234507",
     "status": "completed"
    },
    "tags": []
   },
   "outputs": [
    {
     "data": {
      "text/html": [
       "<div>\n",
       "<style scoped>\n",
       "    .dataframe tbody tr th:only-of-type {\n",
       "        vertical-align: middle;\n",
       "    }\n",
       "\n",
       "    .dataframe tbody tr th {\n",
       "        vertical-align: top;\n",
       "    }\n",
       "\n",
       "    .dataframe thead th {\n",
       "        text-align: right;\n",
       "    }\n",
       "</style>\n",
       "<table border=\"1\" class=\"dataframe\">\n",
       "  <thead>\n",
       "    <tr style=\"text-align: right;\">\n",
       "      <th></th>\n",
       "      <th>Name</th>\n",
       "      <th>Population</th>\n",
       "      <th>GDP</th>\n",
       "      <th>Surface Area</th>\n",
       "      <th>HDI</th>\n",
       "      <th>Continent</th>\n",
       "    </tr>\n",
       "  </thead>\n",
       "  <tbody>\n",
       "    <tr>\n",
       "      <th>0</th>\n",
       "      <td>Canada</td>\n",
       "      <td>35.467</td>\n",
       "      <td>1785387</td>\n",
       "      <td>9984670</td>\n",
       "      <td>0.913</td>\n",
       "      <td>America</td>\n",
       "    </tr>\n",
       "    <tr>\n",
       "      <th>1</th>\n",
       "      <td>France</td>\n",
       "      <td>63.951</td>\n",
       "      <td>2833687</td>\n",
       "      <td>640679</td>\n",
       "      <td>0.888</td>\n",
       "      <td>Europe</td>\n",
       "    </tr>\n",
       "    <tr>\n",
       "      <th>2</th>\n",
       "      <td>Germany</td>\n",
       "      <td>80.940</td>\n",
       "      <td>3874437</td>\n",
       "      <td>357114</td>\n",
       "      <td>0.916</td>\n",
       "      <td>Europe</td>\n",
       "    </tr>\n",
       "    <tr>\n",
       "      <th>3</th>\n",
       "      <td>Italy</td>\n",
       "      <td>60.665</td>\n",
       "      <td>2167744</td>\n",
       "      <td>301336</td>\n",
       "      <td>0.873</td>\n",
       "      <td>Europe</td>\n",
       "    </tr>\n",
       "    <tr>\n",
       "      <th>4</th>\n",
       "      <td>Japan</td>\n",
       "      <td>127.061</td>\n",
       "      <td>4602367</td>\n",
       "      <td>377930</td>\n",
       "      <td>0.891</td>\n",
       "      <td>Asia</td>\n",
       "    </tr>\n",
       "    <tr>\n",
       "      <th>5</th>\n",
       "      <td>United Kingdom</td>\n",
       "      <td>64.511</td>\n",
       "      <td>2950039</td>\n",
       "      <td>242495</td>\n",
       "      <td>0.907</td>\n",
       "      <td>Europe</td>\n",
       "    </tr>\n",
       "    <tr>\n",
       "      <th>6</th>\n",
       "      <td>United States</td>\n",
       "      <td>318.523</td>\n",
       "      <td>17348075</td>\n",
       "      <td>9525067</td>\n",
       "      <td>0.915</td>\n",
       "      <td>America</td>\n",
       "    </tr>\n",
       "  </tbody>\n",
       "</table>\n",
       "</div>"
      ],
      "text/plain": [
       "             Name  Population       GDP  Surface Area    HDI Continent\n",
       "0          Canada      35.467   1785387       9984670  0.913   America\n",
       "1          France      63.951   2833687        640679  0.888    Europe\n",
       "2         Germany      80.940   3874437        357114  0.916    Europe\n",
       "3           Italy      60.665   2167744        301336  0.873    Europe\n",
       "4           Japan     127.061   4602367        377930  0.891      Asia\n",
       "5  United Kingdom      64.511   2950039        242495  0.907    Europe\n",
       "6   United States     318.523  17348075       9525067  0.915   America"
      ]
     },
     "execution_count": 15,
     "metadata": {},
     "output_type": "execute_result"
    }
   ],
   "source": [
    "df"
   ]
  },
  {
   "cell_type": "code",
   "execution_count": 16,
   "id": "3ba02200",
   "metadata": {
    "execution": {
     "iopub.execute_input": "2024-07-18T16:01:51.303870Z",
     "iopub.status.busy": "2024-07-18T16:01:51.302872Z",
     "iopub.status.idle": "2024-07-18T16:01:51.311860Z",
     "shell.execute_reply": "2024-07-18T16:01:51.310584Z"
    },
    "id": "RAwr4gxwu8IE",
    "outputId": "4cf36c8c-ed80-49ba-9259-9a3803f31754",
    "papermill": {
     "duration": 0.03049,
     "end_time": "2024-07-18T16:01:51.314677",
     "exception": false,
     "start_time": "2024-07-18T16:01:51.284187",
     "status": "completed"
    },
    "tags": []
   },
   "outputs": [
    {
     "data": {
      "text/plain": [
       "0    False\n",
       "1    False\n",
       "2     True\n",
       "3    False\n",
       "4     True\n",
       "5    False\n",
       "6     True\n",
       "Name: Population, dtype: bool"
      ]
     },
     "execution_count": 16,
     "metadata": {},
     "output_type": "execute_result"
    }
   ],
   "source": [
    "df['Population'] > 70"
   ]
  },
  {
   "cell_type": "code",
   "execution_count": 17,
   "id": "f7cc196c",
   "metadata": {
    "execution": {
     "iopub.execute_input": "2024-07-18T16:01:51.350064Z",
     "iopub.status.busy": "2024-07-18T16:01:51.349624Z",
     "iopub.status.idle": "2024-07-18T16:01:51.368496Z",
     "shell.execute_reply": "2024-07-18T16:01:51.367135Z"
    },
    "id": "n1XOOO3Iu8IE",
    "outputId": "bca556f6-f57b-4f0d-c5a4-c5f8d5a47d6d",
    "papermill": {
     "duration": 0.039969,
     "end_time": "2024-07-18T16:01:51.371452",
     "exception": false,
     "start_time": "2024-07-18T16:01:51.331483",
     "status": "completed"
    },
    "tags": []
   },
   "outputs": [
    {
     "data": {
      "text/html": [
       "<div>\n",
       "<style scoped>\n",
       "    .dataframe tbody tr th:only-of-type {\n",
       "        vertical-align: middle;\n",
       "    }\n",
       "\n",
       "    .dataframe tbody tr th {\n",
       "        vertical-align: top;\n",
       "    }\n",
       "\n",
       "    .dataframe thead th {\n",
       "        text-align: right;\n",
       "    }\n",
       "</style>\n",
       "<table border=\"1\" class=\"dataframe\">\n",
       "  <thead>\n",
       "    <tr style=\"text-align: right;\">\n",
       "      <th></th>\n",
       "      <th>Name</th>\n",
       "      <th>Population</th>\n",
       "      <th>GDP</th>\n",
       "      <th>Surface Area</th>\n",
       "      <th>HDI</th>\n",
       "      <th>Continent</th>\n",
       "    </tr>\n",
       "  </thead>\n",
       "  <tbody>\n",
       "    <tr>\n",
       "      <th>2</th>\n",
       "      <td>Germany</td>\n",
       "      <td>80.940</td>\n",
       "      <td>3874437</td>\n",
       "      <td>357114</td>\n",
       "      <td>0.916</td>\n",
       "      <td>Europe</td>\n",
       "    </tr>\n",
       "    <tr>\n",
       "      <th>4</th>\n",
       "      <td>Japan</td>\n",
       "      <td>127.061</td>\n",
       "      <td>4602367</td>\n",
       "      <td>377930</td>\n",
       "      <td>0.891</td>\n",
       "      <td>Asia</td>\n",
       "    </tr>\n",
       "    <tr>\n",
       "      <th>6</th>\n",
       "      <td>United States</td>\n",
       "      <td>318.523</td>\n",
       "      <td>17348075</td>\n",
       "      <td>9525067</td>\n",
       "      <td>0.915</td>\n",
       "      <td>America</td>\n",
       "    </tr>\n",
       "  </tbody>\n",
       "</table>\n",
       "</div>"
      ],
      "text/plain": [
       "            Name  Population       GDP  Surface Area    HDI Continent\n",
       "2        Germany      80.940   3874437        357114  0.916    Europe\n",
       "4          Japan     127.061   4602367        377930  0.891      Asia\n",
       "6  United States     318.523  17348075       9525067  0.915   America"
      ]
     },
     "execution_count": 17,
     "metadata": {},
     "output_type": "execute_result"
    }
   ],
   "source": [
    "df[df['Population'] > 70]"
   ]
  },
  {
   "cell_type": "markdown",
   "id": "088ddd10",
   "metadata": {
    "id": "ewbGHshju8IE",
    "papermill": {
     "duration": 0.016402,
     "end_time": "2024-07-18T16:01:51.404794",
     "exception": false,
     "start_time": "2024-07-18T16:01:51.388392",
     "status": "completed"
    },
    "tags": []
   },
   "source": [
    "Булева маска дозволяє вибрати потрібні рядки, враховуючи всі стовпчики. Якщо потрібно вибрати лише деякі стовпці, то використовуємо метод `.loc`"
   ]
  },
  {
   "cell_type": "code",
   "execution_count": 18,
   "id": "3addadd7",
   "metadata": {
    "execution": {
     "iopub.execute_input": "2024-07-18T16:01:51.440068Z",
     "iopub.status.busy": "2024-07-18T16:01:51.439677Z",
     "iopub.status.idle": "2024-07-18T16:01:51.449753Z",
     "shell.execute_reply": "2024-07-18T16:01:51.448549Z"
    },
    "id": "-GngZX6ku8IF",
    "outputId": "2b408aab-8c64-4af6-d225-b4d75939a1c9",
    "papermill": {
     "duration": 0.030404,
     "end_time": "2024-07-18T16:01:51.452102",
     "exception": false,
     "start_time": "2024-07-18T16:01:51.421698",
     "status": "completed"
    },
    "tags": []
   },
   "outputs": [
    {
     "data": {
      "text/plain": [
       "2          Germany\n",
       "4            Japan\n",
       "6    United States\n",
       "Name: Name, dtype: object"
      ]
     },
     "execution_count": 18,
     "metadata": {},
     "output_type": "execute_result"
    }
   ],
   "source": [
    "df.loc[df['Population'] > 70, 'Name']"
   ]
  },
  {
   "cell_type": "code",
   "execution_count": 19,
   "id": "811cff58",
   "metadata": {
    "execution": {
     "iopub.execute_input": "2024-07-18T16:01:51.489863Z",
     "iopub.status.busy": "2024-07-18T16:01:51.488221Z",
     "iopub.status.idle": "2024-07-18T16:01:51.501928Z",
     "shell.execute_reply": "2024-07-18T16:01:51.500759Z"
    },
    "id": "IoU76Zy-u8IF",
    "outputId": "95278196-68be-4ec7-cfdb-ea5930a75293",
    "papermill": {
     "duration": 0.034311,
     "end_time": "2024-07-18T16:01:51.504314",
     "exception": false,
     "start_time": "2024-07-18T16:01:51.470003",
     "status": "completed"
    },
    "tags": []
   },
   "outputs": [
    {
     "data": {
      "text/html": [
       "<div>\n",
       "<style scoped>\n",
       "    .dataframe tbody tr th:only-of-type {\n",
       "        vertical-align: middle;\n",
       "    }\n",
       "\n",
       "    .dataframe tbody tr th {\n",
       "        vertical-align: top;\n",
       "    }\n",
       "\n",
       "    .dataframe thead th {\n",
       "        text-align: right;\n",
       "    }\n",
       "</style>\n",
       "<table border=\"1\" class=\"dataframe\">\n",
       "  <thead>\n",
       "    <tr style=\"text-align: right;\">\n",
       "      <th></th>\n",
       "      <th>Name</th>\n",
       "      <th>Population</th>\n",
       "      <th>GDP</th>\n",
       "    </tr>\n",
       "  </thead>\n",
       "  <tbody>\n",
       "    <tr>\n",
       "      <th>2</th>\n",
       "      <td>Germany</td>\n",
       "      <td>80.940</td>\n",
       "      <td>3874437</td>\n",
       "    </tr>\n",
       "    <tr>\n",
       "      <th>4</th>\n",
       "      <td>Japan</td>\n",
       "      <td>127.061</td>\n",
       "      <td>4602367</td>\n",
       "    </tr>\n",
       "    <tr>\n",
       "      <th>6</th>\n",
       "      <td>United States</td>\n",
       "      <td>318.523</td>\n",
       "      <td>17348075</td>\n",
       "    </tr>\n",
       "  </tbody>\n",
       "</table>\n",
       "</div>"
      ],
      "text/plain": [
       "            Name  Population       GDP\n",
       "2        Germany      80.940   3874437\n",
       "4          Japan     127.061   4602367\n",
       "6  United States     318.523  17348075"
      ]
     },
     "execution_count": 19,
     "metadata": {},
     "output_type": "execute_result"
    }
   ],
   "source": [
    "df.loc[df['Population'] > 70, ['Name', 'Population', 'GDP']]"
   ]
  },
  {
   "cell_type": "markdown",
   "id": "1626d4c6",
   "metadata": {
    "id": "Xa9EdYn4u8IG",
    "papermill": {
     "duration": 0.01658,
     "end_time": "2024-07-18T16:01:51.537761",
     "exception": false,
     "start_time": "2024-07-18T16:01:51.521181",
     "status": "completed"
    },
    "tags": []
   },
   "source": [
    "## Видалення\n",
    "\n",
    "На противагу поняттю відбору є «видалення». Замість того, щоб вказувати, які стовпці ви хочете _вибрати_, ви можете вказати, які з них ви хочете `викинути`:"
   ]
  },
  {
   "cell_type": "code",
   "execution_count": 20,
   "id": "3de43269",
   "metadata": {
    "execution": {
     "iopub.execute_input": "2024-07-18T16:01:51.573747Z",
     "iopub.status.busy": "2024-07-18T16:01:51.573309Z",
     "iopub.status.idle": "2024-07-18T16:01:51.586768Z",
     "shell.execute_reply": "2024-07-18T16:01:51.585734Z"
    },
    "id": "CJkhewnvu8IG",
    "outputId": "1b419695-645e-46dd-84fb-4b2d2b977fc6",
    "papermill": {
     "duration": 0.034165,
     "end_time": "2024-07-18T16:01:51.588969",
     "exception": false,
     "start_time": "2024-07-18T16:01:51.554804",
     "status": "completed"
    },
    "tags": []
   },
   "outputs": [
    {
     "data": {
      "text/html": [
       "<div>\n",
       "<style scoped>\n",
       "    .dataframe tbody tr th:only-of-type {\n",
       "        vertical-align: middle;\n",
       "    }\n",
       "\n",
       "    .dataframe tbody tr th {\n",
       "        vertical-align: top;\n",
       "    }\n",
       "\n",
       "    .dataframe thead th {\n",
       "        text-align: right;\n",
       "    }\n",
       "</style>\n",
       "<table border=\"1\" class=\"dataframe\">\n",
       "  <thead>\n",
       "    <tr style=\"text-align: right;\">\n",
       "      <th></th>\n",
       "      <th>Name</th>\n",
       "      <th>GDP</th>\n",
       "      <th>Surface Area</th>\n",
       "      <th>HDI</th>\n",
       "      <th>Continent</th>\n",
       "    </tr>\n",
       "  </thead>\n",
       "  <tbody>\n",
       "    <tr>\n",
       "      <th>0</th>\n",
       "      <td>Canada</td>\n",
       "      <td>1785387</td>\n",
       "      <td>9984670</td>\n",
       "      <td>0.913</td>\n",
       "      <td>America</td>\n",
       "    </tr>\n",
       "    <tr>\n",
       "      <th>1</th>\n",
       "      <td>France</td>\n",
       "      <td>2833687</td>\n",
       "      <td>640679</td>\n",
       "      <td>0.888</td>\n",
       "      <td>Europe</td>\n",
       "    </tr>\n",
       "    <tr>\n",
       "      <th>2</th>\n",
       "      <td>Germany</td>\n",
       "      <td>3874437</td>\n",
       "      <td>357114</td>\n",
       "      <td>0.916</td>\n",
       "      <td>Europe</td>\n",
       "    </tr>\n",
       "    <tr>\n",
       "      <th>3</th>\n",
       "      <td>Italy</td>\n",
       "      <td>2167744</td>\n",
       "      <td>301336</td>\n",
       "      <td>0.873</td>\n",
       "      <td>Europe</td>\n",
       "    </tr>\n",
       "    <tr>\n",
       "      <th>4</th>\n",
       "      <td>Japan</td>\n",
       "      <td>4602367</td>\n",
       "      <td>377930</td>\n",
       "      <td>0.891</td>\n",
       "      <td>Asia</td>\n",
       "    </tr>\n",
       "    <tr>\n",
       "      <th>5</th>\n",
       "      <td>United Kingdom</td>\n",
       "      <td>2950039</td>\n",
       "      <td>242495</td>\n",
       "      <td>0.907</td>\n",
       "      <td>Europe</td>\n",
       "    </tr>\n",
       "    <tr>\n",
       "      <th>6</th>\n",
       "      <td>United States</td>\n",
       "      <td>17348075</td>\n",
       "      <td>9525067</td>\n",
       "      <td>0.915</td>\n",
       "      <td>America</td>\n",
       "    </tr>\n",
       "  </tbody>\n",
       "</table>\n",
       "</div>"
      ],
      "text/plain": [
       "             Name       GDP  Surface Area    HDI Continent\n",
       "0          Canada   1785387       9984670  0.913   America\n",
       "1          France   2833687        640679  0.888    Europe\n",
       "2         Germany   3874437        357114  0.916    Europe\n",
       "3           Italy   2167744        301336  0.873    Europe\n",
       "4           Japan   4602367        377930  0.891      Asia\n",
       "5  United Kingdom   2950039        242495  0.907    Europe\n",
       "6   United States  17348075       9525067  0.915   America"
      ]
     },
     "execution_count": 20,
     "metadata": {},
     "output_type": "execute_result"
    }
   ],
   "source": [
    "df.drop(columns=['Population'])\n",
    "# print(df)"
   ]
  },
  {
   "cell_type": "code",
   "execution_count": 21,
   "id": "f38b10ba",
   "metadata": {
    "execution": {
     "iopub.execute_input": "2024-07-18T16:01:51.625242Z",
     "iopub.status.busy": "2024-07-18T16:01:51.624832Z",
     "iopub.status.idle": "2024-07-18T16:01:51.638086Z",
     "shell.execute_reply": "2024-07-18T16:01:51.636949Z"
    },
    "id": "JUui1U5Lu8IH",
    "outputId": "1588d944-451e-4800-dfe0-e0ad23e0783d",
    "papermill": {
     "duration": 0.034346,
     "end_time": "2024-07-18T16:01:51.640453",
     "exception": false,
     "start_time": "2024-07-18T16:01:51.606107",
     "status": "completed"
    },
    "tags": []
   },
   "outputs": [
    {
     "data": {
      "text/html": [
       "<div>\n",
       "<style scoped>\n",
       "    .dataframe tbody tr th:only-of-type {\n",
       "        vertical-align: middle;\n",
       "    }\n",
       "\n",
       "    .dataframe tbody tr th {\n",
       "        vertical-align: top;\n",
       "    }\n",
       "\n",
       "    .dataframe thead th {\n",
       "        text-align: right;\n",
       "    }\n",
       "</style>\n",
       "<table border=\"1\" class=\"dataframe\">\n",
       "  <thead>\n",
       "    <tr style=\"text-align: right;\">\n",
       "      <th></th>\n",
       "      <th>Name</th>\n",
       "      <th>GDP</th>\n",
       "      <th>Surface Area</th>\n",
       "      <th>Continent</th>\n",
       "    </tr>\n",
       "  </thead>\n",
       "  <tbody>\n",
       "    <tr>\n",
       "      <th>0</th>\n",
       "      <td>Canada</td>\n",
       "      <td>1785387</td>\n",
       "      <td>9984670</td>\n",
       "      <td>America</td>\n",
       "    </tr>\n",
       "    <tr>\n",
       "      <th>1</th>\n",
       "      <td>France</td>\n",
       "      <td>2833687</td>\n",
       "      <td>640679</td>\n",
       "      <td>Europe</td>\n",
       "    </tr>\n",
       "    <tr>\n",
       "      <th>2</th>\n",
       "      <td>Germany</td>\n",
       "      <td>3874437</td>\n",
       "      <td>357114</td>\n",
       "      <td>Europe</td>\n",
       "    </tr>\n",
       "    <tr>\n",
       "      <th>3</th>\n",
       "      <td>Italy</td>\n",
       "      <td>2167744</td>\n",
       "      <td>301336</td>\n",
       "      <td>Europe</td>\n",
       "    </tr>\n",
       "    <tr>\n",
       "      <th>4</th>\n",
       "      <td>Japan</td>\n",
       "      <td>4602367</td>\n",
       "      <td>377930</td>\n",
       "      <td>Asia</td>\n",
       "    </tr>\n",
       "    <tr>\n",
       "      <th>5</th>\n",
       "      <td>United Kingdom</td>\n",
       "      <td>2950039</td>\n",
       "      <td>242495</td>\n",
       "      <td>Europe</td>\n",
       "    </tr>\n",
       "    <tr>\n",
       "      <th>6</th>\n",
       "      <td>United States</td>\n",
       "      <td>17348075</td>\n",
       "      <td>9525067</td>\n",
       "      <td>America</td>\n",
       "    </tr>\n",
       "  </tbody>\n",
       "</table>\n",
       "</div>"
      ],
      "text/plain": [
       "             Name       GDP  Surface Area Continent\n",
       "0          Canada   1785387       9984670   America\n",
       "1          France   2833687        640679    Europe\n",
       "2         Germany   3874437        357114    Europe\n",
       "3           Italy   2167744        301336    Europe\n",
       "4           Japan   4602367        377930      Asia\n",
       "5  United Kingdom   2950039        242495    Europe\n",
       "6   United States  17348075       9525067   America"
      ]
     },
     "execution_count": 21,
     "metadata": {},
     "output_type": "execute_result"
    }
   ],
   "source": [
    "df.drop(columns=['Population', 'HDI'])"
   ]
  },
  {
   "cell_type": "code",
   "execution_count": 22,
   "id": "5a9dc8de",
   "metadata": {
    "execution": {
     "iopub.execute_input": "2024-07-18T16:01:51.678850Z",
     "iopub.status.busy": "2024-07-18T16:01:51.678432Z",
     "iopub.status.idle": "2024-07-18T16:01:51.691906Z",
     "shell.execute_reply": "2024-07-18T16:01:51.690777Z"
    },
    "id": "p4hCdomou8IH",
    "outputId": "7ddc7a4d-b340-4e36-92cb-86ac0e56f2d5",
    "papermill": {
     "duration": 0.035688,
     "end_time": "2024-07-18T16:01:51.694436",
     "exception": false,
     "start_time": "2024-07-18T16:01:51.658748",
     "status": "completed"
    },
    "tags": []
   },
   "outputs": [
    {
     "data": {
      "text/html": [
       "<div>\n",
       "<style scoped>\n",
       "    .dataframe tbody tr th:only-of-type {\n",
       "        vertical-align: middle;\n",
       "    }\n",
       "\n",
       "    .dataframe tbody tr th {\n",
       "        vertical-align: top;\n",
       "    }\n",
       "\n",
       "    .dataframe thead th {\n",
       "        text-align: right;\n",
       "    }\n",
       "</style>\n",
       "<table border=\"1\" class=\"dataframe\">\n",
       "  <thead>\n",
       "    <tr style=\"text-align: right;\">\n",
       "      <th></th>\n",
       "      <th>Name</th>\n",
       "      <th>GDP</th>\n",
       "      <th>Surface Area</th>\n",
       "      <th>Continent</th>\n",
       "    </tr>\n",
       "  </thead>\n",
       "  <tbody>\n",
       "    <tr>\n",
       "      <th>0</th>\n",
       "      <td>Canada</td>\n",
       "      <td>1785387</td>\n",
       "      <td>9984670</td>\n",
       "      <td>America</td>\n",
       "    </tr>\n",
       "    <tr>\n",
       "      <th>1</th>\n",
       "      <td>France</td>\n",
       "      <td>2833687</td>\n",
       "      <td>640679</td>\n",
       "      <td>Europe</td>\n",
       "    </tr>\n",
       "    <tr>\n",
       "      <th>2</th>\n",
       "      <td>Germany</td>\n",
       "      <td>3874437</td>\n",
       "      <td>357114</td>\n",
       "      <td>Europe</td>\n",
       "    </tr>\n",
       "    <tr>\n",
       "      <th>3</th>\n",
       "      <td>Italy</td>\n",
       "      <td>2167744</td>\n",
       "      <td>301336</td>\n",
       "      <td>Europe</td>\n",
       "    </tr>\n",
       "    <tr>\n",
       "      <th>4</th>\n",
       "      <td>Japan</td>\n",
       "      <td>4602367</td>\n",
       "      <td>377930</td>\n",
       "      <td>Asia</td>\n",
       "    </tr>\n",
       "    <tr>\n",
       "      <th>5</th>\n",
       "      <td>United Kingdom</td>\n",
       "      <td>2950039</td>\n",
       "      <td>242495</td>\n",
       "      <td>Europe</td>\n",
       "    </tr>\n",
       "    <tr>\n",
       "      <th>6</th>\n",
       "      <td>United States</td>\n",
       "      <td>17348075</td>\n",
       "      <td>9525067</td>\n",
       "      <td>America</td>\n",
       "    </tr>\n",
       "  </tbody>\n",
       "</table>\n",
       "</div>"
      ],
      "text/plain": [
       "             Name       GDP  Surface Area Continent\n",
       "0          Canada   1785387       9984670   America\n",
       "1          France   2833687        640679    Europe\n",
       "2         Germany   3874437        357114    Europe\n",
       "3           Italy   2167744        301336    Europe\n",
       "4           Japan   4602367        377930      Asia\n",
       "5  United Kingdom   2950039        242495    Europe\n",
       "6   United States  17348075       9525067   America"
      ]
     },
     "execution_count": 22,
     "metadata": {},
     "output_type": "execute_result"
    }
   ],
   "source": [
    "df.drop(['Population', 'HDI'], axis=1)\n",
    "# df.drop(['Population'],axis=1)\n",
    "# df.drop(df.index[0])"
   ]
  },
  {
   "cell_type": "code",
   "execution_count": 23,
   "id": "a706e82c",
   "metadata": {
    "execution": {
     "iopub.execute_input": "2024-07-18T16:01:51.731875Z",
     "iopub.status.busy": "2024-07-18T16:01:51.731470Z",
     "iopub.status.idle": "2024-07-18T16:01:51.743391Z",
     "shell.execute_reply": "2024-07-18T16:01:51.742259Z"
    },
    "id": "1YjXbkx-u8II",
    "outputId": "f4bc4b5d-f995-40ce-a195-e11aef13daf4",
    "papermill": {
     "duration": 0.033577,
     "end_time": "2024-07-18T16:01:51.745725",
     "exception": false,
     "start_time": "2024-07-18T16:01:51.712148",
     "status": "completed"
    },
    "tags": []
   },
   "outputs": [
    {
     "data": {
      "text/html": [
       "<div>\n",
       "<style scoped>\n",
       "    .dataframe tbody tr th:only-of-type {\n",
       "        vertical-align: middle;\n",
       "    }\n",
       "\n",
       "    .dataframe tbody tr th {\n",
       "        vertical-align: top;\n",
       "    }\n",
       "\n",
       "    .dataframe thead th {\n",
       "        text-align: right;\n",
       "    }\n",
       "</style>\n",
       "<table border=\"1\" class=\"dataframe\">\n",
       "  <thead>\n",
       "    <tr style=\"text-align: right;\">\n",
       "      <th></th>\n",
       "      <th>Name</th>\n",
       "      <th>GDP</th>\n",
       "      <th>Surface Area</th>\n",
       "      <th>Continent</th>\n",
       "    </tr>\n",
       "  </thead>\n",
       "  <tbody>\n",
       "    <tr>\n",
       "      <th>0</th>\n",
       "      <td>Canada</td>\n",
       "      <td>1785387</td>\n",
       "      <td>9984670</td>\n",
       "      <td>America</td>\n",
       "    </tr>\n",
       "    <tr>\n",
       "      <th>1</th>\n",
       "      <td>France</td>\n",
       "      <td>2833687</td>\n",
       "      <td>640679</td>\n",
       "      <td>Europe</td>\n",
       "    </tr>\n",
       "    <tr>\n",
       "      <th>2</th>\n",
       "      <td>Germany</td>\n",
       "      <td>3874437</td>\n",
       "      <td>357114</td>\n",
       "      <td>Europe</td>\n",
       "    </tr>\n",
       "    <tr>\n",
       "      <th>3</th>\n",
       "      <td>Italy</td>\n",
       "      <td>2167744</td>\n",
       "      <td>301336</td>\n",
       "      <td>Europe</td>\n",
       "    </tr>\n",
       "    <tr>\n",
       "      <th>4</th>\n",
       "      <td>Japan</td>\n",
       "      <td>4602367</td>\n",
       "      <td>377930</td>\n",
       "      <td>Asia</td>\n",
       "    </tr>\n",
       "    <tr>\n",
       "      <th>5</th>\n",
       "      <td>United Kingdom</td>\n",
       "      <td>2950039</td>\n",
       "      <td>242495</td>\n",
       "      <td>Europe</td>\n",
       "    </tr>\n",
       "    <tr>\n",
       "      <th>6</th>\n",
       "      <td>United States</td>\n",
       "      <td>17348075</td>\n",
       "      <td>9525067</td>\n",
       "      <td>America</td>\n",
       "    </tr>\n",
       "  </tbody>\n",
       "</table>\n",
       "</div>"
      ],
      "text/plain": [
       "             Name       GDP  Surface Area Continent\n",
       "0          Canada   1785387       9984670   America\n",
       "1          France   2833687        640679    Europe\n",
       "2         Germany   3874437        357114    Europe\n",
       "3           Italy   2167744        301336    Europe\n",
       "4           Japan   4602367        377930      Asia\n",
       "5  United Kingdom   2950039        242495    Europe\n",
       "6   United States  17348075       9525067   America"
      ]
     },
     "execution_count": 23,
     "metadata": {},
     "output_type": "execute_result"
    }
   ],
   "source": [
    "df.drop(['Population', 'HDI'], axis='columns')"
   ]
  },
  {
   "cell_type": "markdown",
   "id": "2c22a923",
   "metadata": {
    "id": "W4zQN669u8II",
    "papermill": {
     "duration": 0.017742,
     "end_time": "2024-07-18T16:01:51.781353",
     "exception": false,
     "start_time": "2024-07-18T16:01:51.763611",
     "status": "completed"
    },
    "tags": []
   },
   "source": [
    "Усі ці методи `drop` повертають новий `DataFrame`. Якщо ви хочете змінити його \"на місці\", ви можете скористатися атрибутом `inplace`"
   ]
  },
  {
   "cell_type": "code",
   "execution_count": 24,
   "id": "b712eb98",
   "metadata": {
    "execution": {
     "iopub.execute_input": "2024-07-18T16:01:51.818962Z",
     "iopub.status.busy": "2024-07-18T16:01:51.818583Z",
     "iopub.status.idle": "2024-07-18T16:01:51.824489Z",
     "shell.execute_reply": "2024-07-18T16:01:51.823232Z"
    },
    "id": "6m62_9t9y3FU",
    "outputId": "9cc1fc3c-dd89-4d43-a7da-757cf14299e9",
    "papermill": {
     "duration": 0.027953,
     "end_time": "2024-07-18T16:01:51.827134",
     "exception": false,
     "start_time": "2024-07-18T16:01:51.799181",
     "status": "completed"
    },
    "tags": []
   },
   "outputs": [],
   "source": [
    "# df_cp = df\n",
    "# df_cp.drop(['Name'], axis=1, inplace=True)\n",
    "# df_cp\n",
    "# df"
   ]
  },
  {
   "cell_type": "markdown",
   "id": "ae2d2aa0",
   "metadata": {
    "id": "H22XgNf_u8II",
    "papermill": {
     "duration": 0.01827,
     "end_time": "2024-07-18T16:01:51.863981",
     "exception": false,
     "start_time": "2024-07-18T16:01:51.845711",
     "status": "completed"
    },
    "tags": []
   },
   "source": [
    "\n",
    "## Операції"
   ]
  },
  {
   "cell_type": "code",
   "execution_count": 25,
   "id": "191c6bf9",
   "metadata": {
    "execution": {
     "iopub.execute_input": "2024-07-18T16:01:51.901881Z",
     "iopub.status.busy": "2024-07-18T16:01:51.901488Z",
     "iopub.status.idle": "2024-07-18T16:01:51.912857Z",
     "shell.execute_reply": "2024-07-18T16:01:51.911773Z"
    },
    "id": "6qSMet9Ru8II",
    "outputId": "3c67fb3d-3b1d-40c0-dc24-4c6a222a33be",
    "papermill": {
     "duration": 0.03316,
     "end_time": "2024-07-18T16:01:51.915419",
     "exception": false,
     "start_time": "2024-07-18T16:01:51.882259",
     "status": "completed"
    },
    "tags": []
   },
   "outputs": [
    {
     "data": {
      "text/html": [
       "<div>\n",
       "<style scoped>\n",
       "    .dataframe tbody tr th:only-of-type {\n",
       "        vertical-align: middle;\n",
       "    }\n",
       "\n",
       "    .dataframe tbody tr th {\n",
       "        vertical-align: top;\n",
       "    }\n",
       "\n",
       "    .dataframe thead th {\n",
       "        text-align: right;\n",
       "    }\n",
       "</style>\n",
       "<table border=\"1\" class=\"dataframe\">\n",
       "  <thead>\n",
       "    <tr style=\"text-align: right;\">\n",
       "      <th></th>\n",
       "      <th>Population</th>\n",
       "      <th>GDP</th>\n",
       "    </tr>\n",
       "  </thead>\n",
       "  <tbody>\n",
       "    <tr>\n",
       "      <th>0</th>\n",
       "      <td>35.467</td>\n",
       "      <td>1785387</td>\n",
       "    </tr>\n",
       "    <tr>\n",
       "      <th>1</th>\n",
       "      <td>63.951</td>\n",
       "      <td>2833687</td>\n",
       "    </tr>\n",
       "    <tr>\n",
       "      <th>2</th>\n",
       "      <td>80.940</td>\n",
       "      <td>3874437</td>\n",
       "    </tr>\n",
       "    <tr>\n",
       "      <th>3</th>\n",
       "      <td>60.665</td>\n",
       "      <td>2167744</td>\n",
       "    </tr>\n",
       "    <tr>\n",
       "      <th>4</th>\n",
       "      <td>127.061</td>\n",
       "      <td>4602367</td>\n",
       "    </tr>\n",
       "    <tr>\n",
       "      <th>5</th>\n",
       "      <td>64.511</td>\n",
       "      <td>2950039</td>\n",
       "    </tr>\n",
       "    <tr>\n",
       "      <th>6</th>\n",
       "      <td>318.523</td>\n",
       "      <td>17348075</td>\n",
       "    </tr>\n",
       "  </tbody>\n",
       "</table>\n",
       "</div>"
      ],
      "text/plain": [
       "   Population       GDP\n",
       "0      35.467   1785387\n",
       "1      63.951   2833687\n",
       "2      80.940   3874437\n",
       "3      60.665   2167744\n",
       "4     127.061   4602367\n",
       "5      64.511   2950039\n",
       "6     318.523  17348075"
      ]
     },
     "execution_count": 25,
     "metadata": {},
     "output_type": "execute_result"
    }
   ],
   "source": [
    "df[['Population', 'GDP']]"
   ]
  },
  {
   "cell_type": "code",
   "execution_count": 26,
   "id": "f5c4813e",
   "metadata": {
    "execution": {
     "iopub.execute_input": "2024-07-18T16:01:51.954161Z",
     "iopub.status.busy": "2024-07-18T16:01:51.953757Z",
     "iopub.status.idle": "2024-07-18T16:01:51.962864Z",
     "shell.execute_reply": "2024-07-18T16:01:51.961707Z"
    },
    "id": "9yRQoCp3zKmn",
    "outputId": "539d9a9b-3f0b-4872-e528-b98cd2d87b25",
    "papermill": {
     "duration": 0.031725,
     "end_time": "2024-07-18T16:01:51.965330",
     "exception": false,
     "start_time": "2024-07-18T16:01:51.933605",
     "status": "completed"
    },
    "tags": []
   },
   "outputs": [
    {
     "data": {
      "text/plain": [
       "0     35467.0\n",
       "1     63951.0\n",
       "2     80940.0\n",
       "3     60665.0\n",
       "4    127061.0\n",
       "5     64511.0\n",
       "6    318523.0\n",
       "Name: Population, dtype: float64"
      ]
     },
     "execution_count": 26,
     "metadata": {},
     "output_type": "execute_result"
    }
   ],
   "source": [
    "df['Population'] * 1000"
   ]
  },
  {
   "cell_type": "code",
   "execution_count": 27,
   "id": "c1cc49de",
   "metadata": {
    "execution": {
     "iopub.execute_input": "2024-07-18T16:01:52.003633Z",
     "iopub.status.busy": "2024-07-18T16:01:52.003180Z",
     "iopub.status.idle": "2024-07-18T16:01:52.010423Z",
     "shell.execute_reply": "2024-07-18T16:01:52.009304Z"
    },
    "id": "if9vsiF0zQre",
    "outputId": "4ebec3b9-28da-437e-d278-6ca9e618911b",
    "papermill": {
     "duration": 0.028808,
     "end_time": "2024-07-18T16:01:52.012634",
     "exception": false,
     "start_time": "2024-07-18T16:01:51.983826",
     "status": "completed"
    },
    "tags": []
   },
   "outputs": [
    {
     "data": {
      "text/plain": [
       "751.118"
      ]
     },
     "execution_count": 27,
     "metadata": {},
     "output_type": "execute_result"
    }
   ],
   "source": [
    "df['Population'].sum()"
   ]
  },
  {
   "cell_type": "markdown",
   "id": "2dd68872",
   "metadata": {
    "id": "BZHnftRSu8IJ",
    "papermill": {
     "duration": 0.018053,
     "end_time": "2024-07-18T16:01:52.048988",
     "exception": false,
     "start_time": "2024-07-18T16:01:52.030935",
     "status": "completed"
    },
    "tags": []
   },
   "source": [
    "Аналогічно до `numpy` можна виконувати операції між рядками. Операції виконуються поелементно."
   ]
  },
  {
   "cell_type": "code",
   "execution_count": 28,
   "id": "736a4400",
   "metadata": {
    "execution": {
     "iopub.execute_input": "2024-07-18T16:01:52.087937Z",
     "iopub.status.busy": "2024-07-18T16:01:52.087552Z",
     "iopub.status.idle": "2024-07-18T16:01:52.096008Z",
     "shell.execute_reply": "2024-07-18T16:01:52.094808Z"
    },
    "id": "93mTmEDYzHjz",
    "outputId": "8021e4e9-2779-4898-ea52-932fd558db62",
    "papermill": {
     "duration": 0.030885,
     "end_time": "2024-07-18T16:01:52.098590",
     "exception": false,
     "start_time": "2024-07-18T16:01:52.067705",
     "status": "completed"
    },
    "tags": []
   },
   "outputs": [
    {
     "data": {
      "text/plain": [
       "0    50339.385908\n",
       "1    44310.284437\n",
       "2    47868.013343\n",
       "3    35733.025633\n",
       "4    36221.712406\n",
       "5    45729.239975\n",
       "6    54464.120330\n",
       "dtype: float64"
      ]
     },
     "execution_count": 28,
     "metadata": {},
     "output_type": "execute_result"
    }
   ],
   "source": [
    "df['GDP'] / df['Population']"
   ]
  },
  {
   "cell_type": "markdown",
   "id": "0b83ba9c",
   "metadata": {
    "id": "oNDw-LC7u8IK",
    "papermill": {
     "duration": 0.018346,
     "end_time": "2024-07-18T16:01:52.135480",
     "exception": false,
     "start_time": "2024-07-18T16:01:52.117134",
     "status": "completed"
    },
    "tags": []
   },
   "source": [
    "## Зміна даних\n",
    "\n",
    "Це просто та інтуїтивно зрозуміло. Ви можете без проблем додавати стовпці або замінювати значення для стовпців:"
   ]
  },
  {
   "cell_type": "markdown",
   "id": "bfaa583f",
   "metadata": {
    "id": "pUSF5PZWu8IK",
    "papermill": {
     "duration": 0.018083,
     "end_time": "2024-07-18T16:01:52.171944",
     "exception": false,
     "start_time": "2024-07-18T16:01:52.153861",
     "status": "completed"
    },
    "tags": []
   },
   "source": [
    "### Додавання нового стовпця"
   ]
  },
  {
   "cell_type": "code",
   "execution_count": 29,
   "id": "074e537a",
   "metadata": {
    "execution": {
     "iopub.execute_input": "2024-07-18T16:01:52.212865Z",
     "iopub.status.busy": "2024-07-18T16:01:52.212418Z",
     "iopub.status.idle": "2024-07-18T16:01:52.219398Z",
     "shell.execute_reply": "2024-07-18T16:01:52.218199Z"
    },
    "id": "EsulAArLu8IL",
    "papermill": {
     "duration": 0.03104,
     "end_time": "2024-07-18T16:01:52.222025",
     "exception": false,
     "start_time": "2024-07-18T16:01:52.190985",
     "status": "completed"
    },
    "tags": []
   },
   "outputs": [],
   "source": [
    "df['Language'] = ['English', 'French', 'German', 'Italian', 'Jananese', 'English', 'English']"
   ]
  },
  {
   "cell_type": "code",
   "execution_count": 30,
   "id": "96bc89f1",
   "metadata": {
    "execution": {
     "iopub.execute_input": "2024-07-18T16:01:52.261451Z",
     "iopub.status.busy": "2024-07-18T16:01:52.261047Z",
     "iopub.status.idle": "2024-07-18T16:01:52.275530Z",
     "shell.execute_reply": "2024-07-18T16:01:52.274259Z"
    },
    "id": "wmoQZwDtu8IL",
    "outputId": "4d886c98-7739-4b5b-9c0a-9f4542ffdf9e",
    "papermill": {
     "duration": 0.03759,
     "end_time": "2024-07-18T16:01:52.278625",
     "exception": false,
     "start_time": "2024-07-18T16:01:52.241035",
     "status": "completed"
    },
    "tags": []
   },
   "outputs": [
    {
     "data": {
      "text/html": [
       "<div>\n",
       "<style scoped>\n",
       "    .dataframe tbody tr th:only-of-type {\n",
       "        vertical-align: middle;\n",
       "    }\n",
       "\n",
       "    .dataframe tbody tr th {\n",
       "        vertical-align: top;\n",
       "    }\n",
       "\n",
       "    .dataframe thead th {\n",
       "        text-align: right;\n",
       "    }\n",
       "</style>\n",
       "<table border=\"1\" class=\"dataframe\">\n",
       "  <thead>\n",
       "    <tr style=\"text-align: right;\">\n",
       "      <th></th>\n",
       "      <th>Name</th>\n",
       "      <th>Population</th>\n",
       "      <th>GDP</th>\n",
       "      <th>Surface Area</th>\n",
       "      <th>HDI</th>\n",
       "      <th>Continent</th>\n",
       "      <th>Language</th>\n",
       "    </tr>\n",
       "  </thead>\n",
       "  <tbody>\n",
       "    <tr>\n",
       "      <th>0</th>\n",
       "      <td>Canada</td>\n",
       "      <td>35.467</td>\n",
       "      <td>1785387</td>\n",
       "      <td>9984670</td>\n",
       "      <td>0.913</td>\n",
       "      <td>America</td>\n",
       "      <td>English</td>\n",
       "    </tr>\n",
       "    <tr>\n",
       "      <th>1</th>\n",
       "      <td>France</td>\n",
       "      <td>63.951</td>\n",
       "      <td>2833687</td>\n",
       "      <td>640679</td>\n",
       "      <td>0.888</td>\n",
       "      <td>Europe</td>\n",
       "      <td>French</td>\n",
       "    </tr>\n",
       "    <tr>\n",
       "      <th>2</th>\n",
       "      <td>Germany</td>\n",
       "      <td>80.940</td>\n",
       "      <td>3874437</td>\n",
       "      <td>357114</td>\n",
       "      <td>0.916</td>\n",
       "      <td>Europe</td>\n",
       "      <td>German</td>\n",
       "    </tr>\n",
       "    <tr>\n",
       "      <th>3</th>\n",
       "      <td>Italy</td>\n",
       "      <td>60.665</td>\n",
       "      <td>2167744</td>\n",
       "      <td>301336</td>\n",
       "      <td>0.873</td>\n",
       "      <td>Europe</td>\n",
       "      <td>Italian</td>\n",
       "    </tr>\n",
       "    <tr>\n",
       "      <th>4</th>\n",
       "      <td>Japan</td>\n",
       "      <td>127.061</td>\n",
       "      <td>4602367</td>\n",
       "      <td>377930</td>\n",
       "      <td>0.891</td>\n",
       "      <td>Asia</td>\n",
       "      <td>Jananese</td>\n",
       "    </tr>\n",
       "    <tr>\n",
       "      <th>5</th>\n",
       "      <td>United Kingdom</td>\n",
       "      <td>64.511</td>\n",
       "      <td>2950039</td>\n",
       "      <td>242495</td>\n",
       "      <td>0.907</td>\n",
       "      <td>Europe</td>\n",
       "      <td>English</td>\n",
       "    </tr>\n",
       "    <tr>\n",
       "      <th>6</th>\n",
       "      <td>United States</td>\n",
       "      <td>318.523</td>\n",
       "      <td>17348075</td>\n",
       "      <td>9525067</td>\n",
       "      <td>0.915</td>\n",
       "      <td>America</td>\n",
       "      <td>English</td>\n",
       "    </tr>\n",
       "  </tbody>\n",
       "</table>\n",
       "</div>"
      ],
      "text/plain": [
       "             Name  Population       GDP  Surface Area    HDI Continent  \\\n",
       "0          Canada      35.467   1785387       9984670  0.913   America   \n",
       "1          France      63.951   2833687        640679  0.888    Europe   \n",
       "2         Germany      80.940   3874437        357114  0.916    Europe   \n",
       "3           Italy      60.665   2167744        301336  0.873    Europe   \n",
       "4           Japan     127.061   4602367        377930  0.891      Asia   \n",
       "5  United Kingdom      64.511   2950039        242495  0.907    Europe   \n",
       "6   United States     318.523  17348075       9525067  0.915   America   \n",
       "\n",
       "   Language  \n",
       "0   English  \n",
       "1    French  \n",
       "2    German  \n",
       "3   Italian  \n",
       "4  Jananese  \n",
       "5   English  \n",
       "6   English  "
      ]
     },
     "execution_count": 30,
     "metadata": {},
     "output_type": "execute_result"
    }
   ],
   "source": [
    "df"
   ]
  },
  {
   "cell_type": "markdown",
   "id": "bf7a7f7f",
   "metadata": {
    "id": "3YE2JYQvu8IL",
    "papermill": {
     "duration": 0.019247,
     "end_time": "2024-07-18T16:01:52.318001",
     "exception": false,
     "start_time": "2024-07-18T16:01:52.298754",
     "status": "completed"
    },
    "tags": []
   },
   "source": [
    "---\n",
    "### Заміна значень у стовпці"
   ]
  },
  {
   "cell_type": "code",
   "execution_count": 31,
   "id": "d614298e",
   "metadata": {
    "execution": {
     "iopub.execute_input": "2024-07-18T16:01:52.358169Z",
     "iopub.status.busy": "2024-07-18T16:01:52.357769Z",
     "iopub.status.idle": "2024-07-18T16:01:52.363203Z",
     "shell.execute_reply": "2024-07-18T16:01:52.362042Z"
    },
    "id": "n3dzJSAku8IL",
    "papermill": {
     "duration": 0.02846,
     "end_time": "2024-07-18T16:01:52.365566",
     "exception": false,
     "start_time": "2024-07-18T16:01:52.337106",
     "status": "completed"
    },
    "tags": []
   },
   "outputs": [],
   "source": [
    "df['Language'] = 'English'"
   ]
  },
  {
   "cell_type": "code",
   "execution_count": 32,
   "id": "87de497a",
   "metadata": {
    "execution": {
     "iopub.execute_input": "2024-07-18T16:01:52.406413Z",
     "iopub.status.busy": "2024-07-18T16:01:52.406029Z",
     "iopub.status.idle": "2024-07-18T16:01:52.420485Z",
     "shell.execute_reply": "2024-07-18T16:01:52.419291Z"
    },
    "id": "NKT79Ypxu8IM",
    "outputId": "61da0351-b298-441b-c927-708ff2e064c7",
    "papermill": {
     "duration": 0.03894,
     "end_time": "2024-07-18T16:01:52.423296",
     "exception": false,
     "start_time": "2024-07-18T16:01:52.384356",
     "status": "completed"
    },
    "tags": []
   },
   "outputs": [
    {
     "data": {
      "text/html": [
       "<div>\n",
       "<style scoped>\n",
       "    .dataframe tbody tr th:only-of-type {\n",
       "        vertical-align: middle;\n",
       "    }\n",
       "\n",
       "    .dataframe tbody tr th {\n",
       "        vertical-align: top;\n",
       "    }\n",
       "\n",
       "    .dataframe thead th {\n",
       "        text-align: right;\n",
       "    }\n",
       "</style>\n",
       "<table border=\"1\" class=\"dataframe\">\n",
       "  <thead>\n",
       "    <tr style=\"text-align: right;\">\n",
       "      <th></th>\n",
       "      <th>Name</th>\n",
       "      <th>Population</th>\n",
       "      <th>GDP</th>\n",
       "      <th>Surface Area</th>\n",
       "      <th>HDI</th>\n",
       "      <th>Continent</th>\n",
       "      <th>Language</th>\n",
       "    </tr>\n",
       "  </thead>\n",
       "  <tbody>\n",
       "    <tr>\n",
       "      <th>0</th>\n",
       "      <td>Canada</td>\n",
       "      <td>35.467</td>\n",
       "      <td>1785387</td>\n",
       "      <td>9984670</td>\n",
       "      <td>0.913</td>\n",
       "      <td>America</td>\n",
       "      <td>English</td>\n",
       "    </tr>\n",
       "    <tr>\n",
       "      <th>1</th>\n",
       "      <td>France</td>\n",
       "      <td>63.951</td>\n",
       "      <td>2833687</td>\n",
       "      <td>640679</td>\n",
       "      <td>0.888</td>\n",
       "      <td>Europe</td>\n",
       "      <td>English</td>\n",
       "    </tr>\n",
       "    <tr>\n",
       "      <th>2</th>\n",
       "      <td>Germany</td>\n",
       "      <td>80.940</td>\n",
       "      <td>3874437</td>\n",
       "      <td>357114</td>\n",
       "      <td>0.916</td>\n",
       "      <td>Europe</td>\n",
       "      <td>English</td>\n",
       "    </tr>\n",
       "    <tr>\n",
       "      <th>3</th>\n",
       "      <td>Italy</td>\n",
       "      <td>60.665</td>\n",
       "      <td>2167744</td>\n",
       "      <td>301336</td>\n",
       "      <td>0.873</td>\n",
       "      <td>Europe</td>\n",
       "      <td>English</td>\n",
       "    </tr>\n",
       "    <tr>\n",
       "      <th>4</th>\n",
       "      <td>Japan</td>\n",
       "      <td>127.061</td>\n",
       "      <td>4602367</td>\n",
       "      <td>377930</td>\n",
       "      <td>0.891</td>\n",
       "      <td>Asia</td>\n",
       "      <td>English</td>\n",
       "    </tr>\n",
       "    <tr>\n",
       "      <th>5</th>\n",
       "      <td>United Kingdom</td>\n",
       "      <td>64.511</td>\n",
       "      <td>2950039</td>\n",
       "      <td>242495</td>\n",
       "      <td>0.907</td>\n",
       "      <td>Europe</td>\n",
       "      <td>English</td>\n",
       "    </tr>\n",
       "    <tr>\n",
       "      <th>6</th>\n",
       "      <td>United States</td>\n",
       "      <td>318.523</td>\n",
       "      <td>17348075</td>\n",
       "      <td>9525067</td>\n",
       "      <td>0.915</td>\n",
       "      <td>America</td>\n",
       "      <td>English</td>\n",
       "    </tr>\n",
       "  </tbody>\n",
       "</table>\n",
       "</div>"
      ],
      "text/plain": [
       "             Name  Population       GDP  Surface Area    HDI Continent  \\\n",
       "0          Canada      35.467   1785387       9984670  0.913   America   \n",
       "1          France      63.951   2833687        640679  0.888    Europe   \n",
       "2         Germany      80.940   3874437        357114  0.916    Europe   \n",
       "3           Italy      60.665   2167744        301336  0.873    Europe   \n",
       "4           Japan     127.061   4602367        377930  0.891      Asia   \n",
       "5  United Kingdom      64.511   2950039        242495  0.907    Europe   \n",
       "6   United States     318.523  17348075       9525067  0.915   America   \n",
       "\n",
       "  Language  \n",
       "0  English  \n",
       "1  English  \n",
       "2  English  \n",
       "3  English  \n",
       "4  English  \n",
       "5  English  \n",
       "6  English  "
      ]
     },
     "execution_count": 32,
     "metadata": {},
     "output_type": "execute_result"
    }
   ],
   "source": [
    "df"
   ]
  },
  {
   "cell_type": "markdown",
   "id": "fbebfcc9",
   "metadata": {
    "id": "yjrsT0TSu8IM",
    "papermill": {
     "duration": 0.019763,
     "end_time": "2024-07-18T16:01:52.464722",
     "exception": false,
     "start_time": "2024-07-18T16:01:52.444959",
     "status": "completed"
    },
    "tags": []
   },
   "source": [
    "---\n",
    "### Перейменування стовпців\n"
   ]
  },
  {
   "cell_type": "code",
   "execution_count": 33,
   "id": "96390ccd",
   "metadata": {
    "execution": {
     "iopub.execute_input": "2024-07-18T16:01:52.505645Z",
     "iopub.status.busy": "2024-07-18T16:01:52.505163Z",
     "iopub.status.idle": "2024-07-18T16:01:52.521881Z",
     "shell.execute_reply": "2024-07-18T16:01:52.520679Z"
    },
    "id": "12_zKb8Ou8IM",
    "outputId": "bc50bfdc-02d4-4afd-f57a-e0e016785344",
    "papermill": {
     "duration": 0.03949,
     "end_time": "2024-07-18T16:01:52.524315",
     "exception": false,
     "start_time": "2024-07-18T16:01:52.484825",
     "status": "completed"
    },
    "tags": []
   },
   "outputs": [
    {
     "data": {
      "text/html": [
       "<div>\n",
       "<style scoped>\n",
       "    .dataframe tbody tr th:only-of-type {\n",
       "        vertical-align: middle;\n",
       "    }\n",
       "\n",
       "    .dataframe tbody tr th {\n",
       "        vertical-align: top;\n",
       "    }\n",
       "\n",
       "    .dataframe thead th {\n",
       "        text-align: right;\n",
       "    }\n",
       "</style>\n",
       "<table border=\"1\" class=\"dataframe\">\n",
       "  <thead>\n",
       "    <tr style=\"text-align: right;\">\n",
       "      <th></th>\n",
       "      <th>Name</th>\n",
       "      <th>Population</th>\n",
       "      <th>GDP</th>\n",
       "      <th>Surface Area</th>\n",
       "      <th>Human Development Index</th>\n",
       "      <th>Continent</th>\n",
       "      <th>Language</th>\n",
       "    </tr>\n",
       "  </thead>\n",
       "  <tbody>\n",
       "    <tr>\n",
       "      <th>0</th>\n",
       "      <td>Canada</td>\n",
       "      <td>35.467</td>\n",
       "      <td>1785387</td>\n",
       "      <td>9984670</td>\n",
       "      <td>0.913</td>\n",
       "      <td>America</td>\n",
       "      <td>English</td>\n",
       "    </tr>\n",
       "    <tr>\n",
       "      <th>1</th>\n",
       "      <td>France</td>\n",
       "      <td>63.951</td>\n",
       "      <td>2833687</td>\n",
       "      <td>640679</td>\n",
       "      <td>0.888</td>\n",
       "      <td>Europe</td>\n",
       "      <td>English</td>\n",
       "    </tr>\n",
       "    <tr>\n",
       "      <th>2</th>\n",
       "      <td>Germany</td>\n",
       "      <td>80.940</td>\n",
       "      <td>3874437</td>\n",
       "      <td>357114</td>\n",
       "      <td>0.916</td>\n",
       "      <td>Europe</td>\n",
       "      <td>English</td>\n",
       "    </tr>\n",
       "    <tr>\n",
       "      <th>3</th>\n",
       "      <td>Italy</td>\n",
       "      <td>60.665</td>\n",
       "      <td>2167744</td>\n",
       "      <td>301336</td>\n",
       "      <td>0.873</td>\n",
       "      <td>Europe</td>\n",
       "      <td>English</td>\n",
       "    </tr>\n",
       "    <tr>\n",
       "      <th>4</th>\n",
       "      <td>Japan</td>\n",
       "      <td>127.061</td>\n",
       "      <td>4602367</td>\n",
       "      <td>377930</td>\n",
       "      <td>0.891</td>\n",
       "      <td>Asia</td>\n",
       "      <td>English</td>\n",
       "    </tr>\n",
       "    <tr>\n",
       "      <th>5</th>\n",
       "      <td>United Kingdom</td>\n",
       "      <td>64.511</td>\n",
       "      <td>2950039</td>\n",
       "      <td>242495</td>\n",
       "      <td>0.907</td>\n",
       "      <td>Europe</td>\n",
       "      <td>English</td>\n",
       "    </tr>\n",
       "    <tr>\n",
       "      <th>6</th>\n",
       "      <td>United States</td>\n",
       "      <td>318.523</td>\n",
       "      <td>17348075</td>\n",
       "      <td>9525067</td>\n",
       "      <td>0.915</td>\n",
       "      <td>America</td>\n",
       "      <td>English</td>\n",
       "    </tr>\n",
       "  </tbody>\n",
       "</table>\n",
       "</div>"
      ],
      "text/plain": [
       "             Name  Population       GDP  Surface Area  \\\n",
       "0          Canada      35.467   1785387       9984670   \n",
       "1          France      63.951   2833687        640679   \n",
       "2         Germany      80.940   3874437        357114   \n",
       "3           Italy      60.665   2167744        301336   \n",
       "4           Japan     127.061   4602367        377930   \n",
       "5  United Kingdom      64.511   2950039        242495   \n",
       "6   United States     318.523  17348075       9525067   \n",
       "\n",
       "   Human Development Index Continent Language  \n",
       "0                    0.913   America  English  \n",
       "1                    0.888    Europe  English  \n",
       "2                    0.916    Europe  English  \n",
       "3                    0.873    Europe  English  \n",
       "4                    0.891      Asia  English  \n",
       "5                    0.907    Europe  English  \n",
       "6                    0.915   America  English  "
      ]
     },
     "execution_count": 33,
     "metadata": {},
     "output_type": "execute_result"
    }
   ],
   "source": [
    "df.rename(\n",
    "    columns={\n",
    "        'HDI': 'Human Development Index',\n",
    "        'Anual Popcorn Consumption': 'APC'\n",
    "    })"
   ]
  },
  {
   "cell_type": "markdown",
   "id": "1de5cade",
   "metadata": {
    "id": "LUO7vVVgu8IM",
    "papermill": {
     "duration": 0.018883,
     "end_time": "2024-07-18T16:01:52.562204",
     "exception": false,
     "start_time": "2024-07-18T16:01:52.543321",
     "status": "completed"
    },
    "tags": []
   },
   "source": [
    "---\n",
    "### Видалення стовпців"
   ]
  },
  {
   "cell_type": "code",
   "execution_count": 34,
   "id": "ed4e8e60",
   "metadata": {
    "execution": {
     "iopub.execute_input": "2024-07-18T16:01:52.602227Z",
     "iopub.status.busy": "2024-07-18T16:01:52.601818Z",
     "iopub.status.idle": "2024-07-18T16:01:52.607990Z",
     "shell.execute_reply": "2024-07-18T16:01:52.606818Z"
    },
    "id": "NIPuQ3Pju8IN",
    "papermill": {
     "duration": 0.029101,
     "end_time": "2024-07-18T16:01:52.610355",
     "exception": false,
     "start_time": "2024-07-18T16:01:52.581254",
     "status": "completed"
    },
    "tags": []
   },
   "outputs": [],
   "source": [
    "df.drop(columns='Language', inplace=True)"
   ]
  },
  {
   "cell_type": "code",
   "execution_count": 35,
   "id": "07519832",
   "metadata": {
    "execution": {
     "iopub.execute_input": "2024-07-18T16:01:52.657620Z",
     "iopub.status.busy": "2024-07-18T16:01:52.657183Z",
     "iopub.status.idle": "2024-07-18T16:01:52.675671Z",
     "shell.execute_reply": "2024-07-18T16:01:52.673895Z"
    },
    "id": "CPm6SSBg0yB1",
    "outputId": "98730610-c344-45b7-8a78-0c2decb9d379",
    "papermill": {
     "duration": 0.048378,
     "end_time": "2024-07-18T16:01:52.679504",
     "exception": false,
     "start_time": "2024-07-18T16:01:52.631126",
     "status": "completed"
    },
    "tags": []
   },
   "outputs": [
    {
     "data": {
      "text/html": [
       "<div>\n",
       "<style scoped>\n",
       "    .dataframe tbody tr th:only-of-type {\n",
       "        vertical-align: middle;\n",
       "    }\n",
       "\n",
       "    .dataframe tbody tr th {\n",
       "        vertical-align: top;\n",
       "    }\n",
       "\n",
       "    .dataframe thead th {\n",
       "        text-align: right;\n",
       "    }\n",
       "</style>\n",
       "<table border=\"1\" class=\"dataframe\">\n",
       "  <thead>\n",
       "    <tr style=\"text-align: right;\">\n",
       "      <th></th>\n",
       "      <th>Name</th>\n",
       "      <th>Population</th>\n",
       "      <th>GDP</th>\n",
       "      <th>Surface Area</th>\n",
       "      <th>HDI</th>\n",
       "      <th>Continent</th>\n",
       "    </tr>\n",
       "  </thead>\n",
       "  <tbody>\n",
       "    <tr>\n",
       "      <th>0</th>\n",
       "      <td>Canada</td>\n",
       "      <td>35.467</td>\n",
       "      <td>1785387</td>\n",
       "      <td>9984670</td>\n",
       "      <td>0.913</td>\n",
       "      <td>America</td>\n",
       "    </tr>\n",
       "    <tr>\n",
       "      <th>1</th>\n",
       "      <td>France</td>\n",
       "      <td>63.951</td>\n",
       "      <td>2833687</td>\n",
       "      <td>640679</td>\n",
       "      <td>0.888</td>\n",
       "      <td>Europe</td>\n",
       "    </tr>\n",
       "    <tr>\n",
       "      <th>2</th>\n",
       "      <td>Germany</td>\n",
       "      <td>80.940</td>\n",
       "      <td>3874437</td>\n",
       "      <td>357114</td>\n",
       "      <td>0.916</td>\n",
       "      <td>Europe</td>\n",
       "    </tr>\n",
       "    <tr>\n",
       "      <th>3</th>\n",
       "      <td>Italy</td>\n",
       "      <td>60.665</td>\n",
       "      <td>2167744</td>\n",
       "      <td>301336</td>\n",
       "      <td>0.873</td>\n",
       "      <td>Europe</td>\n",
       "    </tr>\n",
       "    <tr>\n",
       "      <th>4</th>\n",
       "      <td>Japan</td>\n",
       "      <td>127.061</td>\n",
       "      <td>4602367</td>\n",
       "      <td>377930</td>\n",
       "      <td>0.891</td>\n",
       "      <td>Asia</td>\n",
       "    </tr>\n",
       "    <tr>\n",
       "      <th>5</th>\n",
       "      <td>United Kingdom</td>\n",
       "      <td>64.511</td>\n",
       "      <td>2950039</td>\n",
       "      <td>242495</td>\n",
       "      <td>0.907</td>\n",
       "      <td>Europe</td>\n",
       "    </tr>\n",
       "    <tr>\n",
       "      <th>6</th>\n",
       "      <td>United States</td>\n",
       "      <td>318.523</td>\n",
       "      <td>17348075</td>\n",
       "      <td>9525067</td>\n",
       "      <td>0.915</td>\n",
       "      <td>America</td>\n",
       "    </tr>\n",
       "  </tbody>\n",
       "</table>\n",
       "</div>"
      ],
      "text/plain": [
       "             Name  Population       GDP  Surface Area    HDI Continent\n",
       "0          Canada      35.467   1785387       9984670  0.913   America\n",
       "1          France      63.951   2833687        640679  0.888    Europe\n",
       "2         Germany      80.940   3874437        357114  0.916    Europe\n",
       "3           Italy      60.665   2167744        301336  0.873    Europe\n",
       "4           Japan     127.061   4602367        377930  0.891      Asia\n",
       "5  United Kingdom      64.511   2950039        242495  0.907    Europe\n",
       "6   United States     318.523  17348075       9525067  0.915   America"
      ]
     },
     "execution_count": 35,
     "metadata": {},
     "output_type": "execute_result"
    }
   ],
   "source": [
    "df"
   ]
  },
  {
   "cell_type": "markdown",
   "id": "bd4196b6",
   "metadata": {
    "id": "hDj_4TPgu8IP",
    "papermill": {
     "duration": 0.024567,
     "end_time": "2024-07-18T16:01:52.731147",
     "exception": false,
     "start_time": "2024-07-18T16:01:52.706580",
     "status": "completed"
    },
    "tags": []
   },
   "source": [
    "---\n",
    "### Зміна індексу"
   ]
  },
  {
   "cell_type": "code",
   "execution_count": 36,
   "id": "948c1b95",
   "metadata": {
    "execution": {
     "iopub.execute_input": "2024-07-18T16:01:52.773289Z",
     "iopub.status.busy": "2024-07-18T16:01:52.772312Z",
     "iopub.status.idle": "2024-07-18T16:01:52.787333Z",
     "shell.execute_reply": "2024-07-18T16:01:52.785196Z"
    },
    "id": "5Wm70HyCu8IP",
    "outputId": "9efa47cf-b22d-4bbc-beeb-3e905db39410",
    "papermill": {
     "duration": 0.041565,
     "end_time": "2024-07-18T16:01:52.792906",
     "exception": false,
     "start_time": "2024-07-18T16:01:52.751341",
     "status": "completed"
    },
    "scrolled": true,
    "tags": []
   },
   "outputs": [
    {
     "data": {
      "text/html": [
       "<div>\n",
       "<style scoped>\n",
       "    .dataframe tbody tr th:only-of-type {\n",
       "        vertical-align: middle;\n",
       "    }\n",
       "\n",
       "    .dataframe tbody tr th {\n",
       "        vertical-align: top;\n",
       "    }\n",
       "\n",
       "    .dataframe thead th {\n",
       "        text-align: right;\n",
       "    }\n",
       "</style>\n",
       "<table border=\"1\" class=\"dataframe\">\n",
       "  <thead>\n",
       "    <tr style=\"text-align: right;\">\n",
       "      <th></th>\n",
       "      <th>Population</th>\n",
       "      <th>GDP</th>\n",
       "      <th>Surface Area</th>\n",
       "      <th>HDI</th>\n",
       "      <th>Continent</th>\n",
       "    </tr>\n",
       "    <tr>\n",
       "      <th>Name</th>\n",
       "      <th></th>\n",
       "      <th></th>\n",
       "      <th></th>\n",
       "      <th></th>\n",
       "      <th></th>\n",
       "    </tr>\n",
       "  </thead>\n",
       "  <tbody>\n",
       "    <tr>\n",
       "      <th>Canada</th>\n",
       "      <td>35.467</td>\n",
       "      <td>1785387</td>\n",
       "      <td>9984670</td>\n",
       "      <td>0.913</td>\n",
       "      <td>America</td>\n",
       "    </tr>\n",
       "    <tr>\n",
       "      <th>France</th>\n",
       "      <td>63.951</td>\n",
       "      <td>2833687</td>\n",
       "      <td>640679</td>\n",
       "      <td>0.888</td>\n",
       "      <td>Europe</td>\n",
       "    </tr>\n",
       "    <tr>\n",
       "      <th>Germany</th>\n",
       "      <td>80.940</td>\n",
       "      <td>3874437</td>\n",
       "      <td>357114</td>\n",
       "      <td>0.916</td>\n",
       "      <td>Europe</td>\n",
       "    </tr>\n",
       "    <tr>\n",
       "      <th>Italy</th>\n",
       "      <td>60.665</td>\n",
       "      <td>2167744</td>\n",
       "      <td>301336</td>\n",
       "      <td>0.873</td>\n",
       "      <td>Europe</td>\n",
       "    </tr>\n",
       "    <tr>\n",
       "      <th>Japan</th>\n",
       "      <td>127.061</td>\n",
       "      <td>4602367</td>\n",
       "      <td>377930</td>\n",
       "      <td>0.891</td>\n",
       "      <td>Asia</td>\n",
       "    </tr>\n",
       "    <tr>\n",
       "      <th>United Kingdom</th>\n",
       "      <td>64.511</td>\n",
       "      <td>2950039</td>\n",
       "      <td>242495</td>\n",
       "      <td>0.907</td>\n",
       "      <td>Europe</td>\n",
       "    </tr>\n",
       "    <tr>\n",
       "      <th>United States</th>\n",
       "      <td>318.523</td>\n",
       "      <td>17348075</td>\n",
       "      <td>9525067</td>\n",
       "      <td>0.915</td>\n",
       "      <td>America</td>\n",
       "    </tr>\n",
       "  </tbody>\n",
       "</table>\n",
       "</div>"
      ],
      "text/plain": [
       "                Population       GDP  Surface Area    HDI Continent\n",
       "Name                                                               \n",
       "Canada              35.467   1785387       9984670  0.913   America\n",
       "France              63.951   2833687        640679  0.888    Europe\n",
       "Germany             80.940   3874437        357114  0.916    Europe\n",
       "Italy               60.665   2167744        301336  0.873    Europe\n",
       "Japan              127.061   4602367        377930  0.891      Asia\n",
       "United Kingdom      64.511   2950039        242495  0.907    Europe\n",
       "United States      318.523  17348075       9525067  0.915   America"
      ]
     },
     "execution_count": 36,
     "metadata": {},
     "output_type": "execute_result"
    }
   ],
   "source": [
    "df.set_index('Name')"
   ]
  },
  {
   "cell_type": "markdown",
   "id": "990f3622",
   "metadata": {
    "id": "IVgIElq7u8IP",
    "papermill": {
     "duration": 0.023174,
     "end_time": "2024-07-18T16:01:52.850064",
     "exception": false,
     "start_time": "2024-07-18T16:01:52.826890",
     "status": "completed"
    },
    "tags": []
   },
   "source": [
    "## Створення стовпців з інших стовпців\n",
    "\n",
    "Зміна DataFrame часто передбачає поєднання різних стовпців в інші. Наприклад, у нашому аналізі країн ми могли б спробувати обчислити «ВВП на душу населення», що означає просто `GDP / Population`."
   ]
  },
  {
   "cell_type": "code",
   "execution_count": 37,
   "id": "f29e153e",
   "metadata": {
    "execution": {
     "iopub.execute_input": "2024-07-18T16:01:52.920029Z",
     "iopub.status.busy": "2024-07-18T16:01:52.919066Z",
     "iopub.status.idle": "2024-07-18T16:01:52.939087Z",
     "shell.execute_reply": "2024-07-18T16:01:52.936572Z"
    },
    "id": "VM9Bpmn9u8IP",
    "outputId": "c13a2fd9-0c6b-4f14-9593-8152f9286c41",
    "papermill": {
     "duration": 0.064659,
     "end_time": "2024-07-18T16:01:52.943351",
     "exception": false,
     "start_time": "2024-07-18T16:01:52.878692",
     "status": "completed"
    },
    "scrolled": true,
    "tags": []
   },
   "outputs": [
    {
     "data": {
      "text/html": [
       "<div>\n",
       "<style scoped>\n",
       "    .dataframe tbody tr th:only-of-type {\n",
       "        vertical-align: middle;\n",
       "    }\n",
       "\n",
       "    .dataframe tbody tr th {\n",
       "        vertical-align: top;\n",
       "    }\n",
       "\n",
       "    .dataframe thead th {\n",
       "        text-align: right;\n",
       "    }\n",
       "</style>\n",
       "<table border=\"1\" class=\"dataframe\">\n",
       "  <thead>\n",
       "    <tr style=\"text-align: right;\">\n",
       "      <th></th>\n",
       "      <th>GDP</th>\n",
       "      <th>Population</th>\n",
       "    </tr>\n",
       "  </thead>\n",
       "  <tbody>\n",
       "    <tr>\n",
       "      <th>0</th>\n",
       "      <td>1785387</td>\n",
       "      <td>35.467</td>\n",
       "    </tr>\n",
       "    <tr>\n",
       "      <th>1</th>\n",
       "      <td>2833687</td>\n",
       "      <td>63.951</td>\n",
       "    </tr>\n",
       "    <tr>\n",
       "      <th>2</th>\n",
       "      <td>3874437</td>\n",
       "      <td>80.940</td>\n",
       "    </tr>\n",
       "    <tr>\n",
       "      <th>3</th>\n",
       "      <td>2167744</td>\n",
       "      <td>60.665</td>\n",
       "    </tr>\n",
       "    <tr>\n",
       "      <th>4</th>\n",
       "      <td>4602367</td>\n",
       "      <td>127.061</td>\n",
       "    </tr>\n",
       "    <tr>\n",
       "      <th>5</th>\n",
       "      <td>2950039</td>\n",
       "      <td>64.511</td>\n",
       "    </tr>\n",
       "    <tr>\n",
       "      <th>6</th>\n",
       "      <td>17348075</td>\n",
       "      <td>318.523</td>\n",
       "    </tr>\n",
       "  </tbody>\n",
       "</table>\n",
       "</div>"
      ],
      "text/plain": [
       "        GDP  Population\n",
       "0   1785387      35.467\n",
       "1   2833687      63.951\n",
       "2   3874437      80.940\n",
       "3   2167744      60.665\n",
       "4   4602367     127.061\n",
       "5   2950039      64.511\n",
       "6  17348075     318.523"
      ]
     },
     "execution_count": 37,
     "metadata": {},
     "output_type": "execute_result"
    }
   ],
   "source": [
    "df[['GDP', 'Population']]"
   ]
  },
  {
   "cell_type": "code",
   "execution_count": 38,
   "id": "dfd564d5",
   "metadata": {
    "execution": {
     "iopub.execute_input": "2024-07-18T16:01:52.999455Z",
     "iopub.status.busy": "2024-07-18T16:01:52.999008Z",
     "iopub.status.idle": "2024-07-18T16:01:53.008803Z",
     "shell.execute_reply": "2024-07-18T16:01:53.007568Z"
    },
    "id": "4ns99hKZu8IQ",
    "outputId": "571faf9e-536a-4191-b138-7ea93deaacea",
    "papermill": {
     "duration": 0.037694,
     "end_time": "2024-07-18T16:01:53.011502",
     "exception": false,
     "start_time": "2024-07-18T16:01:52.973808",
     "status": "completed"
    },
    "tags": []
   },
   "outputs": [
    {
     "data": {
      "text/plain": [
       "0    50339.385908\n",
       "1    44310.284437\n",
       "2    47868.013343\n",
       "3    35733.025633\n",
       "4    36221.712406\n",
       "5    45729.239975\n",
       "6    54464.120330\n",
       "dtype: float64"
      ]
     },
     "execution_count": 38,
     "metadata": {},
     "output_type": "execute_result"
    }
   ],
   "source": [
    "df['GDP'] / df['Population']"
   ]
  },
  {
   "cell_type": "markdown",
   "id": "4aef2ae1",
   "metadata": {
    "id": "dPT1d62uu8IQ",
    "papermill": {
     "duration": 0.02282,
     "end_time": "2024-07-18T16:01:53.061309",
     "exception": false,
     "start_time": "2024-07-18T16:01:53.038489",
     "status": "completed"
    },
    "tags": []
   },
   "source": [
    "Результатом цієї операції є ще одна `Series`, яку ви можете додати до оригінального `DataFrame`:"
   ]
  },
  {
   "cell_type": "code",
   "execution_count": 39,
   "id": "33deaf12",
   "metadata": {
    "execution": {
     "iopub.execute_input": "2024-07-18T16:01:53.108296Z",
     "iopub.status.busy": "2024-07-18T16:01:53.107884Z",
     "iopub.status.idle": "2024-07-18T16:01:53.115305Z",
     "shell.execute_reply": "2024-07-18T16:01:53.113473Z"
    },
    "id": "A2tizbT5u8IQ",
    "papermill": {
     "duration": 0.036186,
     "end_time": "2024-07-18T16:01:53.117924",
     "exception": false,
     "start_time": "2024-07-18T16:01:53.081738",
     "status": "completed"
    },
    "tags": []
   },
   "outputs": [],
   "source": [
    "df['GDP Per Capita'] = df['GDP'] / df['Population']"
   ]
  },
  {
   "cell_type": "code",
   "execution_count": 40,
   "id": "6cb1e0bb",
   "metadata": {
    "execution": {
     "iopub.execute_input": "2024-07-18T16:01:53.162170Z",
     "iopub.status.busy": "2024-07-18T16:01:53.161739Z",
     "iopub.status.idle": "2024-07-18T16:01:53.178123Z",
     "shell.execute_reply": "2024-07-18T16:01:53.176456Z"
    },
    "id": "NDHekW_Yu8IQ",
    "outputId": "44307a3f-5b89-4f2e-d826-02c1530805dd",
    "papermill": {
     "duration": 0.04118,
     "end_time": "2024-07-18T16:01:53.181100",
     "exception": false,
     "start_time": "2024-07-18T16:01:53.139920",
     "status": "completed"
    },
    "tags": []
   },
   "outputs": [
    {
     "data": {
      "text/html": [
       "<div>\n",
       "<style scoped>\n",
       "    .dataframe tbody tr th:only-of-type {\n",
       "        vertical-align: middle;\n",
       "    }\n",
       "\n",
       "    .dataframe tbody tr th {\n",
       "        vertical-align: top;\n",
       "    }\n",
       "\n",
       "    .dataframe thead th {\n",
       "        text-align: right;\n",
       "    }\n",
       "</style>\n",
       "<table border=\"1\" class=\"dataframe\">\n",
       "  <thead>\n",
       "    <tr style=\"text-align: right;\">\n",
       "      <th></th>\n",
       "      <th>Name</th>\n",
       "      <th>Population</th>\n",
       "      <th>GDP</th>\n",
       "      <th>Surface Area</th>\n",
       "      <th>HDI</th>\n",
       "      <th>Continent</th>\n",
       "      <th>GDP Per Capita</th>\n",
       "    </tr>\n",
       "  </thead>\n",
       "  <tbody>\n",
       "    <tr>\n",
       "      <th>0</th>\n",
       "      <td>Canada</td>\n",
       "      <td>35.467</td>\n",
       "      <td>1785387</td>\n",
       "      <td>9984670</td>\n",
       "      <td>0.913</td>\n",
       "      <td>America</td>\n",
       "      <td>50339.385908</td>\n",
       "    </tr>\n",
       "    <tr>\n",
       "      <th>1</th>\n",
       "      <td>France</td>\n",
       "      <td>63.951</td>\n",
       "      <td>2833687</td>\n",
       "      <td>640679</td>\n",
       "      <td>0.888</td>\n",
       "      <td>Europe</td>\n",
       "      <td>44310.284437</td>\n",
       "    </tr>\n",
       "    <tr>\n",
       "      <th>2</th>\n",
       "      <td>Germany</td>\n",
       "      <td>80.940</td>\n",
       "      <td>3874437</td>\n",
       "      <td>357114</td>\n",
       "      <td>0.916</td>\n",
       "      <td>Europe</td>\n",
       "      <td>47868.013343</td>\n",
       "    </tr>\n",
       "    <tr>\n",
       "      <th>3</th>\n",
       "      <td>Italy</td>\n",
       "      <td>60.665</td>\n",
       "      <td>2167744</td>\n",
       "      <td>301336</td>\n",
       "      <td>0.873</td>\n",
       "      <td>Europe</td>\n",
       "      <td>35733.025633</td>\n",
       "    </tr>\n",
       "    <tr>\n",
       "      <th>4</th>\n",
       "      <td>Japan</td>\n",
       "      <td>127.061</td>\n",
       "      <td>4602367</td>\n",
       "      <td>377930</td>\n",
       "      <td>0.891</td>\n",
       "      <td>Asia</td>\n",
       "      <td>36221.712406</td>\n",
       "    </tr>\n",
       "    <tr>\n",
       "      <th>5</th>\n",
       "      <td>United Kingdom</td>\n",
       "      <td>64.511</td>\n",
       "      <td>2950039</td>\n",
       "      <td>242495</td>\n",
       "      <td>0.907</td>\n",
       "      <td>Europe</td>\n",
       "      <td>45729.239975</td>\n",
       "    </tr>\n",
       "    <tr>\n",
       "      <th>6</th>\n",
       "      <td>United States</td>\n",
       "      <td>318.523</td>\n",
       "      <td>17348075</td>\n",
       "      <td>9525067</td>\n",
       "      <td>0.915</td>\n",
       "      <td>America</td>\n",
       "      <td>54464.120330</td>\n",
       "    </tr>\n",
       "  </tbody>\n",
       "</table>\n",
       "</div>"
      ],
      "text/plain": [
       "             Name  Population       GDP  Surface Area    HDI Continent  \\\n",
       "0          Canada      35.467   1785387       9984670  0.913   America   \n",
       "1          France      63.951   2833687        640679  0.888    Europe   \n",
       "2         Germany      80.940   3874437        357114  0.916    Europe   \n",
       "3           Italy      60.665   2167744        301336  0.873    Europe   \n",
       "4           Japan     127.061   4602367        377930  0.891      Asia   \n",
       "5  United Kingdom      64.511   2950039        242495  0.907    Europe   \n",
       "6   United States     318.523  17348075       9525067  0.915   America   \n",
       "\n",
       "   GDP Per Capita  \n",
       "0    50339.385908  \n",
       "1    44310.284437  \n",
       "2    47868.013343  \n",
       "3    35733.025633  \n",
       "4    36221.712406  \n",
       "5    45729.239975  \n",
       "6    54464.120330  "
      ]
     },
     "execution_count": 40,
     "metadata": {},
     "output_type": "execute_result"
    }
   ],
   "source": [
    "df"
   ]
  },
  {
   "cell_type": "markdown",
   "id": "00077a5d",
   "metadata": {
    "id": "HWlLUFid1El-",
    "papermill": {
     "duration": 0.020963,
     "end_time": "2024-07-18T16:01:53.223201",
     "exception": false,
     "start_time": "2024-07-18T16:01:53.202238",
     "status": "completed"
    },
    "tags": []
   },
   "source": [
    "## Пропущені значення"
   ]
  },
  {
   "cell_type": "code",
   "execution_count": 41,
   "id": "f1696e68",
   "metadata": {
    "execution": {
     "iopub.execute_input": "2024-07-18T16:01:53.267130Z",
     "iopub.status.busy": "2024-07-18T16:01:53.266711Z",
     "iopub.status.idle": "2024-07-18T16:01:53.285692Z",
     "shell.execute_reply": "2024-07-18T16:01:53.284471Z"
    },
    "id": "izUuijas12ov",
    "outputId": "43e722b9-0579-4682-c641-25c3109fa586",
    "papermill": {
     "duration": 0.044112,
     "end_time": "2024-07-18T16:01:53.288420",
     "exception": false,
     "start_time": "2024-07-18T16:01:53.244308",
     "status": "completed"
    },
    "tags": []
   },
   "outputs": [
    {
     "data": {
      "text/html": [
       "<div>\n",
       "<style scoped>\n",
       "    .dataframe tbody tr th:only-of-type {\n",
       "        vertical-align: middle;\n",
       "    }\n",
       "\n",
       "    .dataframe tbody tr th {\n",
       "        vertical-align: top;\n",
       "    }\n",
       "\n",
       "    .dataframe thead th {\n",
       "        text-align: right;\n",
       "    }\n",
       "</style>\n",
       "<table border=\"1\" class=\"dataframe\">\n",
       "  <thead>\n",
       "    <tr style=\"text-align: right;\">\n",
       "      <th></th>\n",
       "      <th>Name</th>\n",
       "      <th>Population</th>\n",
       "      <th>GDP</th>\n",
       "      <th>Surface Area</th>\n",
       "      <th>HDI</th>\n",
       "      <th>Continent</th>\n",
       "      <th>GDP Per Capita</th>\n",
       "    </tr>\n",
       "  </thead>\n",
       "  <tbody>\n",
       "    <tr>\n",
       "      <th>0</th>\n",
       "      <td>Canada</td>\n",
       "      <td>35.467</td>\n",
       "      <td>1785387</td>\n",
       "      <td>9984670.0</td>\n",
       "      <td>0.913</td>\n",
       "      <td>NaN</td>\n",
       "      <td>50339.385908</td>\n",
       "    </tr>\n",
       "    <tr>\n",
       "      <th>1</th>\n",
       "      <td>France</td>\n",
       "      <td>63.951</td>\n",
       "      <td>2833687</td>\n",
       "      <td>640679.0</td>\n",
       "      <td>0.888</td>\n",
       "      <td>Europe</td>\n",
       "      <td>44310.284437</td>\n",
       "    </tr>\n",
       "    <tr>\n",
       "      <th>2</th>\n",
       "      <td>Germany</td>\n",
       "      <td>80.940</td>\n",
       "      <td>3874437</td>\n",
       "      <td>NaN</td>\n",
       "      <td>0.916</td>\n",
       "      <td>Europe</td>\n",
       "      <td>NaN</td>\n",
       "    </tr>\n",
       "    <tr>\n",
       "      <th>3</th>\n",
       "      <td>Italy</td>\n",
       "      <td>60.665</td>\n",
       "      <td>2167744</td>\n",
       "      <td>301336.0</td>\n",
       "      <td>0.873</td>\n",
       "      <td>Europe</td>\n",
       "      <td>35733.025633</td>\n",
       "    </tr>\n",
       "    <tr>\n",
       "      <th>4</th>\n",
       "      <td>Japan</td>\n",
       "      <td>127.061</td>\n",
       "      <td>4602367</td>\n",
       "      <td>377930.0</td>\n",
       "      <td>0.891</td>\n",
       "      <td>Asia</td>\n",
       "      <td>36221.712406</td>\n",
       "    </tr>\n",
       "    <tr>\n",
       "      <th>5</th>\n",
       "      <td>United Kingdom</td>\n",
       "      <td>64.511</td>\n",
       "      <td>2950039</td>\n",
       "      <td>NaN</td>\n",
       "      <td>0.907</td>\n",
       "      <td>Europe</td>\n",
       "      <td>45729.239975</td>\n",
       "    </tr>\n",
       "    <tr>\n",
       "      <th>6</th>\n",
       "      <td>United States</td>\n",
       "      <td>318.523</td>\n",
       "      <td>17348075</td>\n",
       "      <td>9525067.0</td>\n",
       "      <td>0.915</td>\n",
       "      <td>America</td>\n",
       "      <td>54464.120330</td>\n",
       "    </tr>\n",
       "  </tbody>\n",
       "</table>\n",
       "</div>"
      ],
      "text/plain": [
       "             Name  Population       GDP  Surface Area    HDI Continent  \\\n",
       "0          Canada      35.467   1785387     9984670.0  0.913       NaN   \n",
       "1          France      63.951   2833687      640679.0  0.888    Europe   \n",
       "2         Germany      80.940   3874437           NaN  0.916    Europe   \n",
       "3           Italy      60.665   2167744      301336.0  0.873    Europe   \n",
       "4           Japan     127.061   4602367      377930.0  0.891      Asia   \n",
       "5  United Kingdom      64.511   2950039           NaN  0.907    Europe   \n",
       "6   United States     318.523  17348075     9525067.0  0.915   America   \n",
       "\n",
       "   GDP Per Capita  \n",
       "0    50339.385908  \n",
       "1    44310.284437  \n",
       "2             NaN  \n",
       "3    35733.025633  \n",
       "4    36221.712406  \n",
       "5    45729.239975  \n",
       "6    54464.120330  "
      ]
     },
     "execution_count": 41,
     "metadata": {},
     "output_type": "execute_result"
    }
   ],
   "source": [
    "for i, j in zip([0, 2, 2, 5], [5, 3, 6, 3]):\n",
    "  df.iloc[i, j] = np.nan\n",
    "\n",
    "df"
   ]
  },
  {
   "cell_type": "markdown",
   "id": "4168f130",
   "metadata": {
    "id": "E8yeotdA9rWl",
    "papermill": {
     "duration": 0.020472,
     "end_time": "2024-07-18T16:01:53.331139",
     "exception": false,
     "start_time": "2024-07-18T16:01:53.310667",
     "status": "completed"
    },
    "tags": []
   },
   "source": [
    "Метод `.info` дозволяє дізнатись кількість непропущених значень(non-null count) у кожному стовпчику."
   ]
  },
  {
   "cell_type": "code",
   "execution_count": 42,
   "id": "c5a8e06a",
   "metadata": {
    "execution": {
     "iopub.execute_input": "2024-07-18T16:01:53.373551Z",
     "iopub.status.busy": "2024-07-18T16:01:53.373118Z",
     "iopub.status.idle": "2024-07-18T16:01:53.385479Z",
     "shell.execute_reply": "2024-07-18T16:01:53.384164Z"
    },
    "id": "yMBKrCBB2TD3",
    "outputId": "935d2752-4e8f-41aa-a109-fa3380e72f9f",
    "papermill": {
     "duration": 0.03653,
     "end_time": "2024-07-18T16:01:53.387978",
     "exception": false,
     "start_time": "2024-07-18T16:01:53.351448",
     "status": "completed"
    },
    "tags": []
   },
   "outputs": [
    {
     "name": "stdout",
     "output_type": "stream",
     "text": [
      "<class 'pandas.core.frame.DataFrame'>\n",
      "RangeIndex: 7 entries, 0 to 6\n",
      "Data columns (total 7 columns):\n",
      " #   Column          Non-Null Count  Dtype  \n",
      "---  ------          --------------  -----  \n",
      " 0   Name            7 non-null      object \n",
      " 1   Population      7 non-null      float64\n",
      " 2   GDP             7 non-null      int64  \n",
      " 3   Surface Area    5 non-null      float64\n",
      " 4   HDI             7 non-null      float64\n",
      " 5   Continent       6 non-null      object \n",
      " 6   GDP Per Capita  6 non-null      float64\n",
      "dtypes: float64(4), int64(1), object(2)\n",
      "memory usage: 520.0+ bytes\n"
     ]
    }
   ],
   "source": [
    "df.info()"
   ]
  },
  {
   "cell_type": "code",
   "execution_count": 43,
   "id": "d4182a90",
   "metadata": {
    "execution": {
     "iopub.execute_input": "2024-07-18T16:01:53.431082Z",
     "iopub.status.busy": "2024-07-18T16:01:53.430685Z",
     "iopub.status.idle": "2024-07-18T16:01:53.439107Z",
     "shell.execute_reply": "2024-07-18T16:01:53.437993Z"
    },
    "id": "-Kl6aXUO3twn",
    "outputId": "3bc29d66-d4c4-4a60-d57a-9e3dcdc24bee",
    "papermill": {
     "duration": 0.032746,
     "end_time": "2024-07-18T16:01:53.441441",
     "exception": false,
     "start_time": "2024-07-18T16:01:53.408695",
     "status": "completed"
    },
    "tags": []
   },
   "outputs": [
    {
     "data": {
      "text/plain": [
       "0     True\n",
       "1    False\n",
       "2    False\n",
       "3    False\n",
       "4    False\n",
       "5    False\n",
       "6    False\n",
       "Name: Continent, dtype: bool"
      ]
     },
     "execution_count": 43,
     "metadata": {},
     "output_type": "execute_result"
    }
   ],
   "source": [
    "df['Continent'].isnull()"
   ]
  },
  {
   "cell_type": "markdown",
   "id": "edeb3da1",
   "metadata": {
    "id": "was7mW0J-ALb",
    "papermill": {
     "duration": 0.021626,
     "end_time": "2024-07-18T16:01:53.485280",
     "exception": false,
     "start_time": "2024-07-18T16:01:53.463654",
     "status": "completed"
    },
    "tags": []
   },
   "source": [
    "Для видалення всіх рядків, які мають хоча б одне пропущене значення можна використати метод `dropna`. Після цього бажано перевірити кількість рядків, що залишились."
   ]
  },
  {
   "cell_type": "code",
   "execution_count": 44,
   "id": "0fb7b49f",
   "metadata": {
    "execution": {
     "iopub.execute_input": "2024-07-18T16:01:53.529063Z",
     "iopub.status.busy": "2024-07-18T16:01:53.528657Z",
     "iopub.status.idle": "2024-07-18T16:01:53.545040Z",
     "shell.execute_reply": "2024-07-18T16:01:53.543882Z"
    },
    "id": "hP7ftKpB2cpP",
    "outputId": "698883fe-effc-4156-e284-ecb694246842",
    "papermill": {
     "duration": 0.040909,
     "end_time": "2024-07-18T16:01:53.547542",
     "exception": false,
     "start_time": "2024-07-18T16:01:53.506633",
     "status": "completed"
    },
    "tags": []
   },
   "outputs": [
    {
     "data": {
      "text/html": [
       "<div>\n",
       "<style scoped>\n",
       "    .dataframe tbody tr th:only-of-type {\n",
       "        vertical-align: middle;\n",
       "    }\n",
       "\n",
       "    .dataframe tbody tr th {\n",
       "        vertical-align: top;\n",
       "    }\n",
       "\n",
       "    .dataframe thead th {\n",
       "        text-align: right;\n",
       "    }\n",
       "</style>\n",
       "<table border=\"1\" class=\"dataframe\">\n",
       "  <thead>\n",
       "    <tr style=\"text-align: right;\">\n",
       "      <th></th>\n",
       "      <th>Name</th>\n",
       "      <th>Population</th>\n",
       "      <th>GDP</th>\n",
       "      <th>Surface Area</th>\n",
       "      <th>HDI</th>\n",
       "      <th>Continent</th>\n",
       "      <th>GDP Per Capita</th>\n",
       "    </tr>\n",
       "  </thead>\n",
       "  <tbody>\n",
       "    <tr>\n",
       "      <th>1</th>\n",
       "      <td>France</td>\n",
       "      <td>63.951</td>\n",
       "      <td>2833687</td>\n",
       "      <td>640679.0</td>\n",
       "      <td>0.888</td>\n",
       "      <td>Europe</td>\n",
       "      <td>44310.284437</td>\n",
       "    </tr>\n",
       "    <tr>\n",
       "      <th>3</th>\n",
       "      <td>Italy</td>\n",
       "      <td>60.665</td>\n",
       "      <td>2167744</td>\n",
       "      <td>301336.0</td>\n",
       "      <td>0.873</td>\n",
       "      <td>Europe</td>\n",
       "      <td>35733.025633</td>\n",
       "    </tr>\n",
       "    <tr>\n",
       "      <th>4</th>\n",
       "      <td>Japan</td>\n",
       "      <td>127.061</td>\n",
       "      <td>4602367</td>\n",
       "      <td>377930.0</td>\n",
       "      <td>0.891</td>\n",
       "      <td>Asia</td>\n",
       "      <td>36221.712406</td>\n",
       "    </tr>\n",
       "    <tr>\n",
       "      <th>6</th>\n",
       "      <td>United States</td>\n",
       "      <td>318.523</td>\n",
       "      <td>17348075</td>\n",
       "      <td>9525067.0</td>\n",
       "      <td>0.915</td>\n",
       "      <td>America</td>\n",
       "      <td>54464.120330</td>\n",
       "    </tr>\n",
       "  </tbody>\n",
       "</table>\n",
       "</div>"
      ],
      "text/plain": [
       "            Name  Population       GDP  Surface Area    HDI Continent  \\\n",
       "1         France      63.951   2833687      640679.0  0.888    Europe   \n",
       "3          Italy      60.665   2167744      301336.0  0.873    Europe   \n",
       "4          Japan     127.061   4602367      377930.0  0.891      Asia   \n",
       "6  United States     318.523  17348075     9525067.0  0.915   America   \n",
       "\n",
       "   GDP Per Capita  \n",
       "1    44310.284437  \n",
       "3    35733.025633  \n",
       "4    36221.712406  \n",
       "6    54464.120330  "
      ]
     },
     "execution_count": 44,
     "metadata": {},
     "output_type": "execute_result"
    }
   ],
   "source": [
    "df.dropna()"
   ]
  },
  {
   "cell_type": "markdown",
   "id": "b783c278",
   "metadata": {
    "id": "A4oSHYGq-VEq",
    "papermill": {
     "duration": 0.021514,
     "end_time": "2024-07-18T16:01:53.590638",
     "exception": false,
     "start_time": "2024-07-18T16:01:53.569124",
     "status": "completed"
    },
    "tags": []
   },
   "source": [
    "Для видалення рядків, які мають пропуск в конкретному стовпці, можна використати логічну маску."
   ]
  },
  {
   "cell_type": "code",
   "execution_count": 45,
   "id": "b70c6c9f",
   "metadata": {
    "execution": {
     "iopub.execute_input": "2024-07-18T16:01:53.635364Z",
     "iopub.status.busy": "2024-07-18T16:01:53.634395Z",
     "iopub.status.idle": "2024-07-18T16:01:53.649987Z",
     "shell.execute_reply": "2024-07-18T16:01:53.648865Z"
    },
    "id": "IV0emUyy21r7",
    "outputId": "71ec95b3-592f-41e4-a443-d571b477103c",
    "papermill": {
     "duration": 0.040685,
     "end_time": "2024-07-18T16:01:53.652237",
     "exception": false,
     "start_time": "2024-07-18T16:01:53.611552",
     "status": "completed"
    },
    "tags": []
   },
   "outputs": [
    {
     "data": {
      "text/html": [
       "<div>\n",
       "<style scoped>\n",
       "    .dataframe tbody tr th:only-of-type {\n",
       "        vertical-align: middle;\n",
       "    }\n",
       "\n",
       "    .dataframe tbody tr th {\n",
       "        vertical-align: top;\n",
       "    }\n",
       "\n",
       "    .dataframe thead th {\n",
       "        text-align: right;\n",
       "    }\n",
       "</style>\n",
       "<table border=\"1\" class=\"dataframe\">\n",
       "  <thead>\n",
       "    <tr style=\"text-align: right;\">\n",
       "      <th></th>\n",
       "      <th>Name</th>\n",
       "      <th>Population</th>\n",
       "      <th>GDP</th>\n",
       "      <th>Surface Area</th>\n",
       "      <th>HDI</th>\n",
       "      <th>Continent</th>\n",
       "      <th>GDP Per Capita</th>\n",
       "    </tr>\n",
       "  </thead>\n",
       "  <tbody>\n",
       "    <tr>\n",
       "      <th>1</th>\n",
       "      <td>France</td>\n",
       "      <td>63.951</td>\n",
       "      <td>2833687</td>\n",
       "      <td>640679.0</td>\n",
       "      <td>0.888</td>\n",
       "      <td>Europe</td>\n",
       "      <td>44310.284437</td>\n",
       "    </tr>\n",
       "    <tr>\n",
       "      <th>2</th>\n",
       "      <td>Germany</td>\n",
       "      <td>80.940</td>\n",
       "      <td>3874437</td>\n",
       "      <td>NaN</td>\n",
       "      <td>0.916</td>\n",
       "      <td>Europe</td>\n",
       "      <td>NaN</td>\n",
       "    </tr>\n",
       "    <tr>\n",
       "      <th>3</th>\n",
       "      <td>Italy</td>\n",
       "      <td>60.665</td>\n",
       "      <td>2167744</td>\n",
       "      <td>301336.0</td>\n",
       "      <td>0.873</td>\n",
       "      <td>Europe</td>\n",
       "      <td>35733.025633</td>\n",
       "    </tr>\n",
       "    <tr>\n",
       "      <th>4</th>\n",
       "      <td>Japan</td>\n",
       "      <td>127.061</td>\n",
       "      <td>4602367</td>\n",
       "      <td>377930.0</td>\n",
       "      <td>0.891</td>\n",
       "      <td>Asia</td>\n",
       "      <td>36221.712406</td>\n",
       "    </tr>\n",
       "    <tr>\n",
       "      <th>5</th>\n",
       "      <td>United Kingdom</td>\n",
       "      <td>64.511</td>\n",
       "      <td>2950039</td>\n",
       "      <td>NaN</td>\n",
       "      <td>0.907</td>\n",
       "      <td>Europe</td>\n",
       "      <td>45729.239975</td>\n",
       "    </tr>\n",
       "    <tr>\n",
       "      <th>6</th>\n",
       "      <td>United States</td>\n",
       "      <td>318.523</td>\n",
       "      <td>17348075</td>\n",
       "      <td>9525067.0</td>\n",
       "      <td>0.915</td>\n",
       "      <td>America</td>\n",
       "      <td>54464.120330</td>\n",
       "    </tr>\n",
       "  </tbody>\n",
       "</table>\n",
       "</div>"
      ],
      "text/plain": [
       "             Name  Population       GDP  Surface Area    HDI Continent  \\\n",
       "1          France      63.951   2833687      640679.0  0.888    Europe   \n",
       "2         Germany      80.940   3874437           NaN  0.916    Europe   \n",
       "3           Italy      60.665   2167744      301336.0  0.873    Europe   \n",
       "4           Japan     127.061   4602367      377930.0  0.891      Asia   \n",
       "5  United Kingdom      64.511   2950039           NaN  0.907    Europe   \n",
       "6   United States     318.523  17348075     9525067.0  0.915   America   \n",
       "\n",
       "   GDP Per Capita  \n",
       "1    44310.284437  \n",
       "2             NaN  \n",
       "3    35733.025633  \n",
       "4    36221.712406  \n",
       "5    45729.239975  \n",
       "6    54464.120330  "
      ]
     },
     "execution_count": 45,
     "metadata": {},
     "output_type": "execute_result"
    }
   ],
   "source": [
    "df[~df['Continent'].isnull()]"
   ]
  },
  {
   "cell_type": "markdown",
   "id": "8ca8ab2a",
   "metadata": {
    "id": "IthRrTJa-jQd",
    "papermill": {
     "duration": 0.02292,
     "end_time": "2024-07-18T16:01:53.697499",
     "exception": false,
     "start_time": "2024-07-18T16:01:53.674579",
     "status": "completed"
    },
    "tags": []
   },
   "source": [
    "## Збереження\n",
    "\n",
    "Щоб зберегти `DataFrame` як файл `csv` використовуйте метод `to_csv`"
   ]
  },
  {
   "cell_type": "code",
   "execution_count": 46,
   "id": "9ccb46de",
   "metadata": {
    "execution": {
     "iopub.execute_input": "2024-07-18T16:01:53.742711Z",
     "iopub.status.busy": "2024-07-18T16:01:53.741732Z",
     "iopub.status.idle": "2024-07-18T16:01:53.753907Z",
     "shell.execute_reply": "2024-07-18T16:01:53.752583Z"
    },
    "id": "i7GgR7Bp3m9r",
    "papermill": {
     "duration": 0.037574,
     "end_time": "2024-07-18T16:01:53.756661",
     "exception": false,
     "start_time": "2024-07-18T16:01:53.719087",
     "status": "completed"
    },
    "tags": []
   },
   "outputs": [],
   "source": [
    "df.to_csv(\"g7_data.csv\")"
   ]
  },
  {
   "cell_type": "code",
   "execution_count": null,
   "id": "90a70aca",
   "metadata": {
    "papermill": {
     "duration": 0.021202,
     "end_time": "2024-07-18T16:01:53.799241",
     "exception": false,
     "start_time": "2024-07-18T16:01:53.778039",
     "status": "completed"
    },
    "tags": []
   },
   "outputs": [],
   "source": []
  }
 ],
 "metadata": {
  "colab": {
   "include_colab_link": true,
   "provenance": [],
   "toc_visible": true
  },
  "kaggle": {
   "accelerator": "none",
   "dataSources": [],
   "dockerImageVersionId": 30746,
   "isGpuEnabled": false,
   "isInternetEnabled": true,
   "language": "python",
   "sourceType": "notebook"
  },
  "kernelspec": {
   "display_name": "Python 3",
   "language": "python",
   "name": "python3"
  },
  "language_info": {
   "codemirror_mode": {
    "name": "ipython",
    "version": 3
   },
   "file_extension": ".py",
   "mimetype": "text/x-python",
   "name": "python",
   "nbconvert_exporter": "python",
   "pygments_lexer": "ipython3",
   "version": "3.10.13"
  },
  "papermill": {
   "default_parameters": {},
   "duration": 8.495997,
   "end_time": "2024-07-18T16:01:54.346141",
   "environment_variables": {},
   "exception": null,
   "input_path": "__notebook__.ipynb",
   "output_path": "__notebook__.ipynb",
   "parameters": {},
   "start_time": "2024-07-18T16:01:45.850144",
   "version": "2.5.0"
  }
 },
 "nbformat": 4,
 "nbformat_minor": 5
}
