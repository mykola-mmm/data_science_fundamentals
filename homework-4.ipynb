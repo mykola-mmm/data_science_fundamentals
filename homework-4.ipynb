{
 "cells": [
  {
   "cell_type": "markdown",
   "id": "361a2d39",
   "metadata": {
    "id": "view-in-github",
    "papermill": {
     "duration": 0.004014,
     "end_time": "2024-07-18T19:53:31.225113",
     "exception": false,
     "start_time": "2024-07-18T19:53:31.221099",
     "status": "completed"
    },
    "tags": []
   },
   "source": [
    "<a href=\"https://colab.research.google.com/github/HalyshAnton/IT-Step-Pyton-AI/blob/main/module2/%D0%94%D0%97_4.ipynb\" target=\"_parent\"><img src=\"https://colab.research.google.com/assets/colab-badge.svg\" alt=\"Open In Colab\"/></a>"
   ]
  },
  {
   "cell_type": "markdown",
   "id": "119d9bbf",
   "metadata": {
    "id": "hfOaZ6SkWgtW",
    "papermill": {
     "duration": 0.003152,
     "end_time": "2024-07-18T19:53:31.232046",
     "exception": false,
     "start_time": "2024-07-18T19:53:31.228894",
     "status": "completed"
    },
    "tags": []
   },
   "source": [
    "Імпорт модулів та даних"
   ]
  },
  {
   "cell_type": "code",
   "execution_count": 1,
   "id": "05bfe860",
   "metadata": {
    "execution": {
     "iopub.execute_input": "2024-07-18T19:53:31.240471Z",
     "iopub.status.busy": "2024-07-18T19:53:31.240094Z",
     "iopub.status.idle": "2024-07-18T19:53:32.346917Z",
     "shell.execute_reply": "2024-07-18T19:53:32.345789Z"
    },
    "id": "lpUB6B6TWdnb",
    "papermill": {
     "duration": 1.114162,
     "end_time": "2024-07-18T19:53:32.349627",
     "exception": false,
     "start_time": "2024-07-18T19:53:31.235465",
     "status": "completed"
    },
    "tags": []
   },
   "outputs": [],
   "source": [
    "import pandas as pd\n",
    "import numpy as np\n",
    "import matplotlib.pyplot as plt"
   ]
  },
  {
   "cell_type": "code",
   "execution_count": 2,
   "id": "6ed0f813",
   "metadata": {
    "execution": {
     "iopub.execute_input": "2024-07-18T19:53:32.359288Z",
     "iopub.status.busy": "2024-07-18T19:53:32.358790Z",
     "iopub.status.idle": "2024-07-18T19:53:32.587161Z",
     "shell.execute_reply": "2024-07-18T19:53:32.586102Z"
    },
    "id": "8jP3Lks4WpHi",
    "papermill": {
     "duration": 0.236164,
     "end_time": "2024-07-18T19:53:32.589737",
     "exception": false,
     "start_time": "2024-07-18T19:53:32.353573",
     "status": "completed"
    },
    "tags": []
   },
   "outputs": [],
   "source": [
    "df = pd.read_csv(\"https://raw.githubusercontent.com/HalyshAnton/IT-Step-Pyton-AI/main/module2/data/possum.csv\")"
   ]
  },
  {
   "cell_type": "code",
   "execution_count": 3,
   "id": "c6b0ff70",
   "metadata": {
    "execution": {
     "iopub.execute_input": "2024-07-18T19:53:32.599533Z",
     "iopub.status.busy": "2024-07-18T19:53:32.598507Z",
     "iopub.status.idle": "2024-07-18T19:53:32.631704Z",
     "shell.execute_reply": "2024-07-18T19:53:32.630566Z"
    },
    "id": "lVb1XOT2W2O6",
    "papermill": {
     "duration": 0.040576,
     "end_time": "2024-07-18T19:53:32.634110",
     "exception": false,
     "start_time": "2024-07-18T19:53:32.593534",
     "status": "completed"
    },
    "tags": []
   },
   "outputs": [
    {
     "data": {
      "text/html": [
       "<div>\n",
       "<style scoped>\n",
       "    .dataframe tbody tr th:only-of-type {\n",
       "        vertical-align: middle;\n",
       "    }\n",
       "\n",
       "    .dataframe tbody tr th {\n",
       "        vertical-align: top;\n",
       "    }\n",
       "\n",
       "    .dataframe thead th {\n",
       "        text-align: right;\n",
       "    }\n",
       "</style>\n",
       "<table border=\"1\" class=\"dataframe\">\n",
       "  <thead>\n",
       "    <tr style=\"text-align: right;\">\n",
       "      <th></th>\n",
       "      <th>case</th>\n",
       "      <th>site</th>\n",
       "      <th>Pop</th>\n",
       "      <th>sex</th>\n",
       "      <th>age</th>\n",
       "      <th>hdlngth</th>\n",
       "      <th>skullw</th>\n",
       "      <th>totlngth</th>\n",
       "      <th>taill</th>\n",
       "      <th>footlgth</th>\n",
       "      <th>earconch</th>\n",
       "      <th>eye</th>\n",
       "      <th>chest</th>\n",
       "      <th>belly</th>\n",
       "    </tr>\n",
       "  </thead>\n",
       "  <tbody>\n",
       "    <tr>\n",
       "      <th>0</th>\n",
       "      <td>1</td>\n",
       "      <td>1</td>\n",
       "      <td>Vic</td>\n",
       "      <td>m</td>\n",
       "      <td>8.0</td>\n",
       "      <td>94.1</td>\n",
       "      <td>60.4</td>\n",
       "      <td>89.0</td>\n",
       "      <td>36.0</td>\n",
       "      <td>74.5</td>\n",
       "      <td>54.5</td>\n",
       "      <td>15.2</td>\n",
       "      <td>28.0</td>\n",
       "      <td>36.0</td>\n",
       "    </tr>\n",
       "    <tr>\n",
       "      <th>1</th>\n",
       "      <td>2</td>\n",
       "      <td>1</td>\n",
       "      <td>Vic</td>\n",
       "      <td>f</td>\n",
       "      <td>6.0</td>\n",
       "      <td>92.5</td>\n",
       "      <td>57.6</td>\n",
       "      <td>91.5</td>\n",
       "      <td>36.5</td>\n",
       "      <td>72.5</td>\n",
       "      <td>51.2</td>\n",
       "      <td>16.0</td>\n",
       "      <td>28.5</td>\n",
       "      <td>33.0</td>\n",
       "    </tr>\n",
       "    <tr>\n",
       "      <th>2</th>\n",
       "      <td>3</td>\n",
       "      <td>1</td>\n",
       "      <td>Vic</td>\n",
       "      <td>f</td>\n",
       "      <td>6.0</td>\n",
       "      <td>94.0</td>\n",
       "      <td>60.0</td>\n",
       "      <td>95.5</td>\n",
       "      <td>39.0</td>\n",
       "      <td>75.4</td>\n",
       "      <td>51.9</td>\n",
       "      <td>15.5</td>\n",
       "      <td>30.0</td>\n",
       "      <td>34.0</td>\n",
       "    </tr>\n",
       "    <tr>\n",
       "      <th>3</th>\n",
       "      <td>4</td>\n",
       "      <td>1</td>\n",
       "      <td>Vic</td>\n",
       "      <td>f</td>\n",
       "      <td>6.0</td>\n",
       "      <td>93.2</td>\n",
       "      <td>57.1</td>\n",
       "      <td>92.0</td>\n",
       "      <td>38.0</td>\n",
       "      <td>76.1</td>\n",
       "      <td>52.2</td>\n",
       "      <td>15.2</td>\n",
       "      <td>28.0</td>\n",
       "      <td>34.0</td>\n",
       "    </tr>\n",
       "    <tr>\n",
       "      <th>4</th>\n",
       "      <td>5</td>\n",
       "      <td>1</td>\n",
       "      <td>Vic</td>\n",
       "      <td>f</td>\n",
       "      <td>2.0</td>\n",
       "      <td>91.5</td>\n",
       "      <td>56.3</td>\n",
       "      <td>85.5</td>\n",
       "      <td>36.0</td>\n",
       "      <td>71.0</td>\n",
       "      <td>53.2</td>\n",
       "      <td>15.1</td>\n",
       "      <td>28.5</td>\n",
       "      <td>33.0</td>\n",
       "    </tr>\n",
       "  </tbody>\n",
       "</table>\n",
       "</div>"
      ],
      "text/plain": [
       "   case  site  Pop sex  age  hdlngth  skullw  totlngth  taill  footlgth  \\\n",
       "0     1     1  Vic   m  8.0     94.1    60.4      89.0   36.0      74.5   \n",
       "1     2     1  Vic   f  6.0     92.5    57.6      91.5   36.5      72.5   \n",
       "2     3     1  Vic   f  6.0     94.0    60.0      95.5   39.0      75.4   \n",
       "3     4     1  Vic   f  6.0     93.2    57.1      92.0   38.0      76.1   \n",
       "4     5     1  Vic   f  2.0     91.5    56.3      85.5   36.0      71.0   \n",
       "\n",
       "   earconch   eye  chest  belly  \n",
       "0      54.5  15.2   28.0   36.0  \n",
       "1      51.2  16.0   28.5   33.0  \n",
       "2      51.9  15.5   30.0   34.0  \n",
       "3      52.2  15.2   28.0   34.0  \n",
       "4      53.2  15.1   28.5   33.0  "
      ]
     },
     "execution_count": 3,
     "metadata": {},
     "output_type": "execute_result"
    }
   ],
   "source": [
    "df.head()"
   ]
  },
  {
   "cell_type": "markdown",
   "id": "e9a021f3",
   "metadata": {
    "id": "7s0YT6a2Xhd0",
    "papermill": {
     "duration": 0.003566,
     "end_time": "2024-07-18T19:53:32.641632",
     "exception": false,
     "start_time": "2024-07-18T19:53:32.638066",
     "status": "completed"
    },
    "tags": []
   },
   "source": [
    "# Завдання 1\n",
    "Вмведіть основні числові характеристики для числових ознак"
   ]
  },
  {
   "cell_type": "code",
   "execution_count": null,
   "id": "e919948e",
   "metadata": {
    "id": "1DeE-hXvW3MH",
    "papermill": {
     "duration": 0.003485,
     "end_time": "2024-07-18T19:53:32.649037",
     "exception": false,
     "start_time": "2024-07-18T19:53:32.645552",
     "status": "completed"
    },
    "tags": []
   },
   "outputs": [],
   "source": []
  },
  {
   "cell_type": "markdown",
   "id": "ceda3cbc",
   "metadata": {
    "id": "L08M-we9Xv6k",
    "papermill": {
     "duration": 0.003446,
     "end_time": "2024-07-18T19:53:32.656227",
     "exception": false,
     "start_time": "2024-07-18T19:53:32.652781",
     "status": "completed"
    },
    "tags": []
   },
   "source": [
    "# Завдання 2\n",
    "Проаналізуйте стовпчик `case`, чи є він інформативним?"
   ]
  },
  {
   "cell_type": "code",
   "execution_count": null,
   "id": "e24f7d15",
   "metadata": {
    "id": "zoJTHBquZ1K2",
    "papermill": {
     "duration": 0.003613,
     "end_time": "2024-07-18T19:53:32.663591",
     "exception": false,
     "start_time": "2024-07-18T19:53:32.659978",
     "status": "completed"
    },
    "tags": []
   },
   "outputs": [],
   "source": []
  },
  {
   "cell_type": "markdown",
   "id": "bfba2ed9",
   "metadata": {
    "id": "MNPiVacVYWcE",
    "papermill": {
     "duration": 0.003462,
     "end_time": "2024-07-18T19:53:32.670844",
     "exception": false,
     "start_time": "2024-07-18T19:53:32.667382",
     "status": "completed"
    },
    "tags": []
   },
   "source": [
    "# Завдання 3\n",
    "Очистіть дані від викидів. Виведіть очищений датафрейм"
   ]
  },
  {
   "cell_type": "code",
   "execution_count": null,
   "id": "0aabca09",
   "metadata": {
    "id": "qZvwnLlJXCWz",
    "papermill": {
     "duration": 0.003491,
     "end_time": "2024-07-18T19:53:32.678086",
     "exception": false,
     "start_time": "2024-07-18T19:53:32.674595",
     "status": "completed"
    },
    "tags": []
   },
   "outputs": [],
   "source": []
  },
  {
   "cell_type": "markdown",
   "id": "7d6f1484",
   "metadata": {
    "id": "g-qxBuuSYzX6",
    "papermill": {
     "duration": 0.003414,
     "end_time": "2024-07-18T19:53:32.685305",
     "exception": false,
     "start_time": "2024-07-18T19:53:32.681891",
     "status": "completed"
    },
    "tags": []
   },
   "source": [
    "# Завдання 4\n",
    "Намалюйте матрицб кореляцій. Для найбільш корельованих ознак намалюйте точкову діаграму."
   ]
  },
  {
   "cell_type": "code",
   "execution_count": null,
   "id": "b4f9f5cc",
   "metadata": {
    "id": "rQefEj-XY-2_",
    "papermill": {
     "duration": 0.003421,
     "end_time": "2024-07-18T19:53:32.692426",
     "exception": false,
     "start_time": "2024-07-18T19:53:32.689005",
     "status": "completed"
    },
    "tags": []
   },
   "outputs": [],
   "source": []
  },
  {
   "cell_type": "markdown",
   "id": "99eac532",
   "metadata": {
    "id": "DgIFGk9iY_ir",
    "papermill": {
     "duration": 0.003506,
     "end_time": "2024-07-18T19:53:32.699669",
     "exception": false,
     "start_time": "2024-07-18T19:53:32.696163",
     "status": "completed"
    },
    "tags": []
   },
   "source": [
    "# Завдання 5\n",
    "Для 4-ох числових ознак на вибір намалюйте ящики з вусами згрупованими по статі. Подумайте чи є вплив статі на розміри опосума"
   ]
  },
  {
   "cell_type": "code",
   "execution_count": null,
   "id": "39652a3a",
   "metadata": {
    "id": "N2rwAwQRZNXA",
    "papermill": {
     "duration": 0.003377,
     "end_time": "2024-07-18T19:53:32.706718",
     "exception": false,
     "start_time": "2024-07-18T19:53:32.703341",
     "status": "completed"
    },
    "tags": []
   },
   "outputs": [],
   "source": []
  }
 ],
 "metadata": {
  "colab": {
   "authorship_tag": "ABX9TyOU5sqjLSDPK9vKVZKGEji5",
   "include_colab_link": true,
   "provenance": []
  },
  "kaggle": {
   "accelerator": "none",
   "dataSources": [],
   "isGpuEnabled": false,
   "isInternetEnabled": true,
   "language": "python",
   "sourceType": "notebook"
  },
  "kernelspec": {
   "display_name": "Python 3",
   "name": "python3"
  },
  "language_info": {
   "codemirror_mode": {
    "name": "ipython",
    "version": 3
   },
   "file_extension": ".py",
   "mimetype": "text/x-python",
   "name": "python",
   "nbconvert_exporter": "python",
   "pygments_lexer": "ipython3",
   "version": "3.10.13"
  },
  "papermill": {
   "default_parameters": {},
   "duration": 4.966749,
   "end_time": "2024-07-18T19:53:33.231784",
   "environment_variables": {},
   "exception": null,
   "input_path": "__notebook__.ipynb",
   "output_path": "__notebook__.ipynb",
   "parameters": {},
   "start_time": "2024-07-18T19:53:28.265035",
   "version": "2.5.0"
  }
 },
 "nbformat": 4,
 "nbformat_minor": 5
}
