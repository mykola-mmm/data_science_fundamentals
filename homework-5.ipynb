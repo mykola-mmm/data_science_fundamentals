{
 "cells": [
  {
   "cell_type": "markdown",
   "id": "0c8e8eaa",
   "metadata": {
    "id": "view-in-github",
    "papermill": {
     "duration": 0.006695,
     "end_time": "2024-07-21T18:50:52.807134",
     "exception": false,
     "start_time": "2024-07-21T18:50:52.800439",
     "status": "completed"
    },
    "tags": []
   },
   "source": [
    "<a href=\"https://colab.research.google.com/github/HalyshAnton/IT-Step-Pyton-AI/blob/main/module2/%D0%94%D0%97_4.ipynb\" target=\"_parent\"><img src=\"https://colab.research.google.com/assets/colab-badge.svg\" alt=\"Open In Colab\"/></a>"
   ]
  },
  {
   "cell_type": "markdown",
   "id": "b994c991",
   "metadata": {
    "id": "hfOaZ6SkWgtW",
    "papermill": {
     "duration": 0.006071,
     "end_time": "2024-07-21T18:50:52.819677",
     "exception": false,
     "start_time": "2024-07-21T18:50:52.813606",
     "status": "completed"
    },
    "tags": []
   },
   "source": [
    "Імпорт модулів та даних"
   ]
  },
  {
   "cell_type": "code",
   "execution_count": 1,
   "id": "044da882",
   "metadata": {
    "execution": {
     "iopub.execute_input": "2024-07-21T18:50:52.834165Z",
     "iopub.status.busy": "2024-07-21T18:50:52.833779Z",
     "iopub.status.idle": "2024-07-21T18:50:53.855081Z",
     "shell.execute_reply": "2024-07-21T18:50:53.853851Z"
    },
    "id": "lpUB6B6TWdnb",
    "papermill": {
     "duration": 1.032817,
     "end_time": "2024-07-21T18:50:53.858707",
     "exception": false,
     "start_time": "2024-07-21T18:50:52.825890",
     "status": "completed"
    },
    "tags": []
   },
   "outputs": [],
   "source": [
    "import pandas as pd\n",
    "import numpy as np\n",
    "import matplotlib.pyplot as plt"
   ]
  },
  {
   "cell_type": "code",
   "execution_count": 2,
   "id": "3eef6aa1",
   "metadata": {
    "execution": {
     "iopub.execute_input": "2024-07-21T18:50:53.873324Z",
     "iopub.status.busy": "2024-07-21T18:50:53.872795Z",
     "iopub.status.idle": "2024-07-21T18:50:54.053887Z",
     "shell.execute_reply": "2024-07-21T18:50:54.052703Z"
    },
    "id": "8jP3Lks4WpHi",
    "papermill": {
     "duration": 0.191727,
     "end_time": "2024-07-21T18:50:54.056896",
     "exception": false,
     "start_time": "2024-07-21T18:50:53.865169",
     "status": "completed"
    },
    "tags": []
   },
   "outputs": [],
   "source": [
    "df = pd.read_csv(\"https://raw.githubusercontent.com/HalyshAnton/IT-Step-Pyton-AI/main/module2/data/possum.csv\")"
   ]
  },
  {
   "cell_type": "code",
   "execution_count": 3,
   "id": "e3621c57",
   "metadata": {
    "execution": {
     "iopub.execute_input": "2024-07-21T18:50:54.071375Z",
     "iopub.status.busy": "2024-07-21T18:50:54.070995Z",
     "iopub.status.idle": "2024-07-21T18:50:54.111073Z",
     "shell.execute_reply": "2024-07-21T18:50:54.109885Z"
    },
    "id": "lVb1XOT2W2O6",
    "papermill": {
     "duration": 0.050905,
     "end_time": "2024-07-21T18:50:54.114110",
     "exception": false,
     "start_time": "2024-07-21T18:50:54.063205",
     "status": "completed"
    },
    "tags": []
   },
   "outputs": [
    {
     "data": {
      "text/html": [
       "<div>\n",
       "<style scoped>\n",
       "    .dataframe tbody tr th:only-of-type {\n",
       "        vertical-align: middle;\n",
       "    }\n",
       "\n",
       "    .dataframe tbody tr th {\n",
       "        vertical-align: top;\n",
       "    }\n",
       "\n",
       "    .dataframe thead th {\n",
       "        text-align: right;\n",
       "    }\n",
       "</style>\n",
       "<table border=\"1\" class=\"dataframe\">\n",
       "  <thead>\n",
       "    <tr style=\"text-align: right;\">\n",
       "      <th></th>\n",
       "      <th>case</th>\n",
       "      <th>site</th>\n",
       "      <th>Pop</th>\n",
       "      <th>sex</th>\n",
       "      <th>age</th>\n",
       "      <th>hdlngth</th>\n",
       "      <th>skullw</th>\n",
       "      <th>totlngth</th>\n",
       "      <th>taill</th>\n",
       "      <th>footlgth</th>\n",
       "      <th>earconch</th>\n",
       "      <th>eye</th>\n",
       "      <th>chest</th>\n",
       "      <th>belly</th>\n",
       "    </tr>\n",
       "  </thead>\n",
       "  <tbody>\n",
       "    <tr>\n",
       "      <th>0</th>\n",
       "      <td>1</td>\n",
       "      <td>1</td>\n",
       "      <td>Vic</td>\n",
       "      <td>m</td>\n",
       "      <td>8.0</td>\n",
       "      <td>94.1</td>\n",
       "      <td>60.4</td>\n",
       "      <td>89.0</td>\n",
       "      <td>36.0</td>\n",
       "      <td>74.5</td>\n",
       "      <td>54.5</td>\n",
       "      <td>15.2</td>\n",
       "      <td>28.0</td>\n",
       "      <td>36.0</td>\n",
       "    </tr>\n",
       "    <tr>\n",
       "      <th>1</th>\n",
       "      <td>2</td>\n",
       "      <td>1</td>\n",
       "      <td>Vic</td>\n",
       "      <td>f</td>\n",
       "      <td>6.0</td>\n",
       "      <td>92.5</td>\n",
       "      <td>57.6</td>\n",
       "      <td>91.5</td>\n",
       "      <td>36.5</td>\n",
       "      <td>72.5</td>\n",
       "      <td>51.2</td>\n",
       "      <td>16.0</td>\n",
       "      <td>28.5</td>\n",
       "      <td>33.0</td>\n",
       "    </tr>\n",
       "    <tr>\n",
       "      <th>2</th>\n",
       "      <td>3</td>\n",
       "      <td>1</td>\n",
       "      <td>Vic</td>\n",
       "      <td>f</td>\n",
       "      <td>6.0</td>\n",
       "      <td>94.0</td>\n",
       "      <td>60.0</td>\n",
       "      <td>95.5</td>\n",
       "      <td>39.0</td>\n",
       "      <td>75.4</td>\n",
       "      <td>51.9</td>\n",
       "      <td>15.5</td>\n",
       "      <td>30.0</td>\n",
       "      <td>34.0</td>\n",
       "    </tr>\n",
       "    <tr>\n",
       "      <th>3</th>\n",
       "      <td>4</td>\n",
       "      <td>1</td>\n",
       "      <td>Vic</td>\n",
       "      <td>f</td>\n",
       "      <td>6.0</td>\n",
       "      <td>93.2</td>\n",
       "      <td>57.1</td>\n",
       "      <td>92.0</td>\n",
       "      <td>38.0</td>\n",
       "      <td>76.1</td>\n",
       "      <td>52.2</td>\n",
       "      <td>15.2</td>\n",
       "      <td>28.0</td>\n",
       "      <td>34.0</td>\n",
       "    </tr>\n",
       "    <tr>\n",
       "      <th>4</th>\n",
       "      <td>5</td>\n",
       "      <td>1</td>\n",
       "      <td>Vic</td>\n",
       "      <td>f</td>\n",
       "      <td>2.0</td>\n",
       "      <td>91.5</td>\n",
       "      <td>56.3</td>\n",
       "      <td>85.5</td>\n",
       "      <td>36.0</td>\n",
       "      <td>71.0</td>\n",
       "      <td>53.2</td>\n",
       "      <td>15.1</td>\n",
       "      <td>28.5</td>\n",
       "      <td>33.0</td>\n",
       "    </tr>\n",
       "  </tbody>\n",
       "</table>\n",
       "</div>"
      ],
      "text/plain": [
       "   case  site  Pop sex  age  hdlngth  skullw  totlngth  taill  footlgth  \\\n",
       "0     1     1  Vic   m  8.0     94.1    60.4      89.0   36.0      74.5   \n",
       "1     2     1  Vic   f  6.0     92.5    57.6      91.5   36.5      72.5   \n",
       "2     3     1  Vic   f  6.0     94.0    60.0      95.5   39.0      75.4   \n",
       "3     4     1  Vic   f  6.0     93.2    57.1      92.0   38.0      76.1   \n",
       "4     5     1  Vic   f  2.0     91.5    56.3      85.5   36.0      71.0   \n",
       "\n",
       "   earconch   eye  chest  belly  \n",
       "0      54.5  15.2   28.0   36.0  \n",
       "1      51.2  16.0   28.5   33.0  \n",
       "2      51.9  15.5   30.0   34.0  \n",
       "3      52.2  15.2   28.0   34.0  \n",
       "4      53.2  15.1   28.5   33.0  "
      ]
     },
     "execution_count": 3,
     "metadata": {},
     "output_type": "execute_result"
    }
   ],
   "source": [
    "df.head()"
   ]
  },
  {
   "cell_type": "markdown",
   "id": "d78e30f1",
   "metadata": {
    "id": "7s0YT6a2Xhd0",
    "papermill": {
     "duration": 0.007024,
     "end_time": "2024-07-21T18:50:54.127858",
     "exception": false,
     "start_time": "2024-07-21T18:50:54.120834",
     "status": "completed"
    },
    "tags": []
   },
   "source": [
    "# Завдання 1\n",
    "Вмведіть основні числові характеристики для числових ознак\n",
    "\n",
    "Середнє (mean) - середнє арифметичне значення.\n",
    "\n",
    "Медіана (median) - середнє значення, яке ділить дані на дві рівні половини.\n",
    "\n",
    "Мода (mode) - найбільш часто зустрічаюче значення.\n",
    "\n",
    "Стандартне відхилення (standard deviation) - міра розсіювання значень відносно середнього.\n",
    "\n",
    "Варіація (variance) - квадрат стандартного відхилення, показує розсіювання значень.\n",
    "\n",
    "Мінімум (min) - найменше значення.\n",
    "\n",
    "Максимум (max) - найбільше значення.\n",
    "\n",
    "Квартилі (quartiles) - значення, які ділять дані на чотири рівні частини.\n",
    "\n",
    "Інтерквартильний розмах (IQR) - різниця між третім і першим квартилями."
   ]
  },
  {
   "cell_type": "code",
   "execution_count": 4,
   "id": "e8d8c821",
   "metadata": {
    "execution": {
     "iopub.execute_input": "2024-07-21T18:50:54.144165Z",
     "iopub.status.busy": "2024-07-21T18:50:54.143596Z",
     "iopub.status.idle": "2024-07-21T18:50:54.198550Z",
     "shell.execute_reply": "2024-07-21T18:50:54.197361Z"
    },
    "id": "1DeE-hXvW3MH",
    "papermill": {
     "duration": 0.067136,
     "end_time": "2024-07-21T18:50:54.201658",
     "exception": false,
     "start_time": "2024-07-21T18:50:54.134522",
     "status": "completed"
    },
    "tags": []
   },
   "outputs": [
    {
     "data": {
      "text/html": [
       "<div>\n",
       "<style scoped>\n",
       "    .dataframe tbody tr th:only-of-type {\n",
       "        vertical-align: middle;\n",
       "    }\n",
       "\n",
       "    .dataframe tbody tr th {\n",
       "        vertical-align: top;\n",
       "    }\n",
       "\n",
       "    .dataframe thead th {\n",
       "        text-align: right;\n",
       "    }\n",
       "</style>\n",
       "<table border=\"1\" class=\"dataframe\">\n",
       "  <thead>\n",
       "    <tr style=\"text-align: right;\">\n",
       "      <th></th>\n",
       "      <th>case</th>\n",
       "      <th>site</th>\n",
       "      <th>age</th>\n",
       "      <th>hdlngth</th>\n",
       "      <th>skullw</th>\n",
       "      <th>totlngth</th>\n",
       "      <th>taill</th>\n",
       "      <th>footlgth</th>\n",
       "      <th>earconch</th>\n",
       "      <th>eye</th>\n",
       "      <th>chest</th>\n",
       "      <th>belly</th>\n",
       "    </tr>\n",
       "  </thead>\n",
       "  <tbody>\n",
       "    <tr>\n",
       "      <th>count</th>\n",
       "      <td>104.000000</td>\n",
       "      <td>104.000000</td>\n",
       "      <td>102.000000</td>\n",
       "      <td>104.000000</td>\n",
       "      <td>104.000000</td>\n",
       "      <td>104.000000</td>\n",
       "      <td>104.000000</td>\n",
       "      <td>103.000000</td>\n",
       "      <td>104.000000</td>\n",
       "      <td>104.000000</td>\n",
       "      <td>104.000000</td>\n",
       "      <td>104.000000</td>\n",
       "    </tr>\n",
       "    <tr>\n",
       "      <th>mean</th>\n",
       "      <td>52.500000</td>\n",
       "      <td>3.625000</td>\n",
       "      <td>3.833333</td>\n",
       "      <td>92.602885</td>\n",
       "      <td>56.883654</td>\n",
       "      <td>87.088462</td>\n",
       "      <td>37.009615</td>\n",
       "      <td>68.459223</td>\n",
       "      <td>48.130769</td>\n",
       "      <td>15.046154</td>\n",
       "      <td>27.000000</td>\n",
       "      <td>32.586538</td>\n",
       "    </tr>\n",
       "    <tr>\n",
       "      <th>std</th>\n",
       "      <td>30.166206</td>\n",
       "      <td>2.349086</td>\n",
       "      <td>1.909244</td>\n",
       "      <td>3.573349</td>\n",
       "      <td>3.113426</td>\n",
       "      <td>4.310549</td>\n",
       "      <td>1.959518</td>\n",
       "      <td>4.395306</td>\n",
       "      <td>4.109380</td>\n",
       "      <td>1.050374</td>\n",
       "      <td>2.045597</td>\n",
       "      <td>2.761949</td>\n",
       "    </tr>\n",
       "    <tr>\n",
       "      <th>min</th>\n",
       "      <td>1.000000</td>\n",
       "      <td>1.000000</td>\n",
       "      <td>1.000000</td>\n",
       "      <td>82.500000</td>\n",
       "      <td>50.000000</td>\n",
       "      <td>75.000000</td>\n",
       "      <td>32.000000</td>\n",
       "      <td>60.300000</td>\n",
       "      <td>40.300000</td>\n",
       "      <td>12.800000</td>\n",
       "      <td>22.000000</td>\n",
       "      <td>25.000000</td>\n",
       "    </tr>\n",
       "    <tr>\n",
       "      <th>25%</th>\n",
       "      <td>26.750000</td>\n",
       "      <td>1.000000</td>\n",
       "      <td>2.250000</td>\n",
       "      <td>90.675000</td>\n",
       "      <td>54.975000</td>\n",
       "      <td>84.000000</td>\n",
       "      <td>35.875000</td>\n",
       "      <td>64.600000</td>\n",
       "      <td>44.800000</td>\n",
       "      <td>14.400000</td>\n",
       "      <td>25.500000</td>\n",
       "      <td>31.000000</td>\n",
       "    </tr>\n",
       "    <tr>\n",
       "      <th>50%</th>\n",
       "      <td>52.500000</td>\n",
       "      <td>3.000000</td>\n",
       "      <td>3.000000</td>\n",
       "      <td>92.800000</td>\n",
       "      <td>56.350000</td>\n",
       "      <td>88.000000</td>\n",
       "      <td>37.000000</td>\n",
       "      <td>68.000000</td>\n",
       "      <td>46.800000</td>\n",
       "      <td>14.900000</td>\n",
       "      <td>27.000000</td>\n",
       "      <td>32.500000</td>\n",
       "    </tr>\n",
       "    <tr>\n",
       "      <th>75%</th>\n",
       "      <td>78.250000</td>\n",
       "      <td>6.000000</td>\n",
       "      <td>5.000000</td>\n",
       "      <td>94.725000</td>\n",
       "      <td>58.100000</td>\n",
       "      <td>90.000000</td>\n",
       "      <td>38.000000</td>\n",
       "      <td>72.500000</td>\n",
       "      <td>52.000000</td>\n",
       "      <td>15.725000</td>\n",
       "      <td>28.000000</td>\n",
       "      <td>34.125000</td>\n",
       "    </tr>\n",
       "    <tr>\n",
       "      <th>max</th>\n",
       "      <td>104.000000</td>\n",
       "      <td>7.000000</td>\n",
       "      <td>9.000000</td>\n",
       "      <td>103.100000</td>\n",
       "      <td>68.600000</td>\n",
       "      <td>96.500000</td>\n",
       "      <td>43.000000</td>\n",
       "      <td>77.900000</td>\n",
       "      <td>56.200000</td>\n",
       "      <td>17.800000</td>\n",
       "      <td>32.000000</td>\n",
       "      <td>40.000000</td>\n",
       "    </tr>\n",
       "  </tbody>\n",
       "</table>\n",
       "</div>"
      ],
      "text/plain": [
       "             case        site         age     hdlngth      skullw    totlngth  \\\n",
       "count  104.000000  104.000000  102.000000  104.000000  104.000000  104.000000   \n",
       "mean    52.500000    3.625000    3.833333   92.602885   56.883654   87.088462   \n",
       "std     30.166206    2.349086    1.909244    3.573349    3.113426    4.310549   \n",
       "min      1.000000    1.000000    1.000000   82.500000   50.000000   75.000000   \n",
       "25%     26.750000    1.000000    2.250000   90.675000   54.975000   84.000000   \n",
       "50%     52.500000    3.000000    3.000000   92.800000   56.350000   88.000000   \n",
       "75%     78.250000    6.000000    5.000000   94.725000   58.100000   90.000000   \n",
       "max    104.000000    7.000000    9.000000  103.100000   68.600000   96.500000   \n",
       "\n",
       "            taill    footlgth    earconch         eye       chest       belly  \n",
       "count  104.000000  103.000000  104.000000  104.000000  104.000000  104.000000  \n",
       "mean    37.009615   68.459223   48.130769   15.046154   27.000000   32.586538  \n",
       "std      1.959518    4.395306    4.109380    1.050374    2.045597    2.761949  \n",
       "min     32.000000   60.300000   40.300000   12.800000   22.000000   25.000000  \n",
       "25%     35.875000   64.600000   44.800000   14.400000   25.500000   31.000000  \n",
       "50%     37.000000   68.000000   46.800000   14.900000   27.000000   32.500000  \n",
       "75%     38.000000   72.500000   52.000000   15.725000   28.000000   34.125000  \n",
       "max     43.000000   77.900000   56.200000   17.800000   32.000000   40.000000  "
      ]
     },
     "metadata": {},
     "output_type": "display_data"
    }
   ],
   "source": [
    "# df_data_num = pd.DataFrame(columns=df.select_dtypes(include=['number']).columns)\n",
    "df_data_num = df.describe()\n",
    "display(df_data_num)"
   ]
  },
  {
   "cell_type": "markdown",
   "id": "440c84e6",
   "metadata": {
    "id": "L08M-we9Xv6k",
    "papermill": {
     "duration": 0.006541,
     "end_time": "2024-07-21T18:50:54.215383",
     "exception": false,
     "start_time": "2024-07-21T18:50:54.208842",
     "status": "completed"
    },
    "tags": []
   },
   "source": [
    "# Завдання 2\n",
    "Проаналізуйте стовпчик `case`, чи є він інформативним?"
   ]
  },
  {
   "cell_type": "code",
   "execution_count": 5,
   "id": "0654d86e",
   "metadata": {
    "execution": {
     "iopub.execute_input": "2024-07-21T18:50:54.231524Z",
     "iopub.status.busy": "2024-07-21T18:50:54.231127Z",
     "iopub.status.idle": "2024-07-21T18:50:54.236535Z",
     "shell.execute_reply": "2024-07-21T18:50:54.235340Z"
    },
    "id": "zoJTHBquZ1K2",
    "papermill": {
     "duration": 0.016573,
     "end_time": "2024-07-21T18:50:54.239362",
     "exception": false,
     "start_time": "2024-07-21T18:50:54.222789",
     "status": "completed"
    },
    "tags": []
   },
   "outputs": [],
   "source": [
    "# case is just an index in the csv table"
   ]
  },
  {
   "cell_type": "markdown",
   "id": "0d0ef654",
   "metadata": {
    "id": "MNPiVacVYWcE",
    "papermill": {
     "duration": 0.007336,
     "end_time": "2024-07-21T18:50:54.253794",
     "exception": false,
     "start_time": "2024-07-21T18:50:54.246458",
     "status": "completed"
    },
    "tags": []
   },
   "source": [
    "# Завдання 3\n",
    "Очистіть дані від викидів. Виведіть очищений датафрейм"
   ]
  },
  {
   "cell_type": "code",
   "execution_count": 6,
   "id": "8797b489",
   "metadata": {
    "execution": {
     "iopub.execute_input": "2024-07-21T18:50:54.271688Z",
     "iopub.status.busy": "2024-07-21T18:50:54.271253Z",
     "iopub.status.idle": "2024-07-21T18:50:54.314164Z",
     "shell.execute_reply": "2024-07-21T18:50:54.312530Z"
    },
    "id": "qZvwnLlJXCWz",
    "papermill": {
     "duration": 0.056069,
     "end_time": "2024-07-21T18:50:54.316988",
     "exception": false,
     "start_time": "2024-07-21T18:50:54.260919",
     "status": "completed"
    },
    "tags": []
   },
   "outputs": [
    {
     "data": {
      "text/html": [
       "<div>\n",
       "<style scoped>\n",
       "    .dataframe tbody tr th:only-of-type {\n",
       "        vertical-align: middle;\n",
       "    }\n",
       "\n",
       "    .dataframe tbody tr th {\n",
       "        vertical-align: top;\n",
       "    }\n",
       "\n",
       "    .dataframe thead th {\n",
       "        text-align: right;\n",
       "    }\n",
       "</style>\n",
       "<table border=\"1\" class=\"dataframe\">\n",
       "  <thead>\n",
       "    <tr style=\"text-align: right;\">\n",
       "      <th></th>\n",
       "      <th>site</th>\n",
       "      <th>age</th>\n",
       "      <th>hdlngth</th>\n",
       "      <th>skullw</th>\n",
       "      <th>totlngth</th>\n",
       "      <th>taill</th>\n",
       "      <th>footlgth</th>\n",
       "      <th>earconch</th>\n",
       "      <th>eye</th>\n",
       "      <th>chest</th>\n",
       "      <th>belly</th>\n",
       "    </tr>\n",
       "  </thead>\n",
       "  <tbody>\n",
       "    <tr>\n",
       "      <th>0</th>\n",
       "      <td>1</td>\n",
       "      <td>8.0</td>\n",
       "      <td>94.1</td>\n",
       "      <td>60.4</td>\n",
       "      <td>89.0</td>\n",
       "      <td>36.0</td>\n",
       "      <td>74.5</td>\n",
       "      <td>54.5</td>\n",
       "      <td>15.2</td>\n",
       "      <td>28.0</td>\n",
       "      <td>36.0</td>\n",
       "    </tr>\n",
       "    <tr>\n",
       "      <th>1</th>\n",
       "      <td>1</td>\n",
       "      <td>6.0</td>\n",
       "      <td>92.5</td>\n",
       "      <td>57.6</td>\n",
       "      <td>91.5</td>\n",
       "      <td>36.5</td>\n",
       "      <td>72.5</td>\n",
       "      <td>51.2</td>\n",
       "      <td>16.0</td>\n",
       "      <td>28.5</td>\n",
       "      <td>33.0</td>\n",
       "    </tr>\n",
       "    <tr>\n",
       "      <th>2</th>\n",
       "      <td>1</td>\n",
       "      <td>6.0</td>\n",
       "      <td>94.0</td>\n",
       "      <td>60.0</td>\n",
       "      <td>95.5</td>\n",
       "      <td>39.0</td>\n",
       "      <td>75.4</td>\n",
       "      <td>51.9</td>\n",
       "      <td>15.5</td>\n",
       "      <td>30.0</td>\n",
       "      <td>34.0</td>\n",
       "    </tr>\n",
       "    <tr>\n",
       "      <th>3</th>\n",
       "      <td>1</td>\n",
       "      <td>6.0</td>\n",
       "      <td>93.2</td>\n",
       "      <td>57.1</td>\n",
       "      <td>92.0</td>\n",
       "      <td>38.0</td>\n",
       "      <td>76.1</td>\n",
       "      <td>52.2</td>\n",
       "      <td>15.2</td>\n",
       "      <td>28.0</td>\n",
       "      <td>34.0</td>\n",
       "    </tr>\n",
       "    <tr>\n",
       "      <th>4</th>\n",
       "      <td>1</td>\n",
       "      <td>2.0</td>\n",
       "      <td>91.5</td>\n",
       "      <td>56.3</td>\n",
       "      <td>85.5</td>\n",
       "      <td>36.0</td>\n",
       "      <td>71.0</td>\n",
       "      <td>53.2</td>\n",
       "      <td>15.1</td>\n",
       "      <td>28.5</td>\n",
       "      <td>33.0</td>\n",
       "    </tr>\n",
       "    <tr>\n",
       "      <th>...</th>\n",
       "      <td>...</td>\n",
       "      <td>...</td>\n",
       "      <td>...</td>\n",
       "      <td>...</td>\n",
       "      <td>...</td>\n",
       "      <td>...</td>\n",
       "      <td>...</td>\n",
       "      <td>...</td>\n",
       "      <td>...</td>\n",
       "      <td>...</td>\n",
       "      <td>...</td>\n",
       "    </tr>\n",
       "    <tr>\n",
       "      <th>99</th>\n",
       "      <td>7</td>\n",
       "      <td>1.0</td>\n",
       "      <td>89.5</td>\n",
       "      <td>56.0</td>\n",
       "      <td>81.5</td>\n",
       "      <td>36.5</td>\n",
       "      <td>66.0</td>\n",
       "      <td>46.8</td>\n",
       "      <td>14.8</td>\n",
       "      <td>23.0</td>\n",
       "      <td>27.0</td>\n",
       "    </tr>\n",
       "    <tr>\n",
       "      <th>100</th>\n",
       "      <td>7</td>\n",
       "      <td>1.0</td>\n",
       "      <td>88.6</td>\n",
       "      <td>54.7</td>\n",
       "      <td>82.5</td>\n",
       "      <td>39.0</td>\n",
       "      <td>64.4</td>\n",
       "      <td>48.0</td>\n",
       "      <td>14.0</td>\n",
       "      <td>25.0</td>\n",
       "      <td>33.0</td>\n",
       "    </tr>\n",
       "    <tr>\n",
       "      <th>101</th>\n",
       "      <td>7</td>\n",
       "      <td>6.0</td>\n",
       "      <td>92.4</td>\n",
       "      <td>55.0</td>\n",
       "      <td>89.0</td>\n",
       "      <td>38.0</td>\n",
       "      <td>63.5</td>\n",
       "      <td>45.4</td>\n",
       "      <td>13.0</td>\n",
       "      <td>25.0</td>\n",
       "      <td>30.0</td>\n",
       "    </tr>\n",
       "    <tr>\n",
       "      <th>102</th>\n",
       "      <td>7</td>\n",
       "      <td>4.0</td>\n",
       "      <td>91.5</td>\n",
       "      <td>55.2</td>\n",
       "      <td>82.5</td>\n",
       "      <td>36.5</td>\n",
       "      <td>62.9</td>\n",
       "      <td>45.9</td>\n",
       "      <td>15.4</td>\n",
       "      <td>25.0</td>\n",
       "      <td>29.0</td>\n",
       "    </tr>\n",
       "    <tr>\n",
       "      <th>103</th>\n",
       "      <td>7</td>\n",
       "      <td>3.0</td>\n",
       "      <td>93.6</td>\n",
       "      <td>59.9</td>\n",
       "      <td>89.0</td>\n",
       "      <td>40.0</td>\n",
       "      <td>67.6</td>\n",
       "      <td>46.0</td>\n",
       "      <td>14.8</td>\n",
       "      <td>28.5</td>\n",
       "      <td>33.5</td>\n",
       "    </tr>\n",
       "  </tbody>\n",
       "</table>\n",
       "<p>104 rows × 11 columns</p>\n",
       "</div>"
      ],
      "text/plain": [
       "     site  age  hdlngth  skullw  totlngth  taill  footlgth  earconch   eye  \\\n",
       "0       1  8.0     94.1    60.4      89.0   36.0      74.5      54.5  15.2   \n",
       "1       1  6.0     92.5    57.6      91.5   36.5      72.5      51.2  16.0   \n",
       "2       1  6.0     94.0    60.0      95.5   39.0      75.4      51.9  15.5   \n",
       "3       1  6.0     93.2    57.1      92.0   38.0      76.1      52.2  15.2   \n",
       "4       1  2.0     91.5    56.3      85.5   36.0      71.0      53.2  15.1   \n",
       "..    ...  ...      ...     ...       ...    ...       ...       ...   ...   \n",
       "99      7  1.0     89.5    56.0      81.5   36.5      66.0      46.8  14.8   \n",
       "100     7  1.0     88.6    54.7      82.5   39.0      64.4      48.0  14.0   \n",
       "101     7  6.0     92.4    55.0      89.0   38.0      63.5      45.4  13.0   \n",
       "102     7  4.0     91.5    55.2      82.5   36.5      62.9      45.9  15.4   \n",
       "103     7  3.0     93.6    59.9      89.0   40.0      67.6      46.0  14.8   \n",
       "\n",
       "     chest  belly  \n",
       "0     28.0   36.0  \n",
       "1     28.5   33.0  \n",
       "2     30.0   34.0  \n",
       "3     28.0   34.0  \n",
       "4     28.5   33.0  \n",
       "..     ...    ...  \n",
       "99    23.0   27.0  \n",
       "100   25.0   33.0  \n",
       "101   25.0   30.0  \n",
       "102   25.0   29.0  \n",
       "103   28.5   33.5  \n",
       "\n",
       "[104 rows x 11 columns]"
      ]
     },
     "metadata": {},
     "output_type": "display_data"
    }
   ],
   "source": [
    "df = df.drop(columns='case')\n",
    "df = df.select_dtypes(include=['number'])\n",
    "display(df)\n"
   ]
  },
  {
   "cell_type": "code",
   "execution_count": 7,
   "id": "48cd2ac8",
   "metadata": {
    "execution": {
     "iopub.execute_input": "2024-07-21T18:50:54.334557Z",
     "iopub.status.busy": "2024-07-21T18:50:54.334140Z",
     "iopub.status.idle": "2024-07-21T18:50:54.804333Z",
     "shell.execute_reply": "2024-07-21T18:50:54.802718Z"
    },
    "papermill": {
     "duration": 0.481914,
     "end_time": "2024-07-21T18:50:54.807209",
     "exception": false,
     "start_time": "2024-07-21T18:50:54.325295",
     "status": "completed"
    },
    "tags": []
   },
   "outputs": [
    {
     "data": {
      "text/plain": [
       "<Axes: >"
      ]
     },
     "execution_count": 7,
     "metadata": {},
     "output_type": "execute_result"
    },
    {
     "data": {
      "image/png": "[encoded data removed]",
      "text/plain": [
       "<Figure size 640x480 with 1 Axes>"
      ]
     },
     "metadata": {},
     "output_type": "display_data"
    }
   ],
   "source": [
    "df.plot(kind='box', vert=False)"
   ]
  },
  {
   "cell_type": "code",
   "execution_count": 8,
   "id": "56c10fd1",
   "metadata": {
    "execution": {
     "iopub.execute_input": "2024-07-21T18:50:54.826375Z",
     "iopub.status.busy": "2024-07-21T18:50:54.825952Z",
     "iopub.status.idle": "2024-07-21T18:50:55.188229Z",
     "shell.execute_reply": "2024-07-21T18:50:55.186869Z"
    },
    "papermill": {
     "duration": 0.375596,
     "end_time": "2024-07-21T18:50:55.190994",
     "exception": false,
     "start_time": "2024-07-21T18:50:54.815398",
     "status": "completed"
    },
    "tags": []
   },
   "outputs": [
    {
     "name": "stdout",
     "output_type": "stream",
     "text": [
      "site         6.000\n",
      "age          5.000\n",
      "hdlngth     94.725\n",
      "skullw      58.100\n",
      "totlngth    90.000\n",
      "taill       38.000\n",
      "footlgth    72.500\n",
      "earconch    52.000\n",
      "eye         15.725\n",
      "chest       28.000\n",
      "belly       34.125\n",
      "Name: 0.75, dtype: float64\n",
      "site         1.000\n",
      "age          2.250\n",
      "hdlngth     90.675\n",
      "skullw      54.975\n",
      "totlngth    84.000\n",
      "taill       35.875\n",
      "footlgth    64.600\n",
      "earconch    44.800\n",
      "eye         14.400\n",
      "chest       25.500\n",
      "belly       31.000\n",
      "Name: 0.25, dtype: float64\n"
     ]
    },
    {
     "data": {
      "text/plain": [
       "<Axes: >"
      ]
     },
     "execution_count": 8,
     "metadata": {},
     "output_type": "execute_result"
    },
    {
     "data": {
      "image/png": "[encoded data removed]",
      "text/plain": [
       "<Figure size 640x480 with 1 Axes>"
      ]
     },
     "metadata": {},
     "output_type": "display_data"
    }
   ],
   "source": [
    "\n",
    "q1 = df.quantile(0.25)\n",
    "q3 = df.quantile(0.75)\n",
    "print(q3)\n",
    "print(q1)\n",
    "IQR = q3-q1\n",
    "lower_bound = q1-1.5*IQR\n",
    "upper_bound = q3+1.5*IQR\n",
    "filter = ((df >= lower_bound) & (df <= upper_bound))\n",
    "df = df[filter]\n",
    "df.plot(kind='box', vert=False)"
   ]
  },
  {
   "cell_type": "markdown",
   "id": "0007242e",
   "metadata": {
    "id": "g-qxBuuSYzX6",
    "papermill": {
     "duration": 0.00903,
     "end_time": "2024-07-21T18:50:55.209196",
     "exception": false,
     "start_time": "2024-07-21T18:50:55.200166",
     "status": "completed"
    },
    "tags": []
   },
   "source": [
    "# Завдання 4\n",
    "Намалюйте матрицб кореляцій. Для найбільш корельованих ознак намалюйте точкову діаграму."
   ]
  },
  {
   "cell_type": "code",
   "execution_count": 9,
   "id": "32283746",
   "metadata": {
    "execution": {
     "iopub.execute_input": "2024-07-21T18:50:55.229960Z",
     "iopub.status.busy": "2024-07-21T18:50:55.228778Z",
     "iopub.status.idle": "2024-07-21T18:50:55.887506Z",
     "shell.execute_reply": "2024-07-21T18:50:55.886392Z"
    },
    "id": "rQefEj-XY-2_",
    "papermill": {
     "duration": 0.672354,
     "end_time": "2024-07-21T18:50:55.890323",
     "exception": false,
     "start_time": "2024-07-21T18:50:55.217969",
     "status": "completed"
    },
    "tags": []
   },
   "outputs": [
    {
     "data": {
      "image/png": "[encoded data removed]",
      "text/plain": [
       "<Figure size 1000x1000 with 2 Axes>"
      ]
     },
     "metadata": {},
     "output_type": "display_data"
    }
   ],
   "source": [
    "corr = df.corr()\n",
    "fig = plt.figure(figsize=(10,10))\n",
    "plt.matshow(corr, cmap='RdBu', fignum=fig.number)\n",
    "plt.xticks(range(len(corr.columns)),corr.columns)\n",
    "plt.yticks(range(len(corr.columns)),corr.columns)\n",
    "plt.colorbar()\n",
    "plt.clim(-1,1)"
   ]
  },
  {
   "cell_type": "markdown",
   "id": "130dbb41",
   "metadata": {
    "id": "DgIFGk9iY_ir",
    "papermill": {
     "duration": 0.009133,
     "end_time": "2024-07-21T18:50:55.910583",
     "exception": false,
     "start_time": "2024-07-21T18:50:55.901450",
     "status": "completed"
    },
    "tags": []
   },
   "source": [
    "# Завдання 5\n",
    "Для 4-ох числових ознак на вибір намалюйте ящики з вусами згрупованими по статі. Подумайте чи є вплив статі на розміри опосума"
   ]
  },
  {
   "cell_type": "code",
   "execution_count": 10,
   "id": "c37b64ee",
   "metadata": {
    "execution": {
     "iopub.execute_input": "2024-07-21T18:50:55.933600Z",
     "iopub.status.busy": "2024-07-21T18:50:55.932979Z",
     "iopub.status.idle": "2024-07-21T18:50:57.194390Z",
     "shell.execute_reply": "2024-07-21T18:50:57.192762Z"
    },
    "id": "N2rwAwQRZNXA",
    "papermill": {
     "duration": 1.276869,
     "end_time": "2024-07-21T18:50:57.197271",
     "exception": false,
     "start_time": "2024-07-21T18:50:55.920402",
     "status": "completed"
    },
    "tags": []
   },
   "outputs": [
    {
     "data": {
      "text/plain": [
       "<Axes: xlabel='chest', ylabel='belly'>"
      ]
     },
     "execution_count": 10,
     "metadata": {},
     "output_type": "execute_result"
    },
    {
     "data": {
      "image/png": "[encoded data removed]",
      "text/plain": [
       "<Figure size 600x600 with 1 Axes>"
      ]
     },
     "metadata": {},
     "output_type": "display_data"
    },
    {
     "data": {
      "image/png": "[encoded data removed]",
      "text/plain": [
       "<Figure size 600x600 with 1 Axes>"
      ]
     },
     "metadata": {},
     "output_type": "display_data"
    },
    {
     "data": {
      "image/png": "[encoded data removed]",
      "text/plain": [
       "<Figure size 600x600 with 1 Axes>"
      ]
     },
     "metadata": {},
     "output_type": "display_data"
    },
    {
     "data": {
      "image/png": "[encoded data removed]",
      "text/plain": [
       "<Figure size 600x600 with 1 Axes>"
      ]
     },
     "metadata": {},
     "output_type": "display_data"
    }
   ],
   "source": [
    "df.plot(kind='scatter', x='hdlngth', y='skullw', figsize=(6,6))\n",
    "df.plot(kind='scatter', x='hdlngth', y='totlngth', figsize=(6,6))\n",
    "df.plot(kind='scatter', x='footlgth', y='earconch', figsize=(6,6))\n",
    "df.plot(kind='scatter', x='chest', y='belly', figsize=(6,6))\n"
   ]
  },
  {
   "cell_type": "code",
   "execution_count": null,
   "id": "24812cf4",
   "metadata": {
    "papermill": {
     "duration": 0.011905,
     "end_time": "2024-07-21T18:50:57.220964",
     "exception": false,
     "start_time": "2024-07-21T18:50:57.209059",
     "status": "completed"
    },
    "tags": []
   },
   "outputs": [],
   "source": []
  }
 ],
 "metadata": {
  "colab": {
   "authorship_tag": "ABX9TyOU5sqjLSDPK9vKVZKGEji5",
   "include_colab_link": true,
   "provenance": []
  },
  "kaggle": {
   "accelerator": "none",
   "dataSources": [],
   "dockerImageVersionId": 30746,
   "isGpuEnabled": false,
   "isInternetEnabled": true,
   "language": "python",
   "sourceType": "notebook"
  },
  "kernelspec": {
   "display_name": "Python 3",
   "language": "python",
   "name": "python3"
  },
  "language_info": {
   "codemirror_mode": {
    "name": "ipython",
    "version": 3
   },
   "file_extension": ".py",
   "mimetype": "text/x-python",
   "name": "python",
   "nbconvert_exporter": "python",
   "pygments_lexer": "ipython3",
   "version": "3.10.13"
  },
  "papermill": {
   "default_parameters": {},
   "duration": 8.341358,
   "end_time": "2024-07-21T18:50:57.756455",
   "environment_variables": {},
   "exception": null,
   "input_path": "__notebook__.ipynb",
   "output_path": "__notebook__.ipynb",
   "parameters": {},
   "start_time": "2024-07-21T18:50:49.415097",
   "version": "2.5.0"
  }
 },
 "nbformat": 4,
 "nbformat_minor": 5
}
