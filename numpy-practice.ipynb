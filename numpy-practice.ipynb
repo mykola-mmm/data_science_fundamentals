{
 "cells": [
  {
   "cell_type": "markdown",
   "id": "364f2631",
   "metadata": {
    "id": "view-in-github",
    "papermill": {
     "duration": 0.00767,
     "end_time": "2024-07-18T16:30:28.081695",
     "exception": false,
     "start_time": "2024-07-18T16:30:28.074025",
     "status": "completed"
    },
    "tags": []
   },
   "source": [
    "<a href=\"https://colab.research.google.com/github/HalyshAnton/IT-Step-Pyton-AI/blob/main/module2/%D0%9F%D1%80%D0%B0%D0%BA%D1%82%D0%B8%D0%BA%D0%B0_numpy.ipynb\" target=\"_parent\"><img src=\"https://colab.research.google.com/assets/colab-badge.svg\" alt=\"Open In Colab\"/></a>"
   ]
  },
  {
   "cell_type": "markdown",
   "id": "33bf7b89",
   "metadata": {
    "id": "rIioSM27QJ8x",
    "papermill": {
     "duration": 0.005561,
     "end_time": "2024-07-18T16:30:28.093452",
     "exception": false,
     "start_time": "2024-07-18T16:30:28.087891",
     "status": "completed"
    },
    "tags": []
   },
   "source": [
    "Імпортуйте модуль numpy"
   ]
  },
  {
   "cell_type": "code",
   "execution_count": 1,
   "id": "e91595cd",
   "metadata": {
    "execution": {
     "iopub.execute_input": "2024-07-18T16:30:28.107244Z",
     "iopub.status.busy": "2024-07-18T16:30:28.106812Z",
     "iopub.status.idle": "2024-07-18T16:30:28.120377Z",
     "shell.execute_reply": "2024-07-18T16:30:28.119341Z"
    },
    "id": "rDtfBq8ANBhL",
    "papermill": {
     "duration": 0.023809,
     "end_time": "2024-07-18T16:30:28.123088",
     "exception": false,
     "start_time": "2024-07-18T16:30:28.099279",
     "status": "completed"
    },
    "tags": []
   },
   "outputs": [],
   "source": [
    "import numpy as np"
   ]
  },
  {
   "cell_type": "markdown",
   "id": "5522b704",
   "metadata": {
    "id": "npT_FnlcNwke",
    "papermill": {
     "duration": 0.005692,
     "end_time": "2024-07-18T16:30:28.135150",
     "exception": false,
     "start_time": "2024-07-18T16:30:28.129458",
     "status": "completed"
    },
    "tags": []
   },
   "source": [
    "# Завдання 1\n",
    "Створіть масив з елементами від 1 до 12. Виведіть розмір та тип масиву"
   ]
  },
  {
   "cell_type": "code",
   "execution_count": 2,
   "id": "7d7f464a",
   "metadata": {
    "execution": {
     "iopub.execute_input": "2024-07-18T16:30:28.148889Z",
     "iopub.status.busy": "2024-07-18T16:30:28.148482Z",
     "iopub.status.idle": "2024-07-18T16:30:28.156244Z",
     "shell.execute_reply": "2024-07-18T16:30:28.155001Z"
    },
    "id": "02EdQMKlOZHr",
    "papermill": {
     "duration": 0.018315,
     "end_time": "2024-07-18T16:30:28.159454",
     "exception": false,
     "start_time": "2024-07-18T16:30:28.141139",
     "status": "completed"
    },
    "tags": []
   },
   "outputs": [
    {
     "name": "stdout",
     "output_type": "stream",
     "text": [
      "[ 1  2  3  4  5  6  7  8  9 10 11 12]\n",
      "<class 'numpy.dtypes.Int64DType'>\n",
      "(12,)\n"
     ]
    }
   ],
   "source": [
    "a = np.arange(1,13)\n",
    "print(a)\n",
    "print(type(a.dtype))\n",
    "print(a.shape)\n",
    "\n"
   ]
  },
  {
   "cell_type": "markdown",
   "id": "85c13187",
   "metadata": {
    "id": "HH8hOwVhNxWE",
    "papermill": {
     "duration": 0.005855,
     "end_time": "2024-07-18T16:30:28.171658",
     "exception": false,
     "start_time": "2024-07-18T16:30:28.165803",
     "status": "completed"
    },
    "tags": []
   },
   "source": [
    "# Завдання 2\n",
    "Зробіть на основі попереднього масиву матрицю з 4 стовчиками. Змініть тип даних матриці на float32. Виведіть транспоновану матрицю."
   ]
  },
  {
   "cell_type": "code",
   "execution_count": 3,
   "id": "bf67f742",
   "metadata": {
    "execution": {
     "iopub.execute_input": "2024-07-18T16:30:28.185738Z",
     "iopub.status.busy": "2024-07-18T16:30:28.185317Z",
     "iopub.status.idle": "2024-07-18T16:30:28.191999Z",
     "shell.execute_reply": "2024-07-18T16:30:28.190893Z"
    },
    "id": "4jYqwTycOYbN",
    "papermill": {
     "duration": 0.016921,
     "end_time": "2024-07-18T16:30:28.194839",
     "exception": false,
     "start_time": "2024-07-18T16:30:28.177918",
     "status": "completed"
    },
    "tags": []
   },
   "outputs": [
    {
     "name": "stdout",
     "output_type": "stream",
     "text": [
      "[[ 1  2  3  4]\n",
      " [ 5  6  7  8]\n",
      " [ 9 10 11 12]]\n",
      "float64\n"
     ]
    }
   ],
   "source": [
    "a = a.reshape(3, 4)\n",
    "print(a)\n",
    "a = a.astype(float)\n",
    "print(a.dtype)"
   ]
  },
  {
   "cell_type": "markdown",
   "id": "ba318865",
   "metadata": {
    "id": "T35Vjkz1Nxez",
    "papermill": {
     "duration": 0.006253,
     "end_time": "2024-07-18T16:30:28.207438",
     "exception": false,
     "start_time": "2024-07-18T16:30:28.201185",
     "status": "completed"
    },
    "tags": []
   },
   "source": [
    "#Завдання 3\n",
    "Створіть матрицю 8х8 з 0 та 1 розміщеними в шаховому порядку"
   ]
  },
  {
   "cell_type": "code",
   "execution_count": 4,
   "id": "bd014fb5",
   "metadata": {
    "execution": {
     "iopub.execute_input": "2024-07-18T16:30:28.221840Z",
     "iopub.status.busy": "2024-07-18T16:30:28.221377Z",
     "iopub.status.idle": "2024-07-18T16:30:28.230449Z",
     "shell.execute_reply": "2024-07-18T16:30:28.228695Z"
    },
    "id": "mrbnfiPQPu_n",
    "papermill": {
     "duration": 0.019208,
     "end_time": "2024-07-18T16:30:28.232939",
     "exception": false,
     "start_time": "2024-07-18T16:30:28.213731",
     "status": "completed"
    },
    "tags": []
   },
   "outputs": [
    {
     "name": "stdout",
     "output_type": "stream",
     "text": [
      "[[0 0 0 0 0 0 0 0]\n",
      " [0 0 0 0 0 0 0 0]\n",
      " [0 0 0 0 0 0 0 0]\n",
      " [0 0 0 0 0 0 0 0]\n",
      " [0 0 0 0 0 0 0 0]\n",
      " [0 0 0 0 0 0 0 0]\n",
      " [0 0 0 0 0 0 0 0]\n",
      " [0 0 0 0 0 0 0 0]]\n",
      "[[1 0 1 0 1 0 1 0]\n",
      " [0 1 0 1 0 1 0 1]\n",
      " [1 0 1 0 1 0 1 0]\n",
      " [0 1 0 1 0 1 0 1]\n",
      " [1 0 1 0 1 0 1 0]\n",
      " [0 1 0 1 0 1 0 1]\n",
      " [1 0 1 0 1 0 1 0]\n",
      " [0 1 0 1 0 1 0 1]]\n"
     ]
    }
   ],
   "source": [
    "x = np.zeros((8,8), dtype=int)\n",
    "print(x)\n",
    "x[::2, ::2] = 1\n",
    "x[1::2, 1::2] = 1\n",
    "print(x)"
   ]
  },
  {
   "cell_type": "markdown",
   "id": "56d0dce6",
   "metadata": {
    "id": "g87KAY1nNxoy",
    "papermill": {
     "duration": 0.006073,
     "end_time": "2024-07-18T16:30:28.245425",
     "exception": false,
     "start_time": "2024-07-18T16:30:28.239352",
     "status": "completed"
    },
    "tags": []
   },
   "source": [
    "# Завдання 4\n",
    "Створіть випадкову матрицю 4х3. Знайдіть суму елементів в стовпчиках\\рядках\\усій матриці"
   ]
  },
  {
   "cell_type": "code",
   "execution_count": 5,
   "id": "ee0533fa",
   "metadata": {
    "execution": {
     "iopub.execute_input": "2024-07-18T16:30:28.259814Z",
     "iopub.status.busy": "2024-07-18T16:30:28.259387Z",
     "iopub.status.idle": "2024-07-18T16:30:28.268319Z",
     "shell.execute_reply": "2024-07-18T16:30:28.266638Z"
    },
    "id": "RGA3022VQIZV",
    "papermill": {
     "duration": 0.019426,
     "end_time": "2024-07-18T16:30:28.271191",
     "exception": false,
     "start_time": "2024-07-18T16:30:28.251765",
     "status": "completed"
    },
    "tags": []
   },
   "outputs": [
    {
     "name": "stdout",
     "output_type": "stream",
     "text": [
      "[[0.65698539 0.50170736 0.32843181]\n",
      " [0.35589209 0.36255461 0.89173461]\n",
      " [0.59400971 0.45881796 0.40038976]\n",
      " [0.73733964 0.20255216 0.95853084]]\n",
      "[2.34422684 1.52563209 2.57908702]\n",
      "[1.48712456 1.61018132 1.45321743 1.89842264]\n",
      "6.4489459457480764\n"
     ]
    }
   ],
   "source": [
    "rand = np.random.random((4,3))\n",
    "print(rand)\n",
    "\n",
    "print(rand.sum(axis=0))\n",
    "print(rand.sum(axis=1))\n",
    "print(rand.sum())"
   ]
  },
  {
   "cell_type": "markdown",
   "id": "910a55bf",
   "metadata": {
    "id": "AGH0TVVBNxx9",
    "papermill": {
     "duration": 0.006201,
     "end_time": "2024-07-18T16:30:28.284061",
     "exception": false,
     "start_time": "2024-07-18T16:30:28.277860",
     "status": "completed"
    },
    "tags": []
   },
   "source": [
    "# Завдання 5\n",
    "У попередній матриці від кожного рядка відніміть максимальний елемент цього рядка"
   ]
  },
  {
   "cell_type": "code",
   "execution_count": 6,
   "id": "bc524fb0",
   "metadata": {
    "execution": {
     "iopub.execute_input": "2024-07-18T16:30:28.298619Z",
     "iopub.status.busy": "2024-07-18T16:30:28.297897Z",
     "iopub.status.idle": "2024-07-18T16:30:28.305440Z",
     "shell.execute_reply": "2024-07-18T16:30:28.304154Z"
    },
    "id": "TVYjbsBDQHTU",
    "papermill": {
     "duration": 0.017647,
     "end_time": "2024-07-18T16:30:28.307998",
     "exception": false,
     "start_time": "2024-07-18T16:30:28.290351",
     "status": "completed"
    },
    "tags": []
   },
   "outputs": [
    {
     "name": "stdout",
     "output_type": "stream",
     "text": [
      "[[0.65698539 0.50170736 0.32843181]\n",
      " [0.35589209 0.36255461 0.89173461]\n",
      " [0.59400971 0.45881796 0.40038976]\n",
      " [0.73733964 0.20255216 0.95853084]]\n",
      "[0.65698539 0.89173461 0.59400971 0.95853084]\n",
      "[[ 0.         -0.15527804 -0.32855358]\n",
      " [-0.53584252 -0.52918     0.        ]\n",
      " [ 0.         -0.13519175 -0.19361996]\n",
      " [-0.22119119 -0.75597867  0.        ]]\n"
     ]
    }
   ],
   "source": [
    "print(rand)\n",
    "print(rand.max(axis=1))\n",
    "print(rand-rand.max(axis=1,keepdims=True))\n"
   ]
  },
  {
   "cell_type": "markdown",
   "id": "4422e7f9",
   "metadata": {
    "id": "cH8WhnsjQsXi",
    "papermill": {
     "duration": 0.006283,
     "end_time": "2024-07-18T16:30:28.320832",
     "exception": false,
     "start_time": "2024-07-18T16:30:28.314549",
     "status": "completed"
    },
    "tags": []
   },
   "source": [
    "# Завдання 6\n",
    "Є дані про вагу контейнерів для перевезення на кораблі: дрібний - 5 т,  малий - 10 т, середній - 25 т, великий - 40 т. На кораблі розміщено 20 дрібних, 5 малих, 10 середніх та 4 великих контейнерів. Знайти масу вантажу."
   ]
  },
  {
   "cell_type": "code",
   "execution_count": 7,
   "id": "495725f3",
   "metadata": {
    "execution": {
     "iopub.execute_input": "2024-07-18T16:30:28.335669Z",
     "iopub.status.busy": "2024-07-18T16:30:28.335291Z",
     "iopub.status.idle": "2024-07-18T16:30:28.341853Z",
     "shell.execute_reply": "2024-07-18T16:30:28.340657Z"
    },
    "id": "BYrqqe9WR6g7",
    "papermill": {
     "duration": 0.017177,
     "end_time": "2024-07-18T16:30:28.344522",
     "exception": false,
     "start_time": "2024-07-18T16:30:28.327345",
     "status": "completed"
    },
    "tags": []
   },
   "outputs": [
    {
     "name": "stdout",
     "output_type": "stream",
     "text": [
      "560\n"
     ]
    }
   ],
   "source": [
    "mass_matrix = np.array([5,10,25,40])\n",
    "ship_content = np.array([20,5,10,4])\n",
    "print(ship_content @ mass_matrix)"
   ]
  },
  {
   "cell_type": "markdown",
   "id": "4a637bcb",
   "metadata": {
    "id": "IhdiDOh3Qrmb",
    "papermill": {
     "duration": 0.006278,
     "end_time": "2024-07-18T16:30:28.357349",
     "exception": false,
     "start_time": "2024-07-18T16:30:28.351071",
     "status": "completed"
    },
    "tags": []
   },
   "source": [
    "# Завдання 7\n",
    "Тепер у нас декілька кораблів. Напишіть код для обчислення вантажу на кожному кораблі."
   ]
  },
  {
   "cell_type": "code",
   "execution_count": 8,
   "id": "94db8c56",
   "metadata": {
    "execution": {
     "iopub.execute_input": "2024-07-18T16:30:28.372482Z",
     "iopub.status.busy": "2024-07-18T16:30:28.371783Z",
     "iopub.status.idle": "2024-07-18T16:30:28.378212Z",
     "shell.execute_reply": "2024-07-18T16:30:28.377100Z"
    },
    "id": "gVUXPdFhSI95",
    "papermill": {
     "duration": 0.017055,
     "end_time": "2024-07-18T16:30:28.381070",
     "exception": false,
     "start_time": "2024-07-18T16:30:28.364015",
     "status": "completed"
    },
    "tags": []
   },
   "outputs": [
    {
     "name": "stdout",
     "output_type": "stream",
     "text": [
      "[260 580 900]\n"
     ]
    }
   ],
   "source": [
    "ship_contents = np.array([\n",
    "    [1,2,3,4],\n",
    "    [5,6,7,8],\n",
    "    [9,10,11,12]\n",
    "])\n",
    "\n",
    "print(ship_contents @ mass_matrix)"
   ]
  },
  {
   "cell_type": "code",
   "execution_count": null,
   "id": "7ff436f3",
   "metadata": {
    "papermill": {
     "duration": 0.006449,
     "end_time": "2024-07-18T16:30:28.394088",
     "exception": false,
     "start_time": "2024-07-18T16:30:28.387639",
     "status": "completed"
    },
    "tags": []
   },
   "outputs": [],
   "source": []
  }
 ],
 "metadata": {
  "colab": {
   "authorship_tag": "ABX9TyN2C9P3C1/qWxsZTPFU1TR0",
   "include_colab_link": true,
   "provenance": []
  },
  "kaggle": {
   "accelerator": "none",
   "dataSources": [],
   "dockerImageVersionId": 30746,
   "isGpuEnabled": false,
   "isInternetEnabled": true,
   "language": "python",
   "sourceType": "notebook"
  },
  "kernelspec": {
   "display_name": "Python 3",
   "language": "python",
   "name": "python3"
  },
  "language_info": {
   "codemirror_mode": {
    "name": "ipython",
    "version": 3
   },
   "file_extension": ".py",
   "mimetype": "text/x-python",
   "name": "python",
   "nbconvert_exporter": "python",
   "pygments_lexer": "ipython3",
   "version": "3.10.13"
  },
  "papermill": {
   "default_parameters": {},
   "duration": 3.844387,
   "end_time": "2024-07-18T16:30:28.821771",
   "environment_variables": {},
   "exception": null,
   "input_path": "__notebook__.ipynb",
   "output_path": "__notebook__.ipynb",
   "parameters": {},
   "start_time": "2024-07-18T16:30:24.977384",
   "version": "2.5.0"
  }
 },
 "nbformat": 4,
 "nbformat_minor": 5
}
