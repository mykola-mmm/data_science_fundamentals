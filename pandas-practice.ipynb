{
 "cells": [
  {
   "cell_type": "markdown",
   "id": "63390fcd",
   "metadata": {
    "id": "view-in-github",
    "papermill": {
     "duration": 0.006591,
     "end_time": "2024-07-18T17:31:19.840828",
     "exception": false,
     "start_time": "2024-07-18T17:31:19.834237",
     "status": "completed"
    },
    "tags": []
   },
   "source": [
    "<a href=\"https://colab.research.google.com/github/HalyshAnton/IT-Step-Pyton-AI/blob/main/module2/%D0%9F%D1%80%D0%B0%D0%BA%D1%82%D0%B8%D0%BA%D0%B0_pandas.ipynb\" target=\"_parent\"><img src=\"https://colab.research.google.com/assets/colab-badge.svg\" alt=\"Open In Colab\"/></a>"
   ]
  },
  {
   "cell_type": "markdown",
   "id": "85533351",
   "metadata": {
    "id": "ikzNvEQx0XKG",
    "papermill": {
     "duration": 0.005768,
     "end_time": "2024-07-18T17:31:19.853020",
     "exception": false,
     "start_time": "2024-07-18T17:31:19.847252",
     "status": "completed"
    },
    "tags": []
   },
   "source": [
    "Імпорт модуля pandas"
   ]
  },
  {
   "cell_type": "code",
   "execution_count": 1,
   "id": "73e6a8ea",
   "metadata": {
    "execution": {
     "iopub.execute_input": "2024-07-18T17:31:19.871009Z",
     "iopub.status.busy": "2024-07-18T17:31:19.869889Z",
     "iopub.status.idle": "2024-07-18T17:31:20.853201Z",
     "shell.execute_reply": "2024-07-18T17:31:20.851794Z"
    },
    "id": "fzkEy73a0Rl8",
    "papermill": {
     "duration": 0.993594,
     "end_time": "2024-07-18T17:31:20.856004",
     "exception": false,
     "start_time": "2024-07-18T17:31:19.862410",
     "status": "completed"
    },
    "tags": []
   },
   "outputs": [],
   "source": [
    "import pandas as pd"
   ]
  },
  {
   "cell_type": "markdown",
   "id": "1e58d9e3",
   "metadata": {
    "id": "RoUDr2wi1D7y",
    "papermill": {
     "duration": 0.005905,
     "end_time": "2024-07-18T17:31:20.868339",
     "exception": false,
     "start_time": "2024-07-18T17:31:20.862434",
     "status": "completed"
    },
    "tags": []
   },
   "source": [
    "Дані про пасажирів корабля:\n",
    "* pclass -- клас білета(перший, другий або третій)\n",
    "* sex -- стать\n",
    "* age -- вік\n",
    "* sibsp -- кількість братів\\сестер та чоловіків\\дружин на борту\n",
    "* parch -- кількість дітей та батьків на борту\n",
    "* fare -- вартість поїздки\n",
    "* embarked -- Порт посадки (C = Шербур, Q = Квінстаун, S = Саутгемптон)\n"
   ]
  },
  {
   "cell_type": "code",
   "execution_count": 2,
   "id": "c14a6d9c",
   "metadata": {
    "execution": {
     "iopub.execute_input": "2024-07-18T17:31:20.882975Z",
     "iopub.status.busy": "2024-07-18T17:31:20.882395Z",
     "iopub.status.idle": "2024-07-18T17:31:21.078904Z",
     "shell.execute_reply": "2024-07-18T17:31:21.077633Z"
    },
    "id": "sDI-qfUH0dBT",
    "papermill": {
     "duration": 0.207141,
     "end_time": "2024-07-18T17:31:21.081813",
     "exception": false,
     "start_time": "2024-07-18T17:31:20.874672",
     "status": "completed"
    },
    "tags": []
   },
   "outputs": [],
   "source": [
    "df = pd.read_csv(\"https://raw.githubusercontent.com/HalyshAnton/IT-Step-Pyton-AI/main/module2/data/ship_passengers.csv\",\n",
    "                 index_col=\"Unnamed: 0\")"
   ]
  },
  {
   "cell_type": "markdown",
   "id": "3c6333ef",
   "metadata": {
    "id": "_pD2l5vN43VF",
    "papermill": {
     "duration": 0.005844,
     "end_time": "2024-07-18T17:31:21.094066",
     "exception": false,
     "start_time": "2024-07-18T17:31:21.088222",
     "status": "completed"
    },
    "tags": []
   },
   "source": [
    "# Завдання 1\n",
    "\n",
    "Вивести загальну інформацію про таблицю: кількість рядків та стовпців, назви стовпців та їхній тип даних, в яких стовпцях є пропущені значення"
   ]
  },
  {
   "cell_type": "code",
   "execution_count": 3,
   "id": "a735264d",
   "metadata": {
    "execution": {
     "iopub.execute_input": "2024-07-18T17:31:21.108540Z",
     "iopub.status.busy": "2024-07-18T17:31:21.108024Z",
     "iopub.status.idle": "2024-07-18T17:31:21.120574Z",
     "shell.execute_reply": "2024-07-18T17:31:21.118474Z"
    },
    "id": "n-BkudKiWhW_",
    "papermill": {
     "duration": 0.023394,
     "end_time": "2024-07-18T17:31:21.123603",
     "exception": false,
     "start_time": "2024-07-18T17:31:21.100209",
     "status": "completed"
    },
    "tags": []
   },
   "outputs": [
    {
     "name": "stdout",
     "output_type": "stream",
     "text": [
      "num of rows -  891\n",
      "num of columns -  7\n",
      "column names -  Index(['pclass', 'sex', 'age', 'sibsp', 'parch', 'fare', 'embarked'], dtype='object')\n",
      "pclass : int64\n",
      "\t has nan values -  False\n",
      "sex : object\n",
      "\t has nan values -  False\n",
      "age : float64\n",
      "\t has nan values -  True\n",
      "sibsp : int64\n",
      "\t has nan values -  False\n",
      "parch : int64\n",
      "\t has nan values -  False\n",
      "fare : float64\n",
      "\t has nan values -  False\n",
      "embarked : object\n",
      "\t has nan values -  True\n"
     ]
    }
   ],
   "source": [
    "print(\"num of rows - \",df.shape[0])\n",
    "print(\"num of columns - \", df.shape[1])\n",
    "column_names = df.columns\n",
    "print(\"column names - \", column_names)\n",
    "for i in column_names:\n",
    "    print(i,\":\",df[i].dtype)\n",
    "    print(\"\\t has nan values - \", df[i].isnull().any())\n",
    "# df.info()\n",
    "# df.describe()"
   ]
  },
  {
   "cell_type": "markdown",
   "id": "60589fc2",
   "metadata": {
    "id": "YVUQGjfXOLMo",
    "papermill": {
     "duration": 0.006132,
     "end_time": "2024-07-18T17:31:21.136331",
     "exception": false,
     "start_time": "2024-07-18T17:31:21.130199",
     "status": "completed"
    },
    "tags": []
   },
   "source": [
    "# Завдання 2\n",
    "Скільки пасажирів сіло у Квінстауні?"
   ]
  },
  {
   "cell_type": "code",
   "execution_count": 4,
   "id": "7c8f70f8",
   "metadata": {
    "execution": {
     "iopub.execute_input": "2024-07-18T17:31:21.151325Z",
     "iopub.status.busy": "2024-07-18T17:31:21.150872Z",
     "iopub.status.idle": "2024-07-18T17:31:21.157774Z",
     "shell.execute_reply": "2024-07-18T17:31:21.156634Z"
    },
    "id": "x4PMpTIlPYR5",
    "papermill": {
     "duration": 0.017493,
     "end_time": "2024-07-18T17:31:21.160153",
     "exception": false,
     "start_time": "2024-07-18T17:31:21.142660",
     "status": "completed"
    },
    "tags": []
   },
   "outputs": [
    {
     "name": "stdout",
     "output_type": "stream",
     "text": [
      "passanges boarded at Q: 77\n"
     ]
    }
   ],
   "source": [
    "filter = df['embarked'] == 'Q'\n",
    "print(\"passanges boarded at Q:\",filter.sum())"
   ]
  },
  {
   "cell_type": "markdown",
   "id": "a4be076a",
   "metadata": {
    "id": "GUQxGeGZPaxq",
    "papermill": {
     "duration": 0.006353,
     "end_time": "2024-07-18T17:31:21.173025",
     "exception": false,
     "start_time": "2024-07-18T17:31:21.166672",
     "status": "completed"
    },
    "tags": []
   },
   "source": [
    "# Завдання 3\n",
    "Виведіть стать, вік та вартість поїздки для пасажирів з білетом першого класу"
   ]
  },
  {
   "cell_type": "code",
   "execution_count": 5,
   "id": "064f0771",
   "metadata": {
    "execution": {
     "iopub.execute_input": "2024-07-18T17:31:21.187922Z",
     "iopub.status.busy": "2024-07-18T17:31:21.187504Z",
     "iopub.status.idle": "2024-07-18T17:31:21.217147Z",
     "shell.execute_reply": "2024-07-18T17:31:21.215922Z"
    },
    "id": "XKIZYvdsRQSY",
    "papermill": {
     "duration": 0.03998,
     "end_time": "2024-07-18T17:31:21.219557",
     "exception": false,
     "start_time": "2024-07-18T17:31:21.179577",
     "status": "completed"
    },
    "tags": []
   },
   "outputs": [
    {
     "name": "stdout",
     "output_type": "stream",
     "text": [
      "number of 1st class passangers -  216\n"
     ]
    },
    {
     "data": {
      "text/html": [
       "<div>\n",
       "<style scoped>\n",
       "    .dataframe tbody tr th:only-of-type {\n",
       "        vertical-align: middle;\n",
       "    }\n",
       "\n",
       "    .dataframe tbody tr th {\n",
       "        vertical-align: top;\n",
       "    }\n",
       "\n",
       "    .dataframe thead th {\n",
       "        text-align: right;\n",
       "    }\n",
       "</style>\n",
       "<table border=\"1\" class=\"dataframe\">\n",
       "  <thead>\n",
       "    <tr style=\"text-align: right;\">\n",
       "      <th></th>\n",
       "      <th>pclass</th>\n",
       "      <th>sex</th>\n",
       "      <th>age</th>\n",
       "      <th>sibsp</th>\n",
       "      <th>parch</th>\n",
       "      <th>fare</th>\n",
       "      <th>embarked</th>\n",
       "    </tr>\n",
       "  </thead>\n",
       "  <tbody>\n",
       "    <tr>\n",
       "      <th>1</th>\n",
       "      <td>1</td>\n",
       "      <td>female</td>\n",
       "      <td>38.0</td>\n",
       "      <td>1</td>\n",
       "      <td>0</td>\n",
       "      <td>71.2833</td>\n",
       "      <td>C</td>\n",
       "    </tr>\n",
       "    <tr>\n",
       "      <th>3</th>\n",
       "      <td>1</td>\n",
       "      <td>female</td>\n",
       "      <td>35.0</td>\n",
       "      <td>1</td>\n",
       "      <td>0</td>\n",
       "      <td>53.1000</td>\n",
       "      <td>S</td>\n",
       "    </tr>\n",
       "    <tr>\n",
       "      <th>6</th>\n",
       "      <td>1</td>\n",
       "      <td>male</td>\n",
       "      <td>54.0</td>\n",
       "      <td>0</td>\n",
       "      <td>0</td>\n",
       "      <td>51.8625</td>\n",
       "      <td>S</td>\n",
       "    </tr>\n",
       "    <tr>\n",
       "      <th>11</th>\n",
       "      <td>1</td>\n",
       "      <td>female</td>\n",
       "      <td>58.0</td>\n",
       "      <td>0</td>\n",
       "      <td>0</td>\n",
       "      <td>26.5500</td>\n",
       "      <td>S</td>\n",
       "    </tr>\n",
       "    <tr>\n",
       "      <th>23</th>\n",
       "      <td>1</td>\n",
       "      <td>male</td>\n",
       "      <td>28.0</td>\n",
       "      <td>0</td>\n",
       "      <td>0</td>\n",
       "      <td>35.5000</td>\n",
       "      <td>S</td>\n",
       "    </tr>\n",
       "    <tr>\n",
       "      <th>...</th>\n",
       "      <td>...</td>\n",
       "      <td>...</td>\n",
       "      <td>...</td>\n",
       "      <td>...</td>\n",
       "      <td>...</td>\n",
       "      <td>...</td>\n",
       "      <td>...</td>\n",
       "    </tr>\n",
       "    <tr>\n",
       "      <th>871</th>\n",
       "      <td>1</td>\n",
       "      <td>female</td>\n",
       "      <td>47.0</td>\n",
       "      <td>1</td>\n",
       "      <td>1</td>\n",
       "      <td>52.5542</td>\n",
       "      <td>S</td>\n",
       "    </tr>\n",
       "    <tr>\n",
       "      <th>872</th>\n",
       "      <td>1</td>\n",
       "      <td>male</td>\n",
       "      <td>33.0</td>\n",
       "      <td>0</td>\n",
       "      <td>0</td>\n",
       "      <td>5.0000</td>\n",
       "      <td>S</td>\n",
       "    </tr>\n",
       "    <tr>\n",
       "      <th>879</th>\n",
       "      <td>1</td>\n",
       "      <td>female</td>\n",
       "      <td>56.0</td>\n",
       "      <td>0</td>\n",
       "      <td>1</td>\n",
       "      <td>83.1583</td>\n",
       "      <td>C</td>\n",
       "    </tr>\n",
       "    <tr>\n",
       "      <th>887</th>\n",
       "      <td>1</td>\n",
       "      <td>female</td>\n",
       "      <td>19.0</td>\n",
       "      <td>0</td>\n",
       "      <td>0</td>\n",
       "      <td>30.0000</td>\n",
       "      <td>S</td>\n",
       "    </tr>\n",
       "    <tr>\n",
       "      <th>889</th>\n",
       "      <td>1</td>\n",
       "      <td>male</td>\n",
       "      <td>26.0</td>\n",
       "      <td>0</td>\n",
       "      <td>0</td>\n",
       "      <td>30.0000</td>\n",
       "      <td>C</td>\n",
       "    </tr>\n",
       "  </tbody>\n",
       "</table>\n",
       "<p>216 rows × 7 columns</p>\n",
       "</div>"
      ],
      "text/plain": [
       "     pclass     sex   age  sibsp  parch     fare embarked\n",
       "1         1  female  38.0      1      0  71.2833        C\n",
       "3         1  female  35.0      1      0  53.1000        S\n",
       "6         1    male  54.0      0      0  51.8625        S\n",
       "11        1  female  58.0      0      0  26.5500        S\n",
       "23        1    male  28.0      0      0  35.5000        S\n",
       "..      ...     ...   ...    ...    ...      ...      ...\n",
       "871       1  female  47.0      1      1  52.5542        S\n",
       "872       1    male  33.0      0      0   5.0000        S\n",
       "879       1  female  56.0      0      1  83.1583        C\n",
       "887       1  female  19.0      0      0  30.0000        S\n",
       "889       1    male  26.0      0      0  30.0000        C\n",
       "\n",
       "[216 rows x 7 columns]"
      ]
     },
     "execution_count": 5,
     "metadata": {},
     "output_type": "execute_result"
    }
   ],
   "source": [
    "filter = df['pclass'] == 1\n",
    "print(\"number of 1st class passangers - \", filter.sum())\n",
    "df[filter]"
   ]
  },
  {
   "cell_type": "markdown",
   "id": "3b0d7fa1",
   "metadata": {
    "id": "7S_Qh0hvRaVS",
    "papermill": {
     "duration": 0.006582,
     "end_time": "2024-07-18T17:31:21.233145",
     "exception": false,
     "start_time": "2024-07-18T17:31:21.226563",
     "status": "completed"
    },
    "tags": []
   },
   "source": [
    "# Завдання 4\n",
    "Ввиведіть дані про неповнолітніх чоловіків з Шербура"
   ]
  },
  {
   "cell_type": "code",
   "execution_count": 6,
   "id": "9e59bf84",
   "metadata": {
    "execution": {
     "iopub.execute_input": "2024-07-18T17:31:21.248680Z",
     "iopub.status.busy": "2024-07-18T17:31:21.248264Z",
     "iopub.status.idle": "2024-07-18T17:31:21.260765Z",
     "shell.execute_reply": "2024-07-18T17:31:21.259291Z"
    },
    "id": "mfOJmkOgRURj",
    "papermill": {
     "duration": 0.023591,
     "end_time": "2024-07-18T17:31:21.263589",
     "exception": false,
     "start_time": "2024-07-18T17:31:21.239998",
     "status": "completed"
    },
    "tags": []
   },
   "outputs": [
    {
     "name": "stdout",
     "output_type": "stream",
     "text": [
      "     pclass     sex   age  sibsp  parch     fare embarked\n",
      "7         3    male   2.0      3      1  21.0750        S\n",
      "9         2  female  14.0      1      0  30.0708        C\n",
      "10        3  female   4.0      1      1  16.7000        S\n",
      "14        3  female  14.0      0      0   7.8542        S\n",
      "16        3    male   2.0      4      1  29.1250        Q\n",
      "..      ...     ...   ...    ...    ...      ...      ...\n",
      "850       3    male   4.0      4      2  31.2750        S\n",
      "852       3  female   9.0      1      1  15.2458        C\n",
      "853       1  female  16.0      0      1  39.4000        S\n",
      "869       3    male   4.0      1      1  11.1333        S\n",
      "875       3  female  15.0      0      0   7.2250        C\n",
      "\n",
      "[113 rows x 7 columns]\n"
     ]
    }
   ],
   "source": [
    "filter = df['age'] < 18\n",
    "print(df[filter])"
   ]
  },
  {
   "cell_type": "markdown",
   "id": "bea4a2ce",
   "metadata": {
    "id": "ZoF1nlueSptD",
    "papermill": {
     "duration": 0.006923,
     "end_time": "2024-07-18T17:31:21.277701",
     "exception": false,
     "start_time": "2024-07-18T17:31:21.270778",
     "status": "completed"
    },
    "tags": []
   },
   "source": [
    "# Завдання 5\n",
    "Створіть новий стовпчик relatives -- загальна кількість родичів на борту для кожного пасажира"
   ]
  },
  {
   "cell_type": "code",
   "execution_count": 7,
   "id": "660aebf7",
   "metadata": {
    "execution": {
     "iopub.execute_input": "2024-07-18T17:31:21.293733Z",
     "iopub.status.busy": "2024-07-18T17:31:21.293342Z",
     "iopub.status.idle": "2024-07-18T17:31:21.313002Z",
     "shell.execute_reply": "2024-07-18T17:31:21.311839Z"
    },
    "id": "L1UXr-75WflB",
    "papermill": {
     "duration": 0.030772,
     "end_time": "2024-07-18T17:31:21.315671",
     "exception": false,
     "start_time": "2024-07-18T17:31:21.284899",
     "status": "completed"
    },
    "tags": []
   },
   "outputs": [
    {
     "data": {
      "text/html": [
       "<div>\n",
       "<style scoped>\n",
       "    .dataframe tbody tr th:only-of-type {\n",
       "        vertical-align: middle;\n",
       "    }\n",
       "\n",
       "    .dataframe tbody tr th {\n",
       "        vertical-align: top;\n",
       "    }\n",
       "\n",
       "    .dataframe thead th {\n",
       "        text-align: right;\n",
       "    }\n",
       "</style>\n",
       "<table border=\"1\" class=\"dataframe\">\n",
       "  <thead>\n",
       "    <tr style=\"text-align: right;\">\n",
       "      <th></th>\n",
       "      <th>pclass</th>\n",
       "      <th>sex</th>\n",
       "      <th>age</th>\n",
       "      <th>relatives</th>\n",
       "      <th>parch</th>\n",
       "      <th>fare</th>\n",
       "      <th>embarked</th>\n",
       "    </tr>\n",
       "  </thead>\n",
       "  <tbody>\n",
       "    <tr>\n",
       "      <th>368</th>\n",
       "      <td>3</td>\n",
       "      <td>female</td>\n",
       "      <td>NaN</td>\n",
       "      <td>0</td>\n",
       "      <td>0</td>\n",
       "      <td>7.7500</td>\n",
       "      <td>Q</td>\n",
       "    </tr>\n",
       "    <tr>\n",
       "      <th>751</th>\n",
       "      <td>3</td>\n",
       "      <td>male</td>\n",
       "      <td>6.0</td>\n",
       "      <td>0</td>\n",
       "      <td>1</td>\n",
       "      <td>12.4750</td>\n",
       "      <td>S</td>\n",
       "    </tr>\n",
       "    <tr>\n",
       "      <th>1</th>\n",
       "      <td>1</td>\n",
       "      <td>female</td>\n",
       "      <td>38.0</td>\n",
       "      <td>1</td>\n",
       "      <td>0</td>\n",
       "      <td>71.2833</td>\n",
       "      <td>C</td>\n",
       "    </tr>\n",
       "    <tr>\n",
       "      <th>854</th>\n",
       "      <td>2</td>\n",
       "      <td>female</td>\n",
       "      <td>44.0</td>\n",
       "      <td>1</td>\n",
       "      <td>0</td>\n",
       "      <td>26.0000</td>\n",
       "      <td>S</td>\n",
       "    </tr>\n",
       "    <tr>\n",
       "      <th>736</th>\n",
       "      <td>3</td>\n",
       "      <td>female</td>\n",
       "      <td>48.0</td>\n",
       "      <td>1</td>\n",
       "      <td>3</td>\n",
       "      <td>34.3750</td>\n",
       "      <td>S</td>\n",
       "    </tr>\n",
       "    <tr>\n",
       "      <th>427</th>\n",
       "      <td>2</td>\n",
       "      <td>female</td>\n",
       "      <td>19.0</td>\n",
       "      <td>0</td>\n",
       "      <td>0</td>\n",
       "      <td>26.0000</td>\n",
       "      <td>S</td>\n",
       "    </tr>\n",
       "    <tr>\n",
       "      <th>108</th>\n",
       "      <td>3</td>\n",
       "      <td>male</td>\n",
       "      <td>38.0</td>\n",
       "      <td>0</td>\n",
       "      <td>0</td>\n",
       "      <td>7.8958</td>\n",
       "      <td>S</td>\n",
       "    </tr>\n",
       "    <tr>\n",
       "      <th>705</th>\n",
       "      <td>2</td>\n",
       "      <td>male</td>\n",
       "      <td>39.0</td>\n",
       "      <td>0</td>\n",
       "      <td>0</td>\n",
       "      <td>26.0000</td>\n",
       "      <td>S</td>\n",
       "    </tr>\n",
       "    <tr>\n",
       "      <th>591</th>\n",
       "      <td>1</td>\n",
       "      <td>female</td>\n",
       "      <td>52.0</td>\n",
       "      <td>1</td>\n",
       "      <td>0</td>\n",
       "      <td>78.2667</td>\n",
       "      <td>C</td>\n",
       "    </tr>\n",
       "    <tr>\n",
       "      <th>145</th>\n",
       "      <td>2</td>\n",
       "      <td>male</td>\n",
       "      <td>19.0</td>\n",
       "      <td>1</td>\n",
       "      <td>1</td>\n",
       "      <td>36.7500</td>\n",
       "      <td>S</td>\n",
       "    </tr>\n",
       "  </tbody>\n",
       "</table>\n",
       "</div>"
      ],
      "text/plain": [
       "     pclass     sex   age  relatives  parch     fare embarked\n",
       "368       3  female   NaN          0      0   7.7500        Q\n",
       "751       3    male   6.0          0      1  12.4750        S\n",
       "1         1  female  38.0          1      0  71.2833        C\n",
       "854       2  female  44.0          1      0  26.0000        S\n",
       "736       3  female  48.0          1      3  34.3750        S\n",
       "427       2  female  19.0          0      0  26.0000        S\n",
       "108       3    male  38.0          0      0   7.8958        S\n",
       "705       2    male  39.0          0      0  26.0000        S\n",
       "591       1  female  52.0          1      0  78.2667        C\n",
       "145       2    male  19.0          1      1  36.7500        S"
      ]
     },
     "execution_count": 7,
     "metadata": {},
     "output_type": "execute_result"
    }
   ],
   "source": [
    "df.rename(columns={'sibsp':'relatives'}, inplace=True)\n",
    "df.sample(10)"
   ]
  },
  {
   "cell_type": "markdown",
   "id": "cad74c91",
   "metadata": {
    "id": "GggTkcdOV3D0",
    "papermill": {
     "duration": 0.007038,
     "end_time": "2024-07-18T17:31:21.330273",
     "exception": false,
     "start_time": "2024-07-18T17:31:21.323235",
     "status": "completed"
    },
    "tags": []
   },
   "source": [
    "# Завдання 6\n",
    "Видаліть стовпчик, в якому найбільше пропусків. Якщо пропущені значення ще залишаться, видаліть рядки з пропусками"
   ]
  },
  {
   "cell_type": "code",
   "execution_count": 8,
   "id": "dd98b323",
   "metadata": {
    "execution": {
     "iopub.execute_input": "2024-07-18T17:31:21.347092Z",
     "iopub.status.busy": "2024-07-18T17:31:21.346287Z",
     "iopub.status.idle": "2024-07-18T17:31:21.356648Z",
     "shell.execute_reply": "2024-07-18T17:31:21.355527Z"
    },
    "id": "TDeDRKJCSSpV",
    "papermill": {
     "duration": 0.021836,
     "end_time": "2024-07-18T17:31:21.359560",
     "exception": false,
     "start_time": "2024-07-18T17:31:21.337724",
     "status": "completed"
    },
    "tags": []
   },
   "outputs": [
    {
     "name": "stdout",
     "output_type": "stream",
     "text": [
      "age\n",
      "<class 'str'>\n"
     ]
    }
   ],
   "source": [
    "column_with_most_nans = df.isnull().sum().idxmax()\n",
    "print(column_with_most_nans)\n",
    "print(type(column_with_most_nans))\n",
    "\n",
    "df.drop(columns=[column_with_most_nans], inplace=True)\n"
   ]
  },
  {
   "cell_type": "code",
   "execution_count": 9,
   "id": "2b3bdbbd",
   "metadata": {
    "execution": {
     "iopub.execute_input": "2024-07-18T17:31:21.376140Z",
     "iopub.status.busy": "2024-07-18T17:31:21.375710Z",
     "iopub.status.idle": "2024-07-18T17:31:21.398702Z",
     "shell.execute_reply": "2024-07-18T17:31:21.397390Z"
    },
    "papermill": {
     "duration": 0.034104,
     "end_time": "2024-07-18T17:31:21.401011",
     "exception": false,
     "start_time": "2024-07-18T17:31:21.366907",
     "status": "completed"
    },
    "tags": []
   },
   "outputs": [
    {
     "name": "stdout",
     "output_type": "stream",
     "text": [
      "pclass       0\n",
      "sex          0\n",
      "relatives    0\n",
      "parch        0\n",
      "fare         0\n",
      "embarked     2\n",
      "dtype: int64\n",
      "pclass       0\n",
      "sex          0\n",
      "relatives    0\n",
      "parch        0\n",
      "fare         0\n",
      "embarked     0\n",
      "dtype: int64\n"
     ]
    },
    {
     "data": {
      "text/html": [
       "<div>\n",
       "<style scoped>\n",
       "    .dataframe tbody tr th:only-of-type {\n",
       "        vertical-align: middle;\n",
       "    }\n",
       "\n",
       "    .dataframe tbody tr th {\n",
       "        vertical-align: top;\n",
       "    }\n",
       "\n",
       "    .dataframe thead th {\n",
       "        text-align: right;\n",
       "    }\n",
       "</style>\n",
       "<table border=\"1\" class=\"dataframe\">\n",
       "  <thead>\n",
       "    <tr style=\"text-align: right;\">\n",
       "      <th></th>\n",
       "      <th>pclass</th>\n",
       "      <th>sex</th>\n",
       "      <th>relatives</th>\n",
       "      <th>parch</th>\n",
       "      <th>fare</th>\n",
       "      <th>embarked</th>\n",
       "    </tr>\n",
       "  </thead>\n",
       "  <tbody>\n",
       "    <tr>\n",
       "      <th>0</th>\n",
       "      <td>3</td>\n",
       "      <td>male</td>\n",
       "      <td>1</td>\n",
       "      <td>0</td>\n",
       "      <td>7.2500</td>\n",
       "      <td>S</td>\n",
       "    </tr>\n",
       "    <tr>\n",
       "      <th>1</th>\n",
       "      <td>1</td>\n",
       "      <td>female</td>\n",
       "      <td>1</td>\n",
       "      <td>0</td>\n",
       "      <td>71.2833</td>\n",
       "      <td>C</td>\n",
       "    </tr>\n",
       "    <tr>\n",
       "      <th>2</th>\n",
       "      <td>3</td>\n",
       "      <td>female</td>\n",
       "      <td>0</td>\n",
       "      <td>0</td>\n",
       "      <td>7.9250</td>\n",
       "      <td>S</td>\n",
       "    </tr>\n",
       "    <tr>\n",
       "      <th>3</th>\n",
       "      <td>1</td>\n",
       "      <td>female</td>\n",
       "      <td>1</td>\n",
       "      <td>0</td>\n",
       "      <td>53.1000</td>\n",
       "      <td>S</td>\n",
       "    </tr>\n",
       "    <tr>\n",
       "      <th>4</th>\n",
       "      <td>3</td>\n",
       "      <td>male</td>\n",
       "      <td>0</td>\n",
       "      <td>0</td>\n",
       "      <td>8.0500</td>\n",
       "      <td>S</td>\n",
       "    </tr>\n",
       "    <tr>\n",
       "      <th>...</th>\n",
       "      <td>...</td>\n",
       "      <td>...</td>\n",
       "      <td>...</td>\n",
       "      <td>...</td>\n",
       "      <td>...</td>\n",
       "      <td>...</td>\n",
       "    </tr>\n",
       "    <tr>\n",
       "      <th>886</th>\n",
       "      <td>2</td>\n",
       "      <td>male</td>\n",
       "      <td>0</td>\n",
       "      <td>0</td>\n",
       "      <td>13.0000</td>\n",
       "      <td>S</td>\n",
       "    </tr>\n",
       "    <tr>\n",
       "      <th>887</th>\n",
       "      <td>1</td>\n",
       "      <td>female</td>\n",
       "      <td>0</td>\n",
       "      <td>0</td>\n",
       "      <td>30.0000</td>\n",
       "      <td>S</td>\n",
       "    </tr>\n",
       "    <tr>\n",
       "      <th>888</th>\n",
       "      <td>3</td>\n",
       "      <td>female</td>\n",
       "      <td>1</td>\n",
       "      <td>2</td>\n",
       "      <td>23.4500</td>\n",
       "      <td>S</td>\n",
       "    </tr>\n",
       "    <tr>\n",
       "      <th>889</th>\n",
       "      <td>1</td>\n",
       "      <td>male</td>\n",
       "      <td>0</td>\n",
       "      <td>0</td>\n",
       "      <td>30.0000</td>\n",
       "      <td>C</td>\n",
       "    </tr>\n",
       "    <tr>\n",
       "      <th>890</th>\n",
       "      <td>3</td>\n",
       "      <td>male</td>\n",
       "      <td>0</td>\n",
       "      <td>0</td>\n",
       "      <td>7.7500</td>\n",
       "      <td>Q</td>\n",
       "    </tr>\n",
       "  </tbody>\n",
       "</table>\n",
       "<p>889 rows × 6 columns</p>\n",
       "</div>"
      ],
      "text/plain": [
       "     pclass     sex  relatives  parch     fare embarked\n",
       "0         3    male          1      0   7.2500        S\n",
       "1         1  female          1      0  71.2833        C\n",
       "2         3  female          0      0   7.9250        S\n",
       "3         1  female          1      0  53.1000        S\n",
       "4         3    male          0      0   8.0500        S\n",
       "..      ...     ...        ...    ...      ...      ...\n",
       "886       2    male          0      0  13.0000        S\n",
       "887       1  female          0      0  30.0000        S\n",
       "888       3  female          1      2  23.4500        S\n",
       "889       1    male          0      0  30.0000        C\n",
       "890       3    male          0      0   7.7500        Q\n",
       "\n",
       "[889 rows x 6 columns]"
      ]
     },
     "execution_count": 9,
     "metadata": {},
     "output_type": "execute_result"
    }
   ],
   "source": [
    "print(df.isna().sum())\n",
    "df.dropna(inplace=True)\n",
    "print(df.isna().sum())\n",
    "df"
   ]
  },
  {
   "cell_type": "code",
   "execution_count": null,
   "id": "bfebe744",
   "metadata": {
    "papermill": {
     "duration": 0.00774,
     "end_time": "2024-07-18T17:31:21.416564",
     "exception": false,
     "start_time": "2024-07-18T17:31:21.408824",
     "status": "completed"
    },
    "tags": []
   },
   "outputs": [],
   "source": []
  }
 ],
 "metadata": {
  "colab": {
   "authorship_tag": "ABX9TyM5GfSjAX/XwAEtwmX2ywd2",
   "include_colab_link": true,
   "provenance": []
  },
  "kaggle": {
   "accelerator": "none",
   "dataSources": [],
   "dockerImageVersionId": 30746,
   "isGpuEnabled": false,
   "isInternetEnabled": true,
   "language": "python",
   "sourceType": "notebook"
  },
  "kernelspec": {
   "display_name": "Python 3",
   "language": "python",
   "name": "python3"
  },
  "language_info": {
   "codemirror_mode": {
    "name": "ipython",
    "version": 3
   },
   "file_extension": ".py",
   "mimetype": "text/x-python",
   "name": "python",
   "nbconvert_exporter": "python",
   "pygments_lexer": "ipython3",
   "version": "3.10.13"
  },
  "papermill": {
   "default_parameters": {},
   "duration": 5.275543,
   "end_time": "2024-07-18T17:31:21.947993",
   "environment_variables": {},
   "exception": null,
   "input_path": "__notebook__.ipynb",
   "output_path": "__notebook__.ipynb",
   "parameters": {},
   "start_time": "2024-07-18T17:31:16.672450",
   "version": "2.5.0"
  }
 },
 "nbformat": 4,
 "nbformat_minor": 5
}
